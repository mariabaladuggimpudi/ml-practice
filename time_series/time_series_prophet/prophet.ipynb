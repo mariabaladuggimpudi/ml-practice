{
 "cells": [
  {
   "cell_type": "code",
   "execution_count": 203,
   "id": "8c7d2b74-2b5b-4153-87f0-3a25ab15f53d",
   "metadata": {},
   "outputs": [],
   "source": [
    "from prophet import Prophet\n",
    "import pandas as pd\n",
    "import matplotlib.pyplot as plt\n",
    "import numpy as np\n",
    "\n",
    "plt.rc('font', size=14)\n",
    "plt.rc('axes', labelsize=14, titlesize=14)\n",
    "plt.rc('legend', fontsize=14)\n",
    "plt.rc('xtick', labelsize=10)\n",
    "plt.rc('ytick', labelsize=10)"
   ]
  },
  {
   "cell_type": "code",
   "execution_count": 138,
   "id": "b9aaefec-7f57-4bda-860c-62bfdb78bf0d",
   "metadata": {},
   "outputs": [],
   "source": [
    "df = pd.read_csv(\"/home/jupyter/time_series/preprocessed_success_trans0725_0824.csv\")"
   ]
  },
  {
   "cell_type": "code",
   "execution_count": 139,
   "id": "fc2d0bd7-c7bc-461d-a953-b331cbe61d7a",
   "metadata": {},
   "outputs": [],
   "source": [
    "df['Datetime'] = pd.to_datetime(df['Datetime'])"
   ]
  },
  {
   "cell_type": "code",
   "execution_count": 140,
   "id": "4814acc6-3ad5-4fe4-8c37-b912aa5072d7",
   "metadata": {},
   "outputs": [
    {
     "data": {
      "text/html": [
       "<div>\n",
       "<style scoped>\n",
       "    .dataframe tbody tr th:only-of-type {\n",
       "        vertical-align: middle;\n",
       "    }\n",
       "\n",
       "    .dataframe tbody tr th {\n",
       "        vertical-align: top;\n",
       "    }\n",
       "\n",
       "    .dataframe thead th {\n",
       "        text-align: right;\n",
       "    }\n",
       "</style>\n",
       "<table border=\"1\" class=\"dataframe\">\n",
       "  <thead>\n",
       "    <tr style=\"text-align: right;\">\n",
       "      <th></th>\n",
       "      <th>Datetime</th>\n",
       "      <th>success_transactions</th>\n",
       "    </tr>\n",
       "  </thead>\n",
       "  <tbody>\n",
       "    <tr>\n",
       "      <th>0</th>\n",
       "      <td>2023-07-26 00:00:00+00:00</td>\n",
       "      <td>528.0</td>\n",
       "    </tr>\n",
       "    <tr>\n",
       "      <th>1</th>\n",
       "      <td>2023-07-26 00:05:00+00:00</td>\n",
       "      <td>672.0</td>\n",
       "    </tr>\n",
       "    <tr>\n",
       "      <th>2</th>\n",
       "      <td>2023-07-26 00:10:00+00:00</td>\n",
       "      <td>770.0</td>\n",
       "    </tr>\n",
       "    <tr>\n",
       "      <th>3</th>\n",
       "      <td>2023-07-26 00:15:00+00:00</td>\n",
       "      <td>668.0</td>\n",
       "    </tr>\n",
       "    <tr>\n",
       "      <th>4</th>\n",
       "      <td>2023-07-26 00:20:00+00:00</td>\n",
       "      <td>816.0</td>\n",
       "    </tr>\n",
       "  </tbody>\n",
       "</table>\n",
       "</div>"
      ],
      "text/plain": [
       "                   Datetime  success_transactions\n",
       "0 2023-07-26 00:00:00+00:00                 528.0\n",
       "1 2023-07-26 00:05:00+00:00                 672.0\n",
       "2 2023-07-26 00:10:00+00:00                 770.0\n",
       "3 2023-07-26 00:15:00+00:00                 668.0\n",
       "4 2023-07-26 00:20:00+00:00                 816.0"
      ]
     },
     "execution_count": 140,
     "metadata": {},
     "output_type": "execute_result"
    }
   ],
   "source": [
    "df.head()"
   ]
  },
  {
   "cell_type": "code",
   "execution_count": 141,
   "id": "837cd1d0-3bb1-42d0-aef6-9ed5c9727e11",
   "metadata": {},
   "outputs": [
    {
     "data": {
      "text/plain": [
       "Datetime                datetime64[ns, UTC]\n",
       "success_transactions                float64\n",
       "dtype: object"
      ]
     },
     "execution_count": 141,
     "metadata": {},
     "output_type": "execute_result"
    }
   ],
   "source": [
    "df.dtypes"
   ]
  },
  {
   "cell_type": "code",
   "execution_count": 142,
   "id": "690c328b-59c2-4eae-ba60-0d92819c4374",
   "metadata": {},
   "outputs": [],
   "source": [
    "df.columns = ['ds', 'y']"
   ]
  },
  {
   "cell_type": "code",
   "execution_count": 143,
   "id": "9bc8110e-0016-43bb-9c15-ad4bbcbf8541",
   "metadata": {},
   "outputs": [
    {
     "data": {
      "text/html": [
       "<div>\n",
       "<style scoped>\n",
       "    .dataframe tbody tr th:only-of-type {\n",
       "        vertical-align: middle;\n",
       "    }\n",
       "\n",
       "    .dataframe tbody tr th {\n",
       "        vertical-align: top;\n",
       "    }\n",
       "\n",
       "    .dataframe thead th {\n",
       "        text-align: right;\n",
       "    }\n",
       "</style>\n",
       "<table border=\"1\" class=\"dataframe\">\n",
       "  <thead>\n",
       "    <tr style=\"text-align: right;\">\n",
       "      <th></th>\n",
       "      <th>ds</th>\n",
       "      <th>y</th>\n",
       "    </tr>\n",
       "  </thead>\n",
       "  <tbody>\n",
       "    <tr>\n",
       "      <th>0</th>\n",
       "      <td>2023-07-26 00:00:00+00:00</td>\n",
       "      <td>528.0</td>\n",
       "    </tr>\n",
       "    <tr>\n",
       "      <th>1</th>\n",
       "      <td>2023-07-26 00:05:00+00:00</td>\n",
       "      <td>672.0</td>\n",
       "    </tr>\n",
       "    <tr>\n",
       "      <th>2</th>\n",
       "      <td>2023-07-26 00:10:00+00:00</td>\n",
       "      <td>770.0</td>\n",
       "    </tr>\n",
       "    <tr>\n",
       "      <th>3</th>\n",
       "      <td>2023-07-26 00:15:00+00:00</td>\n",
       "      <td>668.0</td>\n",
       "    </tr>\n",
       "    <tr>\n",
       "      <th>4</th>\n",
       "      <td>2023-07-26 00:20:00+00:00</td>\n",
       "      <td>816.0</td>\n",
       "    </tr>\n",
       "  </tbody>\n",
       "</table>\n",
       "</div>"
      ],
      "text/plain": [
       "                         ds      y\n",
       "0 2023-07-26 00:00:00+00:00  528.0\n",
       "1 2023-07-26 00:05:00+00:00  672.0\n",
       "2 2023-07-26 00:10:00+00:00  770.0\n",
       "3 2023-07-26 00:15:00+00:00  668.0\n",
       "4 2023-07-26 00:20:00+00:00  816.0"
      ]
     },
     "execution_count": 143,
     "metadata": {},
     "output_type": "execute_result"
    }
   ],
   "source": [
    "df.head()"
   ]
  },
  {
   "cell_type": "code",
   "execution_count": 144,
   "id": "09b0bedf-adff-4ef6-8a8c-a882ce4c6113",
   "metadata": {},
   "outputs": [],
   "source": [
    "df['ds'] = df['ds'].dt.tz_localize(None)"
   ]
  },
  {
   "cell_type": "code",
   "execution_count": 145,
   "id": "e6dcf7d3-5a7e-410c-89e7-77d88216ac57",
   "metadata": {},
   "outputs": [
    {
     "data": {
      "text/html": [
       "<div>\n",
       "<style scoped>\n",
       "    .dataframe tbody tr th:only-of-type {\n",
       "        vertical-align: middle;\n",
       "    }\n",
       "\n",
       "    .dataframe tbody tr th {\n",
       "        vertical-align: top;\n",
       "    }\n",
       "\n",
       "    .dataframe thead th {\n",
       "        text-align: right;\n",
       "    }\n",
       "</style>\n",
       "<table border=\"1\" class=\"dataframe\">\n",
       "  <thead>\n",
       "    <tr style=\"text-align: right;\">\n",
       "      <th></th>\n",
       "      <th>ds</th>\n",
       "      <th>y</th>\n",
       "    </tr>\n",
       "  </thead>\n",
       "  <tbody>\n",
       "    <tr>\n",
       "      <th>0</th>\n",
       "      <td>2023-07-26 00:00:00</td>\n",
       "      <td>528.0</td>\n",
       "    </tr>\n",
       "    <tr>\n",
       "      <th>1</th>\n",
       "      <td>2023-07-26 00:05:00</td>\n",
       "      <td>672.0</td>\n",
       "    </tr>\n",
       "    <tr>\n",
       "      <th>2</th>\n",
       "      <td>2023-07-26 00:10:00</td>\n",
       "      <td>770.0</td>\n",
       "    </tr>\n",
       "    <tr>\n",
       "      <th>3</th>\n",
       "      <td>2023-07-26 00:15:00</td>\n",
       "      <td>668.0</td>\n",
       "    </tr>\n",
       "    <tr>\n",
       "      <th>4</th>\n",
       "      <td>2023-07-26 00:20:00</td>\n",
       "      <td>816.0</td>\n",
       "    </tr>\n",
       "  </tbody>\n",
       "</table>\n",
       "</div>"
      ],
      "text/plain": [
       "                   ds      y\n",
       "0 2023-07-26 00:00:00  528.0\n",
       "1 2023-07-26 00:05:00  672.0\n",
       "2 2023-07-26 00:10:00  770.0\n",
       "3 2023-07-26 00:15:00  668.0\n",
       "4 2023-07-26 00:20:00  816.0"
      ]
     },
     "execution_count": 145,
     "metadata": {},
     "output_type": "execute_result"
    }
   ],
   "source": [
    "df.head()"
   ]
  },
  {
   "cell_type": "code",
   "execution_count": null,
   "id": "c5801d5f-eac9-491a-ba30-b850abfa08bb",
   "metadata": {},
   "outputs": [],
   "source": []
  },
  {
   "cell_type": "code",
   "execution_count": null,
   "id": "57fed8f5-f902-46dc-b1b6-66134901006b",
   "metadata": {},
   "outputs": [],
   "source": []
  },
  {
   "cell_type": "code",
   "execution_count": null,
   "id": "da98bf6e-206a-4051-87c3-08e8bbed1a4c",
   "metadata": {},
   "outputs": [],
   "source": []
  },
  {
   "cell_type": "code",
   "execution_count": 146,
   "id": "bc36c73c-0e29-4c55-9424-ed0ba04e05d2",
   "metadata": {},
   "outputs": [],
   "source": [
    "#df.set_index('Datetime', inplace=True)"
   ]
  },
  {
   "cell_type": "code",
   "execution_count": 147,
   "id": "9e3a0ec4-0d9c-4bf0-9207-9b0d9aef1692",
   "metadata": {},
   "outputs": [
    {
     "data": {
      "text/html": [
       "<div>\n",
       "<style scoped>\n",
       "    .dataframe tbody tr th:only-of-type {\n",
       "        vertical-align: middle;\n",
       "    }\n",
       "\n",
       "    .dataframe tbody tr th {\n",
       "        vertical-align: top;\n",
       "    }\n",
       "\n",
       "    .dataframe thead th {\n",
       "        text-align: right;\n",
       "    }\n",
       "</style>\n",
       "<table border=\"1\" class=\"dataframe\">\n",
       "  <thead>\n",
       "    <tr style=\"text-align: right;\">\n",
       "      <th></th>\n",
       "      <th>ds</th>\n",
       "      <th>y</th>\n",
       "    </tr>\n",
       "  </thead>\n",
       "  <tbody>\n",
       "    <tr>\n",
       "      <th>0</th>\n",
       "      <td>2023-07-26 00:00:00</td>\n",
       "      <td>528.0</td>\n",
       "    </tr>\n",
       "    <tr>\n",
       "      <th>1</th>\n",
       "      <td>2023-07-26 00:05:00</td>\n",
       "      <td>672.0</td>\n",
       "    </tr>\n",
       "    <tr>\n",
       "      <th>2</th>\n",
       "      <td>2023-07-26 00:10:00</td>\n",
       "      <td>770.0</td>\n",
       "    </tr>\n",
       "    <tr>\n",
       "      <th>3</th>\n",
       "      <td>2023-07-26 00:15:00</td>\n",
       "      <td>668.0</td>\n",
       "    </tr>\n",
       "    <tr>\n",
       "      <th>4</th>\n",
       "      <td>2023-07-26 00:20:00</td>\n",
       "      <td>816.0</td>\n",
       "    </tr>\n",
       "  </tbody>\n",
       "</table>\n",
       "</div>"
      ],
      "text/plain": [
       "                   ds      y\n",
       "0 2023-07-26 00:00:00  528.0\n",
       "1 2023-07-26 00:05:00  672.0\n",
       "2 2023-07-26 00:10:00  770.0\n",
       "3 2023-07-26 00:15:00  668.0\n",
       "4 2023-07-26 00:20:00  816.0"
      ]
     },
     "execution_count": 147,
     "metadata": {},
     "output_type": "execute_result"
    }
   ],
   "source": [
    "df.head()"
   ]
  },
  {
   "cell_type": "code",
   "execution_count": 148,
   "id": "e11cba04-a633-4aaf-abe6-0bf81d5e5c38",
   "metadata": {},
   "outputs": [],
   "source": [
    "model = Prophet()"
   ]
  },
  {
   "cell_type": "code",
   "execution_count": 149,
   "id": "223096dc-b804-41d2-bae6-b2ad095809dd",
   "metadata": {},
   "outputs": [
    {
     "name": "stderr",
     "output_type": "stream",
     "text": [
      "14:46:10 - cmdstanpy - INFO - Chain [1] start processing\n",
      "14:46:12 - cmdstanpy - INFO - Chain [1] done processing\n"
     ]
    },
    {
     "data": {
      "text/plain": [
       "<prophet.forecaster.Prophet at 0x7f6c91ab7190>"
      ]
     },
     "execution_count": 149,
     "metadata": {},
     "output_type": "execute_result"
    }
   ],
   "source": [
    "model.fit(df)"
   ]
  },
  {
   "cell_type": "code",
   "execution_count": null,
   "id": "a2dfce3e-55ee-4cdb-b87f-c02def091271",
   "metadata": {},
   "outputs": [],
   "source": []
  },
  {
   "cell_type": "code",
   "execution_count": 150,
   "id": "82df4ec6-8476-4bad-ab2d-07276fd0abb0",
   "metadata": {},
   "outputs": [
    {
     "data": {
      "text/html": [
       "<div>\n",
       "<style scoped>\n",
       "    .dataframe tbody tr th:only-of-type {\n",
       "        vertical-align: middle;\n",
       "    }\n",
       "\n",
       "    .dataframe tbody tr th {\n",
       "        vertical-align: top;\n",
       "    }\n",
       "\n",
       "    .dataframe thead th {\n",
       "        text-align: right;\n",
       "    }\n",
       "</style>\n",
       "<table border=\"1\" class=\"dataframe\">\n",
       "  <thead>\n",
       "    <tr style=\"text-align: right;\">\n",
       "      <th></th>\n",
       "      <th>ds</th>\n",
       "    </tr>\n",
       "  </thead>\n",
       "  <tbody>\n",
       "    <tr>\n",
       "      <th>8359</th>\n",
       "      <td>2023-08-24 00:35:00</td>\n",
       "    </tr>\n",
       "    <tr>\n",
       "      <th>8360</th>\n",
       "      <td>2023-08-24 00:40:00</td>\n",
       "    </tr>\n",
       "    <tr>\n",
       "      <th>8361</th>\n",
       "      <td>2023-08-24 00:45:00</td>\n",
       "    </tr>\n",
       "    <tr>\n",
       "      <th>8362</th>\n",
       "      <td>2023-08-24 00:50:00</td>\n",
       "    </tr>\n",
       "    <tr>\n",
       "      <th>8363</th>\n",
       "      <td>2023-08-24 00:55:00</td>\n",
       "    </tr>\n",
       "  </tbody>\n",
       "</table>\n",
       "</div>"
      ],
      "text/plain": [
       "                      ds\n",
       "8359 2023-08-24 00:35:00\n",
       "8360 2023-08-24 00:40:00\n",
       "8361 2023-08-24 00:45:00\n",
       "8362 2023-08-24 00:50:00\n",
       "8363 2023-08-24 00:55:00"
      ]
     },
     "execution_count": 150,
     "metadata": {},
     "output_type": "execute_result"
    }
   ],
   "source": [
    "# Create a future dataframe\n",
    "future = model.make_future_dataframe(periods=12, freq='5min')\n",
    "future.tail()"
   ]
  },
  {
   "cell_type": "code",
   "execution_count": 151,
   "id": "58399135-abf3-4116-88dd-042eed45b065",
   "metadata": {},
   "outputs": [
    {
     "data": {
      "text/html": [
       "<div>\n",
       "<style scoped>\n",
       "    .dataframe tbody tr th:only-of-type {\n",
       "        vertical-align: middle;\n",
       "    }\n",
       "\n",
       "    .dataframe tbody tr th {\n",
       "        vertical-align: top;\n",
       "    }\n",
       "\n",
       "    .dataframe thead th {\n",
       "        text-align: right;\n",
       "    }\n",
       "</style>\n",
       "<table border=\"1\" class=\"dataframe\">\n",
       "  <thead>\n",
       "    <tr style=\"text-align: right;\">\n",
       "      <th></th>\n",
       "      <th>ds</th>\n",
       "    </tr>\n",
       "  </thead>\n",
       "  <tbody>\n",
       "    <tr>\n",
       "      <th>0</th>\n",
       "      <td>2023-07-26 00:00:00</td>\n",
       "    </tr>\n",
       "    <tr>\n",
       "      <th>1</th>\n",
       "      <td>2023-07-26 00:05:00</td>\n",
       "    </tr>\n",
       "    <tr>\n",
       "      <th>2</th>\n",
       "      <td>2023-07-26 00:10:00</td>\n",
       "    </tr>\n",
       "    <tr>\n",
       "      <th>3</th>\n",
       "      <td>2023-07-26 00:15:00</td>\n",
       "    </tr>\n",
       "    <tr>\n",
       "      <th>4</th>\n",
       "      <td>2023-07-26 00:20:00</td>\n",
       "    </tr>\n",
       "  </tbody>\n",
       "</table>\n",
       "</div>"
      ],
      "text/plain": [
       "                   ds\n",
       "0 2023-07-26 00:00:00\n",
       "1 2023-07-26 00:05:00\n",
       "2 2023-07-26 00:10:00\n",
       "3 2023-07-26 00:15:00\n",
       "4 2023-07-26 00:20:00"
      ]
     },
     "execution_count": 151,
     "metadata": {},
     "output_type": "execute_result"
    }
   ],
   "source": [
    "future.head()"
   ]
  },
  {
   "cell_type": "code",
   "execution_count": 152,
   "id": "e798c334-5e20-46e6-8855-148c964ef915",
   "metadata": {},
   "outputs": [
    {
     "data": {
      "text/html": [
       "<div>\n",
       "<style scoped>\n",
       "    .dataframe tbody tr th:only-of-type {\n",
       "        vertical-align: middle;\n",
       "    }\n",
       "\n",
       "    .dataframe tbody tr th {\n",
       "        vertical-align: top;\n",
       "    }\n",
       "\n",
       "    .dataframe thead th {\n",
       "        text-align: right;\n",
       "    }\n",
       "</style>\n",
       "<table border=\"1\" class=\"dataframe\">\n",
       "  <thead>\n",
       "    <tr style=\"text-align: right;\">\n",
       "      <th></th>\n",
       "      <th>ds</th>\n",
       "      <th>yhat</th>\n",
       "      <th>yhat_lower</th>\n",
       "      <th>yhat_upper</th>\n",
       "    </tr>\n",
       "  </thead>\n",
       "  <tbody>\n",
       "    <tr>\n",
       "      <th>8359</th>\n",
       "      <td>2023-08-24 00:35:00</td>\n",
       "      <td>417.651020</td>\n",
       "      <td>-62.896863</td>\n",
       "      <td>890.622983</td>\n",
       "    </tr>\n",
       "    <tr>\n",
       "      <th>8360</th>\n",
       "      <td>2023-08-24 00:40:00</td>\n",
       "      <td>410.107493</td>\n",
       "      <td>-91.121170</td>\n",
       "      <td>912.958983</td>\n",
       "    </tr>\n",
       "    <tr>\n",
       "      <th>8361</th>\n",
       "      <td>2023-08-24 00:45:00</td>\n",
       "      <td>402.522875</td>\n",
       "      <td>-95.772687</td>\n",
       "      <td>876.373265</td>\n",
       "    </tr>\n",
       "    <tr>\n",
       "      <th>8362</th>\n",
       "      <td>2023-08-24 00:50:00</td>\n",
       "      <td>394.888562</td>\n",
       "      <td>-80.160369</td>\n",
       "      <td>827.316344</td>\n",
       "    </tr>\n",
       "    <tr>\n",
       "      <th>8363</th>\n",
       "      <td>2023-08-24 00:55:00</td>\n",
       "      <td>387.196831</td>\n",
       "      <td>-113.331799</td>\n",
       "      <td>883.951351</td>\n",
       "    </tr>\n",
       "  </tbody>\n",
       "</table>\n",
       "</div>"
      ],
      "text/plain": [
       "                      ds        yhat  yhat_lower  yhat_upper\n",
       "8359 2023-08-24 00:35:00  417.651020  -62.896863  890.622983\n",
       "8360 2023-08-24 00:40:00  410.107493  -91.121170  912.958983\n",
       "8361 2023-08-24 00:45:00  402.522875  -95.772687  876.373265\n",
       "8362 2023-08-24 00:50:00  394.888562  -80.160369  827.316344\n",
       "8363 2023-08-24 00:55:00  387.196831 -113.331799  883.951351"
      ]
     },
     "execution_count": 152,
     "metadata": {},
     "output_type": "execute_result"
    }
   ],
   "source": [
    "# Make predictions for the future dates\n",
    "forecast = model.predict(future)\n",
    "forecast[['ds', 'yhat', 'yhat_lower', 'yhat_upper']].tail()"
   ]
  },
  {
   "cell_type": "code",
   "execution_count": 153,
   "id": "87b8afde-8199-45df-ae86-877b7f8e4691",
   "metadata": {},
   "outputs": [
    {
     "data": {
      "text/html": [
       "<div>\n",
       "<style scoped>\n",
       "    .dataframe tbody tr th:only-of-type {\n",
       "        vertical-align: middle;\n",
       "    }\n",
       "\n",
       "    .dataframe tbody tr th {\n",
       "        vertical-align: top;\n",
       "    }\n",
       "\n",
       "    .dataframe thead th {\n",
       "        text-align: right;\n",
       "    }\n",
       "</style>\n",
       "<table border=\"1\" class=\"dataframe\">\n",
       "  <thead>\n",
       "    <tr style=\"text-align: right;\">\n",
       "      <th></th>\n",
       "      <th>ds</th>\n",
       "      <th>yhat</th>\n",
       "      <th>yhat_lower</th>\n",
       "      <th>yhat_upper</th>\n",
       "    </tr>\n",
       "  </thead>\n",
       "  <tbody>\n",
       "    <tr>\n",
       "      <th>0</th>\n",
       "      <td>2023-07-26 00:00:00</td>\n",
       "      <td>858.802703</td>\n",
       "      <td>379.826376</td>\n",
       "      <td>1381.224314</td>\n",
       "    </tr>\n",
       "    <tr>\n",
       "      <th>1</th>\n",
       "      <td>2023-07-26 00:05:00</td>\n",
       "      <td>853.298029</td>\n",
       "      <td>386.928050</td>\n",
       "      <td>1309.830046</td>\n",
       "    </tr>\n",
       "    <tr>\n",
       "      <th>2</th>\n",
       "      <td>2023-07-26 00:10:00</td>\n",
       "      <td>847.826009</td>\n",
       "      <td>332.558462</td>\n",
       "      <td>1310.864899</td>\n",
       "    </tr>\n",
       "    <tr>\n",
       "      <th>3</th>\n",
       "      <td>2023-07-26 00:15:00</td>\n",
       "      <td>842.374515</td>\n",
       "      <td>373.274980</td>\n",
       "      <td>1316.702009</td>\n",
       "    </tr>\n",
       "    <tr>\n",
       "      <th>4</th>\n",
       "      <td>2023-07-26 00:20:00</td>\n",
       "      <td>836.931603</td>\n",
       "      <td>332.964749</td>\n",
       "      <td>1313.501260</td>\n",
       "    </tr>\n",
       "  </tbody>\n",
       "</table>\n",
       "</div>"
      ],
      "text/plain": [
       "                   ds        yhat  yhat_lower   yhat_upper\n",
       "0 2023-07-26 00:00:00  858.802703  379.826376  1381.224314\n",
       "1 2023-07-26 00:05:00  853.298029  386.928050  1309.830046\n",
       "2 2023-07-26 00:10:00  847.826009  332.558462  1310.864899\n",
       "3 2023-07-26 00:15:00  842.374515  373.274980  1316.702009\n",
       "4 2023-07-26 00:20:00  836.931603  332.964749  1313.501260"
      ]
     },
     "execution_count": 153,
     "metadata": {},
     "output_type": "execute_result"
    }
   ],
   "source": [
    "forecast[['ds', 'yhat', 'yhat_lower', 'yhat_upper']].head()"
   ]
  },
  {
   "cell_type": "code",
   "execution_count": 154,
   "id": "caee4df7-0c3f-4515-8439-498407d4af80",
   "metadata": {},
   "outputs": [
    {
     "data": {
      "image/png": "[encoded data removed]",
      "text/plain": [
       "<Figure size 1000x600 with 1 Axes>"
      ]
     },
     "metadata": {},
     "output_type": "display_data"
    }
   ],
   "source": [
    "# Visualize the predictions\n",
    "model.plot(forecast)\n",
    "plt.xlabel('Date')\n",
    "plt.ylabel('Total Success Trans')\n",
    "plt.show()"
   ]
  },
  {
   "cell_type": "code",
   "execution_count": 155,
   "id": "79c05bc8-57d7-4e99-a748-f698022259db",
   "metadata": {},
   "outputs": [
    {
     "data": {
      "text/html": [
       "<div>\n",
       "<style scoped>\n",
       "    .dataframe tbody tr th:only-of-type {\n",
       "        vertical-align: middle;\n",
       "    }\n",
       "\n",
       "    .dataframe tbody tr th {\n",
       "        vertical-align: top;\n",
       "    }\n",
       "\n",
       "    .dataframe thead th {\n",
       "        text-align: right;\n",
       "    }\n",
       "</style>\n",
       "<table border=\"1\" class=\"dataframe\">\n",
       "  <thead>\n",
       "    <tr style=\"text-align: right;\">\n",
       "      <th></th>\n",
       "      <th>ds</th>\n",
       "      <th>trend</th>\n",
       "      <th>yhat_lower</th>\n",
       "      <th>yhat_upper</th>\n",
       "      <th>trend_lower</th>\n",
       "      <th>trend_upper</th>\n",
       "      <th>additive_terms</th>\n",
       "      <th>additive_terms_lower</th>\n",
       "      <th>additive_terms_upper</th>\n",
       "      <th>daily</th>\n",
       "      <th>daily_lower</th>\n",
       "      <th>daily_upper</th>\n",
       "      <th>weekly</th>\n",
       "      <th>weekly_lower</th>\n",
       "      <th>weekly_upper</th>\n",
       "      <th>multiplicative_terms</th>\n",
       "      <th>multiplicative_terms_lower</th>\n",
       "      <th>multiplicative_terms_upper</th>\n",
       "      <th>yhat</th>\n",
       "    </tr>\n",
       "  </thead>\n",
       "  <tbody>\n",
       "    <tr>\n",
       "      <th>0</th>\n",
       "      <td>2023-07-26 00:00:00</td>\n",
       "      <td>539.748218</td>\n",
       "      <td>379.826376</td>\n",
       "      <td>1381.224314</td>\n",
       "      <td>539.748218</td>\n",
       "      <td>539.748218</td>\n",
       "      <td>319.054485</td>\n",
       "      <td>319.054485</td>\n",
       "      <td>319.054485</td>\n",
       "      <td>-32.536477</td>\n",
       "      <td>-32.536477</td>\n",
       "      <td>-32.536477</td>\n",
       "      <td>351.590962</td>\n",
       "      <td>351.590962</td>\n",
       "      <td>351.590962</td>\n",
       "      <td>0.0</td>\n",
       "      <td>0.0</td>\n",
       "      <td>0.0</td>\n",
       "      <td>858.802703</td>\n",
       "    </tr>\n",
       "    <tr>\n",
       "      <th>1</th>\n",
       "      <td>2023-07-26 00:05:00</td>\n",
       "      <td>540.174412</td>\n",
       "      <td>386.928050</td>\n",
       "      <td>1309.830046</td>\n",
       "      <td>540.174412</td>\n",
       "      <td>540.174412</td>\n",
       "      <td>313.123617</td>\n",
       "      <td>313.123617</td>\n",
       "      <td>313.123617</td>\n",
       "      <td>-38.807432</td>\n",
       "      <td>-38.807432</td>\n",
       "      <td>-38.807432</td>\n",
       "      <td>351.931050</td>\n",
       "      <td>351.931050</td>\n",
       "      <td>351.931050</td>\n",
       "      <td>0.0</td>\n",
       "      <td>0.0</td>\n",
       "      <td>0.0</td>\n",
       "      <td>853.298029</td>\n",
       "    </tr>\n",
       "    <tr>\n",
       "      <th>2</th>\n",
       "      <td>2023-07-26 00:10:00</td>\n",
       "      <td>540.600606</td>\n",
       "      <td>332.558462</td>\n",
       "      <td>1310.864899</td>\n",
       "      <td>540.600606</td>\n",
       "      <td>540.600606</td>\n",
       "      <td>307.225403</td>\n",
       "      <td>307.225403</td>\n",
       "      <td>307.225403</td>\n",
       "      <td>-45.040423</td>\n",
       "      <td>-45.040423</td>\n",
       "      <td>-45.040423</td>\n",
       "      <td>352.265826</td>\n",
       "      <td>352.265826</td>\n",
       "      <td>352.265826</td>\n",
       "      <td>0.0</td>\n",
       "      <td>0.0</td>\n",
       "      <td>0.0</td>\n",
       "      <td>847.826009</td>\n",
       "    </tr>\n",
       "    <tr>\n",
       "      <th>3</th>\n",
       "      <td>2023-07-26 00:15:00</td>\n",
       "      <td>541.026800</td>\n",
       "      <td>373.274980</td>\n",
       "      <td>1316.702009</td>\n",
       "      <td>541.026800</td>\n",
       "      <td>541.026800</td>\n",
       "      <td>301.347716</td>\n",
       "      <td>301.347716</td>\n",
       "      <td>301.347716</td>\n",
       "      <td>-51.247566</td>\n",
       "      <td>-51.247566</td>\n",
       "      <td>-51.247566</td>\n",
       "      <td>352.595282</td>\n",
       "      <td>352.595282</td>\n",
       "      <td>352.595282</td>\n",
       "      <td>0.0</td>\n",
       "      <td>0.0</td>\n",
       "      <td>0.0</td>\n",
       "      <td>842.374515</td>\n",
       "    </tr>\n",
       "    <tr>\n",
       "      <th>4</th>\n",
       "      <td>2023-07-26 00:20:00</td>\n",
       "      <td>541.452993</td>\n",
       "      <td>332.964749</td>\n",
       "      <td>1313.501260</td>\n",
       "      <td>541.452993</td>\n",
       "      <td>541.452993</td>\n",
       "      <td>295.478609</td>\n",
       "      <td>295.478609</td>\n",
       "      <td>295.478609</td>\n",
       "      <td>-57.440797</td>\n",
       "      <td>-57.440797</td>\n",
       "      <td>-57.440797</td>\n",
       "      <td>352.919407</td>\n",
       "      <td>352.919407</td>\n",
       "      <td>352.919407</td>\n",
       "      <td>0.0</td>\n",
       "      <td>0.0</td>\n",
       "      <td>0.0</td>\n",
       "      <td>836.931603</td>\n",
       "    </tr>\n",
       "  </tbody>\n",
       "</table>\n",
       "</div>"
      ],
      "text/plain": [
       "                   ds       trend  yhat_lower   yhat_upper  trend_lower  \\\n",
       "0 2023-07-26 00:00:00  539.748218  379.826376  1381.224314   539.748218   \n",
       "1 2023-07-26 00:05:00  540.174412  386.928050  1309.830046   540.174412   \n",
       "2 2023-07-26 00:10:00  540.600606  332.558462  1310.864899   540.600606   \n",
       "3 2023-07-26 00:15:00  541.026800  373.274980  1316.702009   541.026800   \n",
       "4 2023-07-26 00:20:00  541.452993  332.964749  1313.501260   541.452993   \n",
       "\n",
       "   trend_upper  additive_terms  additive_terms_lower  additive_terms_upper  \\\n",
       "0   539.748218      319.054485            319.054485            319.054485   \n",
       "1   540.174412      313.123617            313.123617            313.123617   \n",
       "2   540.600606      307.225403            307.225403            307.225403   \n",
       "3   541.026800      301.347716            301.347716            301.347716   \n",
       "4   541.452993      295.478609            295.478609            295.478609   \n",
       "\n",
       "       daily  daily_lower  daily_upper      weekly  weekly_lower  \\\n",
       "0 -32.536477   -32.536477   -32.536477  351.590962    351.590962   \n",
       "1 -38.807432   -38.807432   -38.807432  351.931050    351.931050   \n",
       "2 -45.040423   -45.040423   -45.040423  352.265826    352.265826   \n",
       "3 -51.247566   -51.247566   -51.247566  352.595282    352.595282   \n",
       "4 -57.440797   -57.440797   -57.440797  352.919407    352.919407   \n",
       "\n",
       "   weekly_upper  multiplicative_terms  multiplicative_terms_lower  \\\n",
       "0    351.590962                   0.0                         0.0   \n",
       "1    351.931050                   0.0                         0.0   \n",
       "2    352.265826                   0.0                         0.0   \n",
       "3    352.595282                   0.0                         0.0   \n",
       "4    352.919407                   0.0                         0.0   \n",
       "\n",
       "   multiplicative_terms_upper        yhat  \n",
       "0                         0.0  858.802703  \n",
       "1                         0.0  853.298029  \n",
       "2                         0.0  847.826009  \n",
       "3                         0.0  842.374515  \n",
       "4                         0.0  836.931603  "
      ]
     },
     "execution_count": 155,
     "metadata": {},
     "output_type": "execute_result"
    }
   ],
   "source": [
    "forecast.head()"
   ]
  },
  {
   "cell_type": "code",
   "execution_count": 156,
   "id": "bb0440bf-2e99-450c-a28d-e23616f65c97",
   "metadata": {},
   "outputs": [
    {
     "data": {
      "text/html": [
       "<div>\n",
       "<style scoped>\n",
       "    .dataframe tbody tr th:only-of-type {\n",
       "        vertical-align: middle;\n",
       "    }\n",
       "\n",
       "    .dataframe tbody tr th {\n",
       "        vertical-align: top;\n",
       "    }\n",
       "\n",
       "    .dataframe thead th {\n",
       "        text-align: right;\n",
       "    }\n",
       "</style>\n",
       "<table border=\"1\" class=\"dataframe\">\n",
       "  <thead>\n",
       "    <tr style=\"text-align: right;\">\n",
       "      <th></th>\n",
       "      <th>ds</th>\n",
       "      <th>y</th>\n",
       "    </tr>\n",
       "  </thead>\n",
       "  <tbody>\n",
       "    <tr>\n",
       "      <th>0</th>\n",
       "      <td>2023-07-26 00:00:00</td>\n",
       "      <td>528.0</td>\n",
       "    </tr>\n",
       "    <tr>\n",
       "      <th>1</th>\n",
       "      <td>2023-07-26 00:05:00</td>\n",
       "      <td>672.0</td>\n",
       "    </tr>\n",
       "    <tr>\n",
       "      <th>2</th>\n",
       "      <td>2023-07-26 00:10:00</td>\n",
       "      <td>770.0</td>\n",
       "    </tr>\n",
       "    <tr>\n",
       "      <th>3</th>\n",
       "      <td>2023-07-26 00:15:00</td>\n",
       "      <td>668.0</td>\n",
       "    </tr>\n",
       "    <tr>\n",
       "      <th>4</th>\n",
       "      <td>2023-07-26 00:20:00</td>\n",
       "      <td>816.0</td>\n",
       "    </tr>\n",
       "  </tbody>\n",
       "</table>\n",
       "</div>"
      ],
      "text/plain": [
       "                   ds      y\n",
       "0 2023-07-26 00:00:00  528.0\n",
       "1 2023-07-26 00:05:00  672.0\n",
       "2 2023-07-26 00:10:00  770.0\n",
       "3 2023-07-26 00:15:00  668.0\n",
       "4 2023-07-26 00:20:00  816.0"
      ]
     },
     "execution_count": 156,
     "metadata": {},
     "output_type": "execute_result"
    }
   ],
   "source": [
    "df.head()"
   ]
  },
  {
   "cell_type": "code",
   "execution_count": 157,
   "id": "f3c65afc-c8d1-4608-94e6-c5e4e703946e",
   "metadata": {},
   "outputs": [
    {
     "data": {
      "text/html": [
       "<div>\n",
       "<style scoped>\n",
       "    .dataframe tbody tr th:only-of-type {\n",
       "        vertical-align: middle;\n",
       "    }\n",
       "\n",
       "    .dataframe tbody tr th {\n",
       "        vertical-align: top;\n",
       "    }\n",
       "\n",
       "    .dataframe thead th {\n",
       "        text-align: right;\n",
       "    }\n",
       "</style>\n",
       "<table border=\"1\" class=\"dataframe\">\n",
       "  <thead>\n",
       "    <tr style=\"text-align: right;\">\n",
       "      <th></th>\n",
       "      <th>ds</th>\n",
       "      <th>trend</th>\n",
       "      <th>yhat_lower</th>\n",
       "      <th>yhat_upper</th>\n",
       "      <th>trend_lower</th>\n",
       "      <th>trend_upper</th>\n",
       "      <th>additive_terms</th>\n",
       "      <th>additive_terms_lower</th>\n",
       "      <th>additive_terms_upper</th>\n",
       "      <th>daily</th>\n",
       "      <th>daily_lower</th>\n",
       "      <th>daily_upper</th>\n",
       "      <th>weekly</th>\n",
       "      <th>weekly_lower</th>\n",
       "      <th>weekly_upper</th>\n",
       "      <th>multiplicative_terms</th>\n",
       "      <th>multiplicative_terms_lower</th>\n",
       "      <th>multiplicative_terms_upper</th>\n",
       "      <th>yhat</th>\n",
       "    </tr>\n",
       "  </thead>\n",
       "  <tbody>\n",
       "    <tr>\n",
       "      <th>8359</th>\n",
       "      <td>2023-08-24 00:35:00</td>\n",
       "      <td>269.732660</td>\n",
       "      <td>-62.896863</td>\n",
       "      <td>890.622983</td>\n",
       "      <td>269.732660</td>\n",
       "      <td>269.732660</td>\n",
       "      <td>147.918359</td>\n",
       "      <td>147.918359</td>\n",
       "      <td>147.918359</td>\n",
       "      <td>-76.051345</td>\n",
       "      <td>-76.051345</td>\n",
       "      <td>-76.051345</td>\n",
       "      <td>223.969704</td>\n",
       "      <td>223.969704</td>\n",
       "      <td>223.969704</td>\n",
       "      <td>0.0</td>\n",
       "      <td>0.0</td>\n",
       "      <td>0.0</td>\n",
       "      <td>417.651020</td>\n",
       "    </tr>\n",
       "    <tr>\n",
       "      <th>8360</th>\n",
       "      <td>2023-08-24 00:40:00</td>\n",
       "      <td>269.473532</td>\n",
       "      <td>-91.121170</td>\n",
       "      <td>912.958983</td>\n",
       "      <td>269.473532</td>\n",
       "      <td>269.473532</td>\n",
       "      <td>140.633961</td>\n",
       "      <td>140.633961</td>\n",
       "      <td>140.633961</td>\n",
       "      <td>-82.300835</td>\n",
       "      <td>-82.300835</td>\n",
       "      <td>-82.300835</td>\n",
       "      <td>222.934796</td>\n",
       "      <td>222.934796</td>\n",
       "      <td>222.934796</td>\n",
       "      <td>0.0</td>\n",
       "      <td>0.0</td>\n",
       "      <td>0.0</td>\n",
       "      <td>410.107493</td>\n",
       "    </tr>\n",
       "    <tr>\n",
       "      <th>8361</th>\n",
       "      <td>2023-08-24 00:45:00</td>\n",
       "      <td>269.214404</td>\n",
       "      <td>-95.772687</td>\n",
       "      <td>876.373265</td>\n",
       "      <td>269.214404</td>\n",
       "      <td>269.214404</td>\n",
       "      <td>133.308471</td>\n",
       "      <td>133.308471</td>\n",
       "      <td>133.308471</td>\n",
       "      <td>-88.589594</td>\n",
       "      <td>-88.589594</td>\n",
       "      <td>-88.589594</td>\n",
       "      <td>221.898064</td>\n",
       "      <td>221.898064</td>\n",
       "      <td>221.898064</td>\n",
       "      <td>0.0</td>\n",
       "      <td>0.0</td>\n",
       "      <td>0.0</td>\n",
       "      <td>402.522875</td>\n",
       "    </tr>\n",
       "    <tr>\n",
       "      <th>8362</th>\n",
       "      <td>2023-08-24 00:50:00</td>\n",
       "      <td>268.955275</td>\n",
       "      <td>-80.160369</td>\n",
       "      <td>827.316344</td>\n",
       "      <td>268.955275</td>\n",
       "      <td>268.955275</td>\n",
       "      <td>125.933287</td>\n",
       "      <td>125.933287</td>\n",
       "      <td>125.933287</td>\n",
       "      <td>-94.926254</td>\n",
       "      <td>-94.926254</td>\n",
       "      <td>-94.926254</td>\n",
       "      <td>220.859541</td>\n",
       "      <td>220.859541</td>\n",
       "      <td>220.859541</td>\n",
       "      <td>0.0</td>\n",
       "      <td>0.0</td>\n",
       "      <td>0.0</td>\n",
       "      <td>394.888562</td>\n",
       "    </tr>\n",
       "    <tr>\n",
       "      <th>8363</th>\n",
       "      <td>2023-08-24 00:55:00</td>\n",
       "      <td>268.696147</td>\n",
       "      <td>-113.331799</td>\n",
       "      <td>883.951351</td>\n",
       "      <td>268.696147</td>\n",
       "      <td>268.696147</td>\n",
       "      <td>118.500685</td>\n",
       "      <td>118.500685</td>\n",
       "      <td>118.500685</td>\n",
       "      <td>-101.318570</td>\n",
       "      <td>-101.318570</td>\n",
       "      <td>-101.318570</td>\n",
       "      <td>219.819255</td>\n",
       "      <td>219.819255</td>\n",
       "      <td>219.819255</td>\n",
       "      <td>0.0</td>\n",
       "      <td>0.0</td>\n",
       "      <td>0.0</td>\n",
       "      <td>387.196831</td>\n",
       "    </tr>\n",
       "  </tbody>\n",
       "</table>\n",
       "</div>"
      ],
      "text/plain": [
       "                      ds       trend  yhat_lower  yhat_upper  trend_lower  \\\n",
       "8359 2023-08-24 00:35:00  269.732660  -62.896863  890.622983   269.732660   \n",
       "8360 2023-08-24 00:40:00  269.473532  -91.121170  912.958983   269.473532   \n",
       "8361 2023-08-24 00:45:00  269.214404  -95.772687  876.373265   269.214404   \n",
       "8362 2023-08-24 00:50:00  268.955275  -80.160369  827.316344   268.955275   \n",
       "8363 2023-08-24 00:55:00  268.696147 -113.331799  883.951351   268.696147   \n",
       "\n",
       "      trend_upper  additive_terms  additive_terms_lower  additive_terms_upper  \\\n",
       "8359   269.732660      147.918359            147.918359            147.918359   \n",
       "8360   269.473532      140.633961            140.633961            140.633961   \n",
       "8361   269.214404      133.308471            133.308471            133.308471   \n",
       "8362   268.955275      125.933287            125.933287            125.933287   \n",
       "8363   268.696147      118.500685            118.500685            118.500685   \n",
       "\n",
       "           daily  daily_lower  daily_upper      weekly  weekly_lower  \\\n",
       "8359  -76.051345   -76.051345   -76.051345  223.969704    223.969704   \n",
       "8360  -82.300835   -82.300835   -82.300835  222.934796    222.934796   \n",
       "8361  -88.589594   -88.589594   -88.589594  221.898064    221.898064   \n",
       "8362  -94.926254   -94.926254   -94.926254  220.859541    220.859541   \n",
       "8363 -101.318570  -101.318570  -101.318570  219.819255    219.819255   \n",
       "\n",
       "      weekly_upper  multiplicative_terms  multiplicative_terms_lower  \\\n",
       "8359    223.969704                   0.0                         0.0   \n",
       "8360    222.934796                   0.0                         0.0   \n",
       "8361    221.898064                   0.0                         0.0   \n",
       "8362    220.859541                   0.0                         0.0   \n",
       "8363    219.819255                   0.0                         0.0   \n",
       "\n",
       "      multiplicative_terms_upper        yhat  \n",
       "8359                         0.0  417.651020  \n",
       "8360                         0.0  410.107493  \n",
       "8361                         0.0  402.522875  \n",
       "8362                         0.0  394.888562  \n",
       "8363                         0.0  387.196831  "
      ]
     },
     "execution_count": 157,
     "metadata": {},
     "output_type": "execute_result"
    }
   ],
   "source": [
    "forecast.tail()"
   ]
  },
  {
   "cell_type": "code",
   "execution_count": 158,
   "id": "17d388a4-65b3-474b-a01a-baea36c4535a",
   "metadata": {},
   "outputs": [],
   "source": [
    "df_test = pd.read_csv(\"/home/jupyter/time_series/success_trans0725_0824.csv\")"
   ]
  },
  {
   "cell_type": "code",
   "execution_count": 159,
   "id": "f2d832e5-1c4f-47fa-8982-15c899299877",
   "metadata": {},
   "outputs": [
    {
     "data": {
      "text/html": [
       "<div>\n",
       "<style scoped>\n",
       "    .dataframe tbody tr th:only-of-type {\n",
       "        vertical-align: middle;\n",
       "    }\n",
       "\n",
       "    .dataframe tbody tr th {\n",
       "        vertical-align: top;\n",
       "    }\n",
       "\n",
       "    .dataframe thead th {\n",
       "        text-align: right;\n",
       "    }\n",
       "</style>\n",
       "<table border=\"1\" class=\"dataframe\">\n",
       "  <thead>\n",
       "    <tr style=\"text-align: right;\">\n",
       "      <th></th>\n",
       "      <th>cal_timestamp_time</th>\n",
       "      <th>success_transactions</th>\n",
       "    </tr>\n",
       "  </thead>\n",
       "  <tbody>\n",
       "    <tr>\n",
       "      <th>0</th>\n",
       "      <td>2023-07-25 18:00:00.000000 UTC</td>\n",
       "      <td>814</td>\n",
       "    </tr>\n",
       "    <tr>\n",
       "      <th>1</th>\n",
       "      <td>2023-07-25 18:05:00.000000 UTC</td>\n",
       "      <td>954</td>\n",
       "    </tr>\n",
       "    <tr>\n",
       "      <th>2</th>\n",
       "      <td>2023-07-25 18:10:00.000000 UTC</td>\n",
       "      <td>1054</td>\n",
       "    </tr>\n",
       "    <tr>\n",
       "      <th>3</th>\n",
       "      <td>2023-07-25 18:15:00.000000 UTC</td>\n",
       "      <td>1274</td>\n",
       "    </tr>\n",
       "    <tr>\n",
       "      <th>4</th>\n",
       "      <td>2023-07-25 18:20:00.000000 UTC</td>\n",
       "      <td>1766</td>\n",
       "    </tr>\n",
       "  </tbody>\n",
       "</table>\n",
       "</div>"
      ],
      "text/plain": [
       "               cal_timestamp_time  success_transactions\n",
       "0  2023-07-25 18:00:00.000000 UTC                   814\n",
       "1  2023-07-25 18:05:00.000000 UTC                   954\n",
       "2  2023-07-25 18:10:00.000000 UTC                  1054\n",
       "3  2023-07-25 18:15:00.000000 UTC                  1274\n",
       "4  2023-07-25 18:20:00.000000 UTC                  1766"
      ]
     },
     "execution_count": 159,
     "metadata": {},
     "output_type": "execute_result"
    }
   ],
   "source": [
    "df_test.head()"
   ]
  },
  {
   "cell_type": "code",
   "execution_count": 160,
   "id": "879ed133-3267-4142-9f1b-9ab17e448c44",
   "metadata": {},
   "outputs": [
    {
     "data": {
      "text/html": [
       "<div>\n",
       "<style scoped>\n",
       "    .dataframe tbody tr th:only-of-type {\n",
       "        vertical-align: middle;\n",
       "    }\n",
       "\n",
       "    .dataframe tbody tr th {\n",
       "        vertical-align: top;\n",
       "    }\n",
       "\n",
       "    .dataframe thead th {\n",
       "        text-align: right;\n",
       "    }\n",
       "</style>\n",
       "<table border=\"1\" class=\"dataframe\">\n",
       "  <thead>\n",
       "    <tr style=\"text-align: right;\">\n",
       "      <th></th>\n",
       "      <th>cal_timestamp_time</th>\n",
       "      <th>success_transactions</th>\n",
       "    </tr>\n",
       "  </thead>\n",
       "  <tbody>\n",
       "    <tr>\n",
       "      <th>8636</th>\n",
       "      <td>2023-08-24 18:20:00.000000 UTC</td>\n",
       "      <td>1674</td>\n",
       "    </tr>\n",
       "    <tr>\n",
       "      <th>8637</th>\n",
       "      <td>2023-08-24 18:25:00.000000 UTC</td>\n",
       "      <td>1861</td>\n",
       "    </tr>\n",
       "    <tr>\n",
       "      <th>8638</th>\n",
       "      <td>2023-08-24 18:30:00.000000 UTC</td>\n",
       "      <td>1561</td>\n",
       "    </tr>\n",
       "    <tr>\n",
       "      <th>8639</th>\n",
       "      <td>2023-08-24 18:35:00.000000 UTC</td>\n",
       "      <td>1486</td>\n",
       "    </tr>\n",
       "    <tr>\n",
       "      <th>8640</th>\n",
       "      <td>2023-08-24 18:40:00.000000 UTC</td>\n",
       "      <td>1579</td>\n",
       "    </tr>\n",
       "  </tbody>\n",
       "</table>\n",
       "</div>"
      ],
      "text/plain": [
       "                  cal_timestamp_time  success_transactions\n",
       "8636  2023-08-24 18:20:00.000000 UTC                  1674\n",
       "8637  2023-08-24 18:25:00.000000 UTC                  1861\n",
       "8638  2023-08-24 18:30:00.000000 UTC                  1561\n",
       "8639  2023-08-24 18:35:00.000000 UTC                  1486\n",
       "8640  2023-08-24 18:40:00.000000 UTC                  1579"
      ]
     },
     "execution_count": 160,
     "metadata": {},
     "output_type": "execute_result"
    }
   ],
   "source": [
    "df_test.tail()"
   ]
  },
  {
   "cell_type": "code",
   "execution_count": 161,
   "id": "164de73a-29c2-4fe4-89ae-0df8863304f6",
   "metadata": {},
   "outputs": [],
   "source": [
    "df_test.set_index('cal_timestamp_time', inplace=True)"
   ]
  },
  {
   "cell_type": "code",
   "execution_count": 162,
   "id": "c0cfb1da-b438-4895-9d4c-f4d904c827c6",
   "metadata": {},
   "outputs": [
    {
     "data": {
      "text/html": [
       "<div>\n",
       "<style scoped>\n",
       "    .dataframe tbody tr th:only-of-type {\n",
       "        vertical-align: middle;\n",
       "    }\n",
       "\n",
       "    .dataframe tbody tr th {\n",
       "        vertical-align: top;\n",
       "    }\n",
       "\n",
       "    .dataframe thead th {\n",
       "        text-align: right;\n",
       "    }\n",
       "</style>\n",
       "<table border=\"1\" class=\"dataframe\">\n",
       "  <thead>\n",
       "    <tr style=\"text-align: right;\">\n",
       "      <th></th>\n",
       "      <th>success_transactions</th>\n",
       "    </tr>\n",
       "    <tr>\n",
       "      <th>cal_timestamp_time</th>\n",
       "      <th></th>\n",
       "    </tr>\n",
       "  </thead>\n",
       "  <tbody>\n",
       "    <tr>\n",
       "      <th>2023-07-25 18:00:00.000000 UTC</th>\n",
       "      <td>814</td>\n",
       "    </tr>\n",
       "    <tr>\n",
       "      <th>2023-07-25 18:05:00.000000 UTC</th>\n",
       "      <td>954</td>\n",
       "    </tr>\n",
       "    <tr>\n",
       "      <th>2023-07-25 18:10:00.000000 UTC</th>\n",
       "      <td>1054</td>\n",
       "    </tr>\n",
       "    <tr>\n",
       "      <th>2023-07-25 18:15:00.000000 UTC</th>\n",
       "      <td>1274</td>\n",
       "    </tr>\n",
       "    <tr>\n",
       "      <th>2023-07-25 18:20:00.000000 UTC</th>\n",
       "      <td>1766</td>\n",
       "    </tr>\n",
       "  </tbody>\n",
       "</table>\n",
       "</div>"
      ],
      "text/plain": [
       "                                success_transactions\n",
       "cal_timestamp_time                                  \n",
       "2023-07-25 18:00:00.000000 UTC                   814\n",
       "2023-07-25 18:05:00.000000 UTC                   954\n",
       "2023-07-25 18:10:00.000000 UTC                  1054\n",
       "2023-07-25 18:15:00.000000 UTC                  1274\n",
       "2023-07-25 18:20:00.000000 UTC                  1766"
      ]
     },
     "execution_count": 162,
     "metadata": {},
     "output_type": "execute_result"
    }
   ],
   "source": [
    "df_test.head()"
   ]
  },
  {
   "cell_type": "code",
   "execution_count": 163,
   "id": "119921e2-74d2-41e4-ac80-0a7de7e7479b",
   "metadata": {},
   "outputs": [
    {
     "data": {
      "text/html": [
       "<div>\n",
       "<style scoped>\n",
       "    .dataframe tbody tr th:only-of-type {\n",
       "        vertical-align: middle;\n",
       "    }\n",
       "\n",
       "    .dataframe tbody tr th {\n",
       "        vertical-align: top;\n",
       "    }\n",
       "\n",
       "    .dataframe thead th {\n",
       "        text-align: right;\n",
       "    }\n",
       "</style>\n",
       "<table border=\"1\" class=\"dataframe\">\n",
       "  <thead>\n",
       "    <tr style=\"text-align: right;\">\n",
       "      <th></th>\n",
       "      <th>success_transactions</th>\n",
       "    </tr>\n",
       "    <tr>\n",
       "      <th>cal_timestamp_time</th>\n",
       "      <th></th>\n",
       "    </tr>\n",
       "  </thead>\n",
       "  <tbody>\n",
       "    <tr>\n",
       "      <th>2023-08-24 18:20:00.000000 UTC</th>\n",
       "      <td>1674</td>\n",
       "    </tr>\n",
       "    <tr>\n",
       "      <th>2023-08-24 18:25:00.000000 UTC</th>\n",
       "      <td>1861</td>\n",
       "    </tr>\n",
       "    <tr>\n",
       "      <th>2023-08-24 18:30:00.000000 UTC</th>\n",
       "      <td>1561</td>\n",
       "    </tr>\n",
       "    <tr>\n",
       "      <th>2023-08-24 18:35:00.000000 UTC</th>\n",
       "      <td>1486</td>\n",
       "    </tr>\n",
       "    <tr>\n",
       "      <th>2023-08-24 18:40:00.000000 UTC</th>\n",
       "      <td>1579</td>\n",
       "    </tr>\n",
       "  </tbody>\n",
       "</table>\n",
       "</div>"
      ],
      "text/plain": [
       "                                success_transactions\n",
       "cal_timestamp_time                                  \n",
       "2023-08-24 18:20:00.000000 UTC                  1674\n",
       "2023-08-24 18:25:00.000000 UTC                  1861\n",
       "2023-08-24 18:30:00.000000 UTC                  1561\n",
       "2023-08-24 18:35:00.000000 UTC                  1486\n",
       "2023-08-24 18:40:00.000000 UTC                  1579"
      ]
     },
     "execution_count": 163,
     "metadata": {},
     "output_type": "execute_result"
    }
   ],
   "source": [
    "df_test.tail()"
   ]
  },
  {
   "cell_type": "code",
   "execution_count": 164,
   "id": "09312b83-dd48-4ad2-ba2e-6ecd4664f4c4",
   "metadata": {},
   "outputs": [],
   "source": [
    "df_test_actual =df_test['2023-08-24':]"
   ]
  },
  {
   "cell_type": "code",
   "execution_count": 165,
   "id": "c01120ea-fd19-4fbf-9453-e7fa9b6fee25",
   "metadata": {},
   "outputs": [
    {
     "data": {
      "text/html": [
       "<div>\n",
       "<style scoped>\n",
       "    .dataframe tbody tr th:only-of-type {\n",
       "        vertical-align: middle;\n",
       "    }\n",
       "\n",
       "    .dataframe tbody tr th {\n",
       "        vertical-align: top;\n",
       "    }\n",
       "\n",
       "    .dataframe thead th {\n",
       "        text-align: right;\n",
       "    }\n",
       "</style>\n",
       "<table border=\"1\" class=\"dataframe\">\n",
       "  <thead>\n",
       "    <tr style=\"text-align: right;\">\n",
       "      <th></th>\n",
       "      <th>success_transactions</th>\n",
       "    </tr>\n",
       "    <tr>\n",
       "      <th>cal_timestamp_time</th>\n",
       "      <th></th>\n",
       "    </tr>\n",
       "  </thead>\n",
       "  <tbody>\n",
       "    <tr>\n",
       "      <th>2023-08-24 00:00:00.000000 UTC</th>\n",
       "      <td>701</td>\n",
       "    </tr>\n",
       "    <tr>\n",
       "      <th>2023-08-24 00:05:00.000000 UTC</th>\n",
       "      <td>602</td>\n",
       "    </tr>\n",
       "    <tr>\n",
       "      <th>2023-08-24 00:10:00.000000 UTC</th>\n",
       "      <td>634</td>\n",
       "    </tr>\n",
       "    <tr>\n",
       "      <th>2023-08-24 00:15:00.000000 UTC</th>\n",
       "      <td>689</td>\n",
       "    </tr>\n",
       "    <tr>\n",
       "      <th>2023-08-24 00:20:00.000000 UTC</th>\n",
       "      <td>526</td>\n",
       "    </tr>\n",
       "  </tbody>\n",
       "</table>\n",
       "</div>"
      ],
      "text/plain": [
       "                                success_transactions\n",
       "cal_timestamp_time                                  \n",
       "2023-08-24 00:00:00.000000 UTC                   701\n",
       "2023-08-24 00:05:00.000000 UTC                   602\n",
       "2023-08-24 00:10:00.000000 UTC                   634\n",
       "2023-08-24 00:15:00.000000 UTC                   689\n",
       "2023-08-24 00:20:00.000000 UTC                   526"
      ]
     },
     "execution_count": 165,
     "metadata": {},
     "output_type": "execute_result"
    }
   ],
   "source": [
    "df_test_actual.head()"
   ]
  },
  {
   "cell_type": "code",
   "execution_count": 166,
   "id": "070ffe5d-b54b-48e5-a346-43d19d5a5b1e",
   "metadata": {},
   "outputs": [],
   "source": [
    "df_test_actual = df_test_actual.iloc[:12]"
   ]
  },
  {
   "cell_type": "code",
   "execution_count": 167,
   "id": "05fb17d8-2658-411e-a350-ce93dadde957",
   "metadata": {},
   "outputs": [
    {
     "data": {
      "text/html": [
       "<div>\n",
       "<style scoped>\n",
       "    .dataframe tbody tr th:only-of-type {\n",
       "        vertical-align: middle;\n",
       "    }\n",
       "\n",
       "    .dataframe tbody tr th {\n",
       "        vertical-align: top;\n",
       "    }\n",
       "\n",
       "    .dataframe thead th {\n",
       "        text-align: right;\n",
       "    }\n",
       "</style>\n",
       "<table border=\"1\" class=\"dataframe\">\n",
       "  <thead>\n",
       "    <tr style=\"text-align: right;\">\n",
       "      <th></th>\n",
       "      <th>success_transactions</th>\n",
       "    </tr>\n",
       "    <tr>\n",
       "      <th>cal_timestamp_time</th>\n",
       "      <th></th>\n",
       "    </tr>\n",
       "  </thead>\n",
       "  <tbody>\n",
       "    <tr>\n",
       "      <th>2023-08-24 00:00:00.000000 UTC</th>\n",
       "      <td>701</td>\n",
       "    </tr>\n",
       "    <tr>\n",
       "      <th>2023-08-24 00:05:00.000000 UTC</th>\n",
       "      <td>602</td>\n",
       "    </tr>\n",
       "    <tr>\n",
       "      <th>2023-08-24 00:10:00.000000 UTC</th>\n",
       "      <td>634</td>\n",
       "    </tr>\n",
       "    <tr>\n",
       "      <th>2023-08-24 00:15:00.000000 UTC</th>\n",
       "      <td>689</td>\n",
       "    </tr>\n",
       "    <tr>\n",
       "      <th>2023-08-24 00:20:00.000000 UTC</th>\n",
       "      <td>526</td>\n",
       "    </tr>\n",
       "  </tbody>\n",
       "</table>\n",
       "</div>"
      ],
      "text/plain": [
       "                                success_transactions\n",
       "cal_timestamp_time                                  \n",
       "2023-08-24 00:00:00.000000 UTC                   701\n",
       "2023-08-24 00:05:00.000000 UTC                   602\n",
       "2023-08-24 00:10:00.000000 UTC                   634\n",
       "2023-08-24 00:15:00.000000 UTC                   689\n",
       "2023-08-24 00:20:00.000000 UTC                   526"
      ]
     },
     "execution_count": 167,
     "metadata": {},
     "output_type": "execute_result"
    }
   ],
   "source": [
    "df_test_actual.head()"
   ]
  },
  {
   "cell_type": "code",
   "execution_count": 168,
   "id": "688e6c1c-59ac-488c-8138-fee864be934f",
   "metadata": {},
   "outputs": [
    {
     "data": {
      "text/plain": [
       "(12, 1)"
      ]
     },
     "execution_count": 168,
     "metadata": {},
     "output_type": "execute_result"
    }
   ],
   "source": [
    "df_test_actual.shape"
   ]
  },
  {
   "cell_type": "code",
   "execution_count": 169,
   "id": "10a17aed-2ac9-47fa-8cb5-efc14436a6ba",
   "metadata": {},
   "outputs": [],
   "source": [
    "# MAPE function\n",
    "\n",
    "def mape_result(y_true, y_pred):\n",
    "    \n",
    "    return np.mean(np.abs((np.array(y_true) - np.array(y_pred)) / np.array(y_true))) * 100    "
   ]
  },
  {
   "cell_type": "code",
   "execution_count": 170,
   "id": "6ed51413-f5bd-4f32-a564-8b14056e808d",
   "metadata": {},
   "outputs": [
    {
     "data": {
      "text/plain": [
       "22.424242424242426"
      ]
     },
     "execution_count": 170,
     "metadata": {},
     "output_type": "execute_result"
    }
   ],
   "source": [
    "mape_result([11,10,10], [8,8,8])"
   ]
  },
  {
   "cell_type": "code",
   "execution_count": 171,
   "id": "99b02b59-d015-41db-a144-aac3056550f6",
   "metadata": {},
   "outputs": [
    {
     "data": {
      "text/html": [
       "<div>\n",
       "<style scoped>\n",
       "    .dataframe tbody tr th:only-of-type {\n",
       "        vertical-align: middle;\n",
       "    }\n",
       "\n",
       "    .dataframe tbody tr th {\n",
       "        vertical-align: top;\n",
       "    }\n",
       "\n",
       "    .dataframe thead th {\n",
       "        text-align: right;\n",
       "    }\n",
       "</style>\n",
       "<table border=\"1\" class=\"dataframe\">\n",
       "  <thead>\n",
       "    <tr style=\"text-align: right;\">\n",
       "      <th></th>\n",
       "      <th>ds</th>\n",
       "    </tr>\n",
       "  </thead>\n",
       "  <tbody>\n",
       "    <tr>\n",
       "      <th>8359</th>\n",
       "      <td>2023-08-24 00:35:00</td>\n",
       "    </tr>\n",
       "    <tr>\n",
       "      <th>8360</th>\n",
       "      <td>2023-08-24 00:40:00</td>\n",
       "    </tr>\n",
       "    <tr>\n",
       "      <th>8361</th>\n",
       "      <td>2023-08-24 00:45:00</td>\n",
       "    </tr>\n",
       "    <tr>\n",
       "      <th>8362</th>\n",
       "      <td>2023-08-24 00:50:00</td>\n",
       "    </tr>\n",
       "    <tr>\n",
       "      <th>8363</th>\n",
       "      <td>2023-08-24 00:55:00</td>\n",
       "    </tr>\n",
       "  </tbody>\n",
       "</table>\n",
       "</div>"
      ],
      "text/plain": [
       "                      ds\n",
       "8359 2023-08-24 00:35:00\n",
       "8360 2023-08-24 00:40:00\n",
       "8361 2023-08-24 00:45:00\n",
       "8362 2023-08-24 00:50:00\n",
       "8363 2023-08-24 00:55:00"
      ]
     },
     "execution_count": 171,
     "metadata": {},
     "output_type": "execute_result"
    }
   ],
   "source": [
    "future.tail()"
   ]
  },
  {
   "cell_type": "code",
   "execution_count": 172,
   "id": "2d09753b-6f9c-48be-9f4d-f4c8e4e85193",
   "metadata": {},
   "outputs": [
    {
     "data": {
      "text/html": [
       "<div>\n",
       "<style scoped>\n",
       "    .dataframe tbody tr th:only-of-type {\n",
       "        vertical-align: middle;\n",
       "    }\n",
       "\n",
       "    .dataframe tbody tr th {\n",
       "        vertical-align: top;\n",
       "    }\n",
       "\n",
       "    .dataframe thead th {\n",
       "        text-align: right;\n",
       "    }\n",
       "</style>\n",
       "<table border=\"1\" class=\"dataframe\">\n",
       "  <thead>\n",
       "    <tr style=\"text-align: right;\">\n",
       "      <th></th>\n",
       "      <th>ds</th>\n",
       "      <th>trend</th>\n",
       "      <th>yhat_lower</th>\n",
       "      <th>yhat_upper</th>\n",
       "      <th>trend_lower</th>\n",
       "      <th>trend_upper</th>\n",
       "      <th>additive_terms</th>\n",
       "      <th>additive_terms_lower</th>\n",
       "      <th>additive_terms_upper</th>\n",
       "      <th>daily</th>\n",
       "      <th>daily_lower</th>\n",
       "      <th>daily_upper</th>\n",
       "      <th>weekly</th>\n",
       "      <th>weekly_lower</th>\n",
       "      <th>weekly_upper</th>\n",
       "      <th>multiplicative_terms</th>\n",
       "      <th>multiplicative_terms_lower</th>\n",
       "      <th>multiplicative_terms_upper</th>\n",
       "      <th>yhat</th>\n",
       "    </tr>\n",
       "  </thead>\n",
       "  <tbody>\n",
       "    <tr>\n",
       "      <th>0</th>\n",
       "      <td>2023-07-26 00:00:00</td>\n",
       "      <td>539.748218</td>\n",
       "      <td>379.826376</td>\n",
       "      <td>1381.224314</td>\n",
       "      <td>539.748218</td>\n",
       "      <td>539.748218</td>\n",
       "      <td>319.054485</td>\n",
       "      <td>319.054485</td>\n",
       "      <td>319.054485</td>\n",
       "      <td>-32.536477</td>\n",
       "      <td>-32.536477</td>\n",
       "      <td>-32.536477</td>\n",
       "      <td>351.590962</td>\n",
       "      <td>351.590962</td>\n",
       "      <td>351.590962</td>\n",
       "      <td>0.0</td>\n",
       "      <td>0.0</td>\n",
       "      <td>0.0</td>\n",
       "      <td>858.802703</td>\n",
       "    </tr>\n",
       "    <tr>\n",
       "      <th>1</th>\n",
       "      <td>2023-07-26 00:05:00</td>\n",
       "      <td>540.174412</td>\n",
       "      <td>386.928050</td>\n",
       "      <td>1309.830046</td>\n",
       "      <td>540.174412</td>\n",
       "      <td>540.174412</td>\n",
       "      <td>313.123617</td>\n",
       "      <td>313.123617</td>\n",
       "      <td>313.123617</td>\n",
       "      <td>-38.807432</td>\n",
       "      <td>-38.807432</td>\n",
       "      <td>-38.807432</td>\n",
       "      <td>351.931050</td>\n",
       "      <td>351.931050</td>\n",
       "      <td>351.931050</td>\n",
       "      <td>0.0</td>\n",
       "      <td>0.0</td>\n",
       "      <td>0.0</td>\n",
       "      <td>853.298029</td>\n",
       "    </tr>\n",
       "    <tr>\n",
       "      <th>2</th>\n",
       "      <td>2023-07-26 00:10:00</td>\n",
       "      <td>540.600606</td>\n",
       "      <td>332.558462</td>\n",
       "      <td>1310.864899</td>\n",
       "      <td>540.600606</td>\n",
       "      <td>540.600606</td>\n",
       "      <td>307.225403</td>\n",
       "      <td>307.225403</td>\n",
       "      <td>307.225403</td>\n",
       "      <td>-45.040423</td>\n",
       "      <td>-45.040423</td>\n",
       "      <td>-45.040423</td>\n",
       "      <td>352.265826</td>\n",
       "      <td>352.265826</td>\n",
       "      <td>352.265826</td>\n",
       "      <td>0.0</td>\n",
       "      <td>0.0</td>\n",
       "      <td>0.0</td>\n",
       "      <td>847.826009</td>\n",
       "    </tr>\n",
       "    <tr>\n",
       "      <th>3</th>\n",
       "      <td>2023-07-26 00:15:00</td>\n",
       "      <td>541.026800</td>\n",
       "      <td>373.274980</td>\n",
       "      <td>1316.702009</td>\n",
       "      <td>541.026800</td>\n",
       "      <td>541.026800</td>\n",
       "      <td>301.347716</td>\n",
       "      <td>301.347716</td>\n",
       "      <td>301.347716</td>\n",
       "      <td>-51.247566</td>\n",
       "      <td>-51.247566</td>\n",
       "      <td>-51.247566</td>\n",
       "      <td>352.595282</td>\n",
       "      <td>352.595282</td>\n",
       "      <td>352.595282</td>\n",
       "      <td>0.0</td>\n",
       "      <td>0.0</td>\n",
       "      <td>0.0</td>\n",
       "      <td>842.374515</td>\n",
       "    </tr>\n",
       "    <tr>\n",
       "      <th>4</th>\n",
       "      <td>2023-07-26 00:20:00</td>\n",
       "      <td>541.452993</td>\n",
       "      <td>332.964749</td>\n",
       "      <td>1313.501260</td>\n",
       "      <td>541.452993</td>\n",
       "      <td>541.452993</td>\n",
       "      <td>295.478609</td>\n",
       "      <td>295.478609</td>\n",
       "      <td>295.478609</td>\n",
       "      <td>-57.440797</td>\n",
       "      <td>-57.440797</td>\n",
       "      <td>-57.440797</td>\n",
       "      <td>352.919407</td>\n",
       "      <td>352.919407</td>\n",
       "      <td>352.919407</td>\n",
       "      <td>0.0</td>\n",
       "      <td>0.0</td>\n",
       "      <td>0.0</td>\n",
       "      <td>836.931603</td>\n",
       "    </tr>\n",
       "  </tbody>\n",
       "</table>\n",
       "</div>"
      ],
      "text/plain": [
       "                   ds       trend  yhat_lower   yhat_upper  trend_lower  \\\n",
       "0 2023-07-26 00:00:00  539.748218  379.826376  1381.224314   539.748218   \n",
       "1 2023-07-26 00:05:00  540.174412  386.928050  1309.830046   540.174412   \n",
       "2 2023-07-26 00:10:00  540.600606  332.558462  1310.864899   540.600606   \n",
       "3 2023-07-26 00:15:00  541.026800  373.274980  1316.702009   541.026800   \n",
       "4 2023-07-26 00:20:00  541.452993  332.964749  1313.501260   541.452993   \n",
       "\n",
       "   trend_upper  additive_terms  additive_terms_lower  additive_terms_upper  \\\n",
       "0   539.748218      319.054485            319.054485            319.054485   \n",
       "1   540.174412      313.123617            313.123617            313.123617   \n",
       "2   540.600606      307.225403            307.225403            307.225403   \n",
       "3   541.026800      301.347716            301.347716            301.347716   \n",
       "4   541.452993      295.478609            295.478609            295.478609   \n",
       "\n",
       "       daily  daily_lower  daily_upper      weekly  weekly_lower  \\\n",
       "0 -32.536477   -32.536477   -32.536477  351.590962    351.590962   \n",
       "1 -38.807432   -38.807432   -38.807432  351.931050    351.931050   \n",
       "2 -45.040423   -45.040423   -45.040423  352.265826    352.265826   \n",
       "3 -51.247566   -51.247566   -51.247566  352.595282    352.595282   \n",
       "4 -57.440797   -57.440797   -57.440797  352.919407    352.919407   \n",
       "\n",
       "   weekly_upper  multiplicative_terms  multiplicative_terms_lower  \\\n",
       "0    351.590962                   0.0                         0.0   \n",
       "1    351.931050                   0.0                         0.0   \n",
       "2    352.265826                   0.0                         0.0   \n",
       "3    352.595282                   0.0                         0.0   \n",
       "4    352.919407                   0.0                         0.0   \n",
       "\n",
       "   multiplicative_terms_upper        yhat  \n",
       "0                         0.0  858.802703  \n",
       "1                         0.0  853.298029  \n",
       "2                         0.0  847.826009  \n",
       "3                         0.0  842.374515  \n",
       "4                         0.0  836.931603  "
      ]
     },
     "execution_count": 172,
     "metadata": {},
     "output_type": "execute_result"
    }
   ],
   "source": [
    "forecast.head()"
   ]
  },
  {
   "cell_type": "code",
   "execution_count": 245,
   "id": "555431fe-9b14-451d-8707-b3e6350d3539",
   "metadata": {},
   "outputs": [],
   "source": [
    "y_pred = forecast[['yhat']].tail(12)"
   ]
  },
  {
   "cell_type": "code",
   "execution_count": 246,
   "id": "b7a8d011-e7df-4023-af50-51c94be8f157",
   "metadata": {},
   "outputs": [
    {
     "data": {
      "text/html": [
       "<div>\n",
       "<style scoped>\n",
       "    .dataframe tbody tr th:only-of-type {\n",
       "        vertical-align: middle;\n",
       "    }\n",
       "\n",
       "    .dataframe tbody tr th {\n",
       "        vertical-align: top;\n",
       "    }\n",
       "\n",
       "    .dataframe thead th {\n",
       "        text-align: right;\n",
       "    }\n",
       "</style>\n",
       "<table border=\"1\" class=\"dataframe\">\n",
       "  <thead>\n",
       "    <tr style=\"text-align: right;\">\n",
       "      <th></th>\n",
       "      <th>yhat</th>\n",
       "    </tr>\n",
       "  </thead>\n",
       "  <tbody>\n",
       "    <tr>\n",
       "      <th>8352</th>\n",
       "      <td>470.170564</td>\n",
       "    </tr>\n",
       "    <tr>\n",
       "      <th>8353</th>\n",
       "      <td>462.619178</td>\n",
       "    </tr>\n",
       "    <tr>\n",
       "      <th>8354</th>\n",
       "      <td>455.103723</td>\n",
       "    </tr>\n",
       "    <tr>\n",
       "      <th>8355</th>\n",
       "      <td>447.612111</td>\n",
       "    </tr>\n",
       "    <tr>\n",
       "      <th>8356</th>\n",
       "      <td>440.132438</td>\n",
       "    </tr>\n",
       "    <tr>\n",
       "      <th>8357</th>\n",
       "      <td>432.653089</td>\n",
       "    </tr>\n",
       "    <tr>\n",
       "      <th>8358</th>\n",
       "      <td>425.162852</td>\n",
       "    </tr>\n",
       "    <tr>\n",
       "      <th>8359</th>\n",
       "      <td>417.651020</td>\n",
       "    </tr>\n",
       "    <tr>\n",
       "      <th>8360</th>\n",
       "      <td>410.107493</td>\n",
       "    </tr>\n",
       "    <tr>\n",
       "      <th>8361</th>\n",
       "      <td>402.522875</td>\n",
       "    </tr>\n",
       "    <tr>\n",
       "      <th>8362</th>\n",
       "      <td>394.888562</td>\n",
       "    </tr>\n",
       "    <tr>\n",
       "      <th>8363</th>\n",
       "      <td>387.196831</td>\n",
       "    </tr>\n",
       "  </tbody>\n",
       "</table>\n",
       "</div>"
      ],
      "text/plain": [
       "            yhat\n",
       "8352  470.170564\n",
       "8353  462.619178\n",
       "8354  455.103723\n",
       "8355  447.612111\n",
       "8356  440.132438\n",
       "8357  432.653089\n",
       "8358  425.162852\n",
       "8359  417.651020\n",
       "8360  410.107493\n",
       "8361  402.522875\n",
       "8362  394.888562\n",
       "8363  387.196831"
      ]
     },
     "execution_count": 246,
     "metadata": {},
     "output_type": "execute_result"
    }
   ],
   "source": [
    "y_pred"
   ]
  },
  {
   "cell_type": "code",
   "execution_count": 174,
   "id": "1fe22a4b-70b9-4c9f-a58f-c1e430abb81b",
   "metadata": {},
   "outputs": [],
   "source": [
    "y_actual = df_test_actual['success_transactions']"
   ]
  },
  {
   "cell_type": "code",
   "execution_count": 175,
   "id": "44337398-c7aa-44ae-999f-9a7f17dfb68f",
   "metadata": {},
   "outputs": [
    {
     "data": {
      "text/plain": [
       "(pandas.core.frame.DataFrame, pandas.core.series.Series)"
      ]
     },
     "execution_count": 175,
     "metadata": {},
     "output_type": "execute_result"
    }
   ],
   "source": [
    "type(y_pred), type(y_actual)"
   ]
  },
  {
   "cell_type": "code",
   "execution_count": 176,
   "id": "07c053b5-fbbc-4e2e-8393-d7e00a9099dd",
   "metadata": {},
   "outputs": [
    {
     "data": {
      "text/plain": [
       "(12, 12)"
      ]
     },
     "execution_count": 176,
     "metadata": {},
     "output_type": "execute_result"
    }
   ],
   "source": [
    "len(y_pred), len(y_actual)"
   ]
  },
  {
   "cell_type": "code",
   "execution_count": 177,
   "id": "09db88b0-9541-4323-8ce4-5278d3948607",
   "metadata": {},
   "outputs": [
    {
     "data": {
      "text/plain": [
       "31.278747424706687"
      ]
     },
     "execution_count": 177,
     "metadata": {},
     "output_type": "execute_result"
    }
   ],
   "source": [
    "mape_result(y_actual, y_pred)"
   ]
  },
  {
   "cell_type": "code",
   "execution_count": 178,
   "id": "c2beaf24-5bef-4efa-b176-5121d2a7247a",
   "metadata": {},
   "outputs": [
    {
     "data": {
      "text/plain": [
       "(array([701, 602, 634, 689, 526, 606, 788, 566, 626, 698, 513, 646]),\n",
       " array([[470.17056377],\n",
       "        [462.61917832],\n",
       "        [455.10372309],\n",
       "        [447.61211136],\n",
       "        [440.13243767],\n",
       "        [432.65308869],\n",
       "        [425.16285162],\n",
       "        [417.65101959],\n",
       "        [410.10749276],\n",
       "        [402.52287458],\n",
       "        [394.88856238],\n",
       "        [387.19683136]]))"
      ]
     },
     "execution_count": 178,
     "metadata": {},
     "output_type": "execute_result"
    }
   ],
   "source": [
    "np.array(y_actual), np.array(y_pred)[0:]"
   ]
  },
  {
   "cell_type": "code",
   "execution_count": 179,
   "id": "44d1ae36-2f6d-4f2d-9728-cca79dda4354",
   "metadata": {},
   "outputs": [],
   "source": [
    "y_pred_1 = []"
   ]
  },
  {
   "cell_type": "code",
   "execution_count": 180,
   "id": "28a7a38b-3df8-401d-a5c1-eadafe3538ca",
   "metadata": {},
   "outputs": [
    {
     "data": {
      "text/plain": [
       "[]"
      ]
     },
     "execution_count": 180,
     "metadata": {},
     "output_type": "execute_result"
    }
   ],
   "source": [
    "y_pred_1"
   ]
  },
  {
   "cell_type": "code",
   "execution_count": 182,
   "id": "d3f1bebc-401e-4709-88c3-6ce23db6131d",
   "metadata": {},
   "outputs": [
    {
     "data": {
      "text/plain": [
       "31.278747424706687"
      ]
     },
     "execution_count": 182,
     "metadata": {},
     "output_type": "execute_result"
    }
   ],
   "source": [
    "mape_result(y_actual, y_pred)"
   ]
  },
  {
   "cell_type": "code",
   "execution_count": null,
   "id": "c9ef3f88-ea91-46cc-b67f-e4b36c572c69",
   "metadata": {},
   "outputs": [],
   "source": [
    "import statsmodels"
   ]
  },
  {
   "cell_type": "code",
   "execution_count": null,
   "id": "fdc34e26-9d91-4251-bf2c-60110204c9da",
   "metadata": {},
   "outputs": [],
   "source": [
    "statsmodels.__version__"
   ]
  },
  {
   "cell_type": "code",
   "execution_count": null,
   "id": "f919a15c-113e-4c5c-8014-b065e54e0ed3",
   "metadata": {},
   "outputs": [],
   "source": [
    "from prophet.diagnostics import cross_validation"
   ]
  },
  {
   "cell_type": "code",
   "execution_count": 183,
   "id": "025022ef-fcde-4f70-91f8-1a76158a9ff8",
   "metadata": {},
   "outputs": [
    {
     "data": {
      "text/plain": [
       "(8352, 2)"
      ]
     },
     "execution_count": 183,
     "metadata": {},
     "output_type": "execute_result"
    }
   ],
   "source": [
    "df.shape"
   ]
  },
  {
   "cell_type": "code",
   "execution_count": 184,
   "id": "65d554c5-b3a7-43b9-87a3-9ffdb5b4a426",
   "metadata": {},
   "outputs": [
    {
     "data": {
      "text/html": [
       "<div>\n",
       "<style scoped>\n",
       "    .dataframe tbody tr th:only-of-type {\n",
       "        vertical-align: middle;\n",
       "    }\n",
       "\n",
       "    .dataframe tbody tr th {\n",
       "        vertical-align: top;\n",
       "    }\n",
       "\n",
       "    .dataframe thead th {\n",
       "        text-align: right;\n",
       "    }\n",
       "</style>\n",
       "<table border=\"1\" class=\"dataframe\">\n",
       "  <thead>\n",
       "    <tr style=\"text-align: right;\">\n",
       "      <th></th>\n",
       "      <th>ds</th>\n",
       "      <th>y</th>\n",
       "    </tr>\n",
       "  </thead>\n",
       "  <tbody>\n",
       "    <tr>\n",
       "      <th>0</th>\n",
       "      <td>2023-07-26 00:00:00</td>\n",
       "      <td>528.0</td>\n",
       "    </tr>\n",
       "    <tr>\n",
       "      <th>1</th>\n",
       "      <td>2023-07-26 00:05:00</td>\n",
       "      <td>672.0</td>\n",
       "    </tr>\n",
       "    <tr>\n",
       "      <th>2</th>\n",
       "      <td>2023-07-26 00:10:00</td>\n",
       "      <td>770.0</td>\n",
       "    </tr>\n",
       "    <tr>\n",
       "      <th>3</th>\n",
       "      <td>2023-07-26 00:15:00</td>\n",
       "      <td>668.0</td>\n",
       "    </tr>\n",
       "    <tr>\n",
       "      <th>4</th>\n",
       "      <td>2023-07-26 00:20:00</td>\n",
       "      <td>816.0</td>\n",
       "    </tr>\n",
       "  </tbody>\n",
       "</table>\n",
       "</div>"
      ],
      "text/plain": [
       "                   ds      y\n",
       "0 2023-07-26 00:00:00  528.0\n",
       "1 2023-07-26 00:05:00  672.0\n",
       "2 2023-07-26 00:10:00  770.0\n",
       "3 2023-07-26 00:15:00  668.0\n",
       "4 2023-07-26 00:20:00  816.0"
      ]
     },
     "execution_count": 184,
     "metadata": {},
     "output_type": "execute_result"
    }
   ],
   "source": [
    "df.head()"
   ]
  },
  {
   "cell_type": "code",
   "execution_count": 185,
   "id": "0e6dfc3b-d2a4-4656-b243-c74d0edcb435",
   "metadata": {},
   "outputs": [],
   "source": [
    "df_1_week = df.iloc[:2016]"
   ]
  },
  {
   "cell_type": "code",
   "execution_count": 186,
   "id": "555fade7-9e74-4c2a-86a2-c2f7da6093ce",
   "metadata": {},
   "outputs": [
    {
     "data": {
      "text/html": [
       "<div>\n",
       "<style scoped>\n",
       "    .dataframe tbody tr th:only-of-type {\n",
       "        vertical-align: middle;\n",
       "    }\n",
       "\n",
       "    .dataframe tbody tr th {\n",
       "        vertical-align: top;\n",
       "    }\n",
       "\n",
       "    .dataframe thead th {\n",
       "        text-align: right;\n",
       "    }\n",
       "</style>\n",
       "<table border=\"1\" class=\"dataframe\">\n",
       "  <thead>\n",
       "    <tr style=\"text-align: right;\">\n",
       "      <th></th>\n",
       "      <th>ds</th>\n",
       "      <th>y</th>\n",
       "    </tr>\n",
       "  </thead>\n",
       "  <tbody>\n",
       "    <tr>\n",
       "      <th>0</th>\n",
       "      <td>2023-07-26 00:00:00</td>\n",
       "      <td>528.0</td>\n",
       "    </tr>\n",
       "    <tr>\n",
       "      <th>1</th>\n",
       "      <td>2023-07-26 00:05:00</td>\n",
       "      <td>672.0</td>\n",
       "    </tr>\n",
       "    <tr>\n",
       "      <th>2</th>\n",
       "      <td>2023-07-26 00:10:00</td>\n",
       "      <td>770.0</td>\n",
       "    </tr>\n",
       "    <tr>\n",
       "      <th>3</th>\n",
       "      <td>2023-07-26 00:15:00</td>\n",
       "      <td>668.0</td>\n",
       "    </tr>\n",
       "    <tr>\n",
       "      <th>4</th>\n",
       "      <td>2023-07-26 00:20:00</td>\n",
       "      <td>816.0</td>\n",
       "    </tr>\n",
       "  </tbody>\n",
       "</table>\n",
       "</div>"
      ],
      "text/plain": [
       "                   ds      y\n",
       "0 2023-07-26 00:00:00  528.0\n",
       "1 2023-07-26 00:05:00  672.0\n",
       "2 2023-07-26 00:10:00  770.0\n",
       "3 2023-07-26 00:15:00  668.0\n",
       "4 2023-07-26 00:20:00  816.0"
      ]
     },
     "execution_count": 186,
     "metadata": {},
     "output_type": "execute_result"
    }
   ],
   "source": [
    "df_1_week.head()"
   ]
  },
  {
   "cell_type": "code",
   "execution_count": 188,
   "id": "d64bf15d-7a03-4264-b490-1ab57f405c4a",
   "metadata": {},
   "outputs": [
    {
     "data": {
      "text/html": [
       "<div>\n",
       "<style scoped>\n",
       "    .dataframe tbody tr th:only-of-type {\n",
       "        vertical-align: middle;\n",
       "    }\n",
       "\n",
       "    .dataframe tbody tr th {\n",
       "        vertical-align: top;\n",
       "    }\n",
       "\n",
       "    .dataframe thead th {\n",
       "        text-align: right;\n",
       "    }\n",
       "</style>\n",
       "<table border=\"1\" class=\"dataframe\">\n",
       "  <thead>\n",
       "    <tr style=\"text-align: right;\">\n",
       "      <th></th>\n",
       "      <th>ds</th>\n",
       "      <th>y</th>\n",
       "    </tr>\n",
       "  </thead>\n",
       "  <tbody>\n",
       "    <tr>\n",
       "      <th>2011</th>\n",
       "      <td>2023-08-01 23:35:00</td>\n",
       "      <td>824.0</td>\n",
       "    </tr>\n",
       "    <tr>\n",
       "      <th>2012</th>\n",
       "      <td>2023-08-01 23:40:00</td>\n",
       "      <td>902.0</td>\n",
       "    </tr>\n",
       "    <tr>\n",
       "      <th>2013</th>\n",
       "      <td>2023-08-01 23:45:00</td>\n",
       "      <td>808.0</td>\n",
       "    </tr>\n",
       "    <tr>\n",
       "      <th>2014</th>\n",
       "      <td>2023-08-01 23:50:00</td>\n",
       "      <td>836.0</td>\n",
       "    </tr>\n",
       "    <tr>\n",
       "      <th>2015</th>\n",
       "      <td>2023-08-01 23:55:00</td>\n",
       "      <td>908.0</td>\n",
       "    </tr>\n",
       "  </tbody>\n",
       "</table>\n",
       "</div>"
      ],
      "text/plain": [
       "                      ds      y\n",
       "2011 2023-08-01 23:35:00  824.0\n",
       "2012 2023-08-01 23:40:00  902.0\n",
       "2013 2023-08-01 23:45:00  808.0\n",
       "2014 2023-08-01 23:50:00  836.0\n",
       "2015 2023-08-01 23:55:00  908.0"
      ]
     },
     "execution_count": 188,
     "metadata": {},
     "output_type": "execute_result"
    }
   ],
   "source": [
    "df_1_week.tail()"
   ]
  },
  {
   "cell_type": "code",
   "execution_count": 189,
   "id": "50abe15a-fdc2-4f74-89b8-6619637e1a72",
   "metadata": {},
   "outputs": [],
   "source": [
    "df_1_week.set_index('ds', inplace=True)"
   ]
  },
  {
   "cell_type": "code",
   "execution_count": 190,
   "id": "ee572033-fbc9-42e8-bcae-414f6a0cff60",
   "metadata": {},
   "outputs": [
    {
     "data": {
      "text/html": [
       "<div>\n",
       "<style scoped>\n",
       "    .dataframe tbody tr th:only-of-type {\n",
       "        vertical-align: middle;\n",
       "    }\n",
       "\n",
       "    .dataframe tbody tr th {\n",
       "        vertical-align: top;\n",
       "    }\n",
       "\n",
       "    .dataframe thead th {\n",
       "        text-align: right;\n",
       "    }\n",
       "</style>\n",
       "<table border=\"1\" class=\"dataframe\">\n",
       "  <thead>\n",
       "    <tr style=\"text-align: right;\">\n",
       "      <th></th>\n",
       "      <th>y</th>\n",
       "    </tr>\n",
       "    <tr>\n",
       "      <th>ds</th>\n",
       "      <th></th>\n",
       "    </tr>\n",
       "  </thead>\n",
       "  <tbody>\n",
       "    <tr>\n",
       "      <th>2023-08-01 23:35:00</th>\n",
       "      <td>824.0</td>\n",
       "    </tr>\n",
       "    <tr>\n",
       "      <th>2023-08-01 23:40:00</th>\n",
       "      <td>902.0</td>\n",
       "    </tr>\n",
       "    <tr>\n",
       "      <th>2023-08-01 23:45:00</th>\n",
       "      <td>808.0</td>\n",
       "    </tr>\n",
       "    <tr>\n",
       "      <th>2023-08-01 23:50:00</th>\n",
       "      <td>836.0</td>\n",
       "    </tr>\n",
       "    <tr>\n",
       "      <th>2023-08-01 23:55:00</th>\n",
       "      <td>908.0</td>\n",
       "    </tr>\n",
       "  </tbody>\n",
       "</table>\n",
       "</div>"
      ],
      "text/plain": [
       "                         y\n",
       "ds                        \n",
       "2023-08-01 23:35:00  824.0\n",
       "2023-08-01 23:40:00  902.0\n",
       "2023-08-01 23:45:00  808.0\n",
       "2023-08-01 23:50:00  836.0\n",
       "2023-08-01 23:55:00  908.0"
      ]
     },
     "execution_count": 190,
     "metadata": {},
     "output_type": "execute_result"
    }
   ],
   "source": [
    "df_1_week.tail()"
   ]
  },
  {
   "cell_type": "code",
   "execution_count": 204,
   "id": "121e7b2f-d1db-4e50-8d22-352329b104a3",
   "metadata": {},
   "outputs": [
    {
     "data": {
      "image/png": "[encoded data removed]",
      "text/plain": [
       "<Figure size 1200x500 with 1 Axes>"
      ]
     },
     "metadata": {},
     "output_type": "display_data"
    }
   ],
   "source": [
    "fig, ax = plt.subplots(figsize=(12,5))\n",
    "df_1_week.plot(ax=ax, grid=True, color='green', marker='.')\n",
    "plt.title('Date vs Number of Successful Transactions 1 Week (07/26/23 to 08/01/23)', color='blue')\n",
    "plt.show()"
   ]
  },
  {
   "cell_type": "code",
   "execution_count": 231,
   "id": "2187e48f-da97-4d7b-ac06-f7d10d7aadcf",
   "metadata": {},
   "outputs": [],
   "source": [
    "model_prophet = Prophet(growth='linear', changepoint_prior_scale=30, \n",
    "                        seasonality_prior_scale=288).add_seasonality(name='custom_daily',\n",
    "                                                                                                                                                  period=1/288,\n",
    "                                                                                                                                                  fourier_order=40)"
   ]
  },
  {
   "cell_type": "code",
   "execution_count": 232,
   "id": "b14ae990-e4e1-4f94-8e4d-bf6ee6ea6bb7",
   "metadata": {},
   "outputs": [
    {
     "data": {
      "text/html": [
       "<div>\n",
       "<style scoped>\n",
       "    .dataframe tbody tr th:only-of-type {\n",
       "        vertical-align: middle;\n",
       "    }\n",
       "\n",
       "    .dataframe tbody tr th {\n",
       "        vertical-align: top;\n",
       "    }\n",
       "\n",
       "    .dataframe thead th {\n",
       "        text-align: right;\n",
       "    }\n",
       "</style>\n",
       "<table border=\"1\" class=\"dataframe\">\n",
       "  <thead>\n",
       "    <tr style=\"text-align: right;\">\n",
       "      <th></th>\n",
       "      <th>ds</th>\n",
       "      <th>y</th>\n",
       "    </tr>\n",
       "  </thead>\n",
       "  <tbody>\n",
       "    <tr>\n",
       "      <th>0</th>\n",
       "      <td>2023-07-26 00:00:00</td>\n",
       "      <td>528.0</td>\n",
       "    </tr>\n",
       "    <tr>\n",
       "      <th>1</th>\n",
       "      <td>2023-07-26 00:05:00</td>\n",
       "      <td>672.0</td>\n",
       "    </tr>\n",
       "    <tr>\n",
       "      <th>2</th>\n",
       "      <td>2023-07-26 00:10:00</td>\n",
       "      <td>770.0</td>\n",
       "    </tr>\n",
       "    <tr>\n",
       "      <th>3</th>\n",
       "      <td>2023-07-26 00:15:00</td>\n",
       "      <td>668.0</td>\n",
       "    </tr>\n",
       "    <tr>\n",
       "      <th>4</th>\n",
       "      <td>2023-07-26 00:20:00</td>\n",
       "      <td>816.0</td>\n",
       "    </tr>\n",
       "  </tbody>\n",
       "</table>\n",
       "</div>"
      ],
      "text/plain": [
       "                   ds      y\n",
       "0 2023-07-26 00:00:00  528.0\n",
       "1 2023-07-26 00:05:00  672.0\n",
       "2 2023-07-26 00:10:00  770.0\n",
       "3 2023-07-26 00:15:00  668.0\n",
       "4 2023-07-26 00:20:00  816.0"
      ]
     },
     "execution_count": 232,
     "metadata": {},
     "output_type": "execute_result"
    }
   ],
   "source": [
    "df.head()"
   ]
  },
  {
   "cell_type": "code",
   "execution_count": 233,
   "id": "87707252-00bb-4b99-a3ea-04eb168d9eab",
   "metadata": {},
   "outputs": [
    {
     "data": {
      "text/plain": [
       "(8352, 2)"
      ]
     },
     "execution_count": 233,
     "metadata": {},
     "output_type": "execute_result"
    }
   ],
   "source": [
    "df.shape"
   ]
  },
  {
   "cell_type": "code",
   "execution_count": 234,
   "id": "8fed1ea5-7a5c-4672-b047-4b71941143a1",
   "metadata": {},
   "outputs": [
    {
     "name": "stderr",
     "output_type": "stream",
     "text": [
      "19:18:19 - cmdstanpy - INFO - Chain [1] start processing\n",
      "19:18:32 - cmdstanpy - INFO - Chain [1] done processing\n"
     ]
    },
    {
     "data": {
      "text/plain": [
       "<prophet.forecaster.Prophet at 0x7f6c843a7b20>"
      ]
     },
     "execution_count": 234,
     "metadata": {},
     "output_type": "execute_result"
    }
   ],
   "source": [
    "model_prophet.fit(df)"
   ]
  },
  {
   "cell_type": "code",
   "execution_count": 235,
   "id": "fc4bade7-2b6f-4427-b25f-55b8abfb6c63",
   "metadata": {},
   "outputs": [
    {
     "data": {
      "text/html": [
       "<div>\n",
       "<style scoped>\n",
       "    .dataframe tbody tr th:only-of-type {\n",
       "        vertical-align: middle;\n",
       "    }\n",
       "\n",
       "    .dataframe tbody tr th {\n",
       "        vertical-align: top;\n",
       "    }\n",
       "\n",
       "    .dataframe thead th {\n",
       "        text-align: right;\n",
       "    }\n",
       "</style>\n",
       "<table border=\"1\" class=\"dataframe\">\n",
       "  <thead>\n",
       "    <tr style=\"text-align: right;\">\n",
       "      <th></th>\n",
       "      <th>ds</th>\n",
       "    </tr>\n",
       "  </thead>\n",
       "  <tbody>\n",
       "    <tr>\n",
       "      <th>8359</th>\n",
       "      <td>2023-08-24 00:35:00</td>\n",
       "    </tr>\n",
       "    <tr>\n",
       "      <th>8360</th>\n",
       "      <td>2023-08-24 00:40:00</td>\n",
       "    </tr>\n",
       "    <tr>\n",
       "      <th>8361</th>\n",
       "      <td>2023-08-24 00:45:00</td>\n",
       "    </tr>\n",
       "    <tr>\n",
       "      <th>8362</th>\n",
       "      <td>2023-08-24 00:50:00</td>\n",
       "    </tr>\n",
       "    <tr>\n",
       "      <th>8363</th>\n",
       "      <td>2023-08-24 00:55:00</td>\n",
       "    </tr>\n",
       "  </tbody>\n",
       "</table>\n",
       "</div>"
      ],
      "text/plain": [
       "                      ds\n",
       "8359 2023-08-24 00:35:00\n",
       "8360 2023-08-24 00:40:00\n",
       "8361 2023-08-24 00:45:00\n",
       "8362 2023-08-24 00:50:00\n",
       "8363 2023-08-24 00:55:00"
      ]
     },
     "execution_count": 235,
     "metadata": {},
     "output_type": "execute_result"
    }
   ],
   "source": [
    "future_prophet = model_prophet.make_future_dataframe(periods=12, freq='5min')\n",
    "future_prophet.tail()"
   ]
  },
  {
   "cell_type": "code",
   "execution_count": 237,
   "id": "2dfaf5ef-9cc5-43c0-8f7d-a86f453fa6d6",
   "metadata": {},
   "outputs": [
    {
     "data": {
      "text/html": [
       "<div>\n",
       "<style scoped>\n",
       "    .dataframe tbody tr th:only-of-type {\n",
       "        vertical-align: middle;\n",
       "    }\n",
       "\n",
       "    .dataframe tbody tr th {\n",
       "        vertical-align: top;\n",
       "    }\n",
       "\n",
       "    .dataframe thead th {\n",
       "        text-align: right;\n",
       "    }\n",
       "</style>\n",
       "<table border=\"1\" class=\"dataframe\">\n",
       "  <thead>\n",
       "    <tr style=\"text-align: right;\">\n",
       "      <th></th>\n",
       "      <th>ds</th>\n",
       "      <th>yhat</th>\n",
       "      <th>yhat_lower</th>\n",
       "      <th>yhat_upper</th>\n",
       "    </tr>\n",
       "  </thead>\n",
       "  <tbody>\n",
       "    <tr>\n",
       "      <th>8352</th>\n",
       "      <td>2023-08-24 00:00:00</td>\n",
       "      <td>913.542132</td>\n",
       "      <td>447.327430</td>\n",
       "      <td>1349.194831</td>\n",
       "    </tr>\n",
       "    <tr>\n",
       "      <th>8353</th>\n",
       "      <td>2023-08-24 00:05:00</td>\n",
       "      <td>908.638166</td>\n",
       "      <td>467.459962</td>\n",
       "      <td>1366.098624</td>\n",
       "    </tr>\n",
       "    <tr>\n",
       "      <th>8354</th>\n",
       "      <td>2023-08-24 00:10:00</td>\n",
       "      <td>903.769975</td>\n",
       "      <td>451.778222</td>\n",
       "      <td>1391.526383</td>\n",
       "    </tr>\n",
       "    <tr>\n",
       "      <th>8355</th>\n",
       "      <td>2023-08-24 00:15:00</td>\n",
       "      <td>898.923555</td>\n",
       "      <td>463.679074</td>\n",
       "      <td>1352.953212</td>\n",
       "    </tr>\n",
       "    <tr>\n",
       "      <th>8356</th>\n",
       "      <td>2023-08-24 00:20:00</td>\n",
       "      <td>894.085095</td>\n",
       "      <td>433.843112</td>\n",
       "      <td>1348.496227</td>\n",
       "    </tr>\n",
       "    <tr>\n",
       "      <th>8357</th>\n",
       "      <td>2023-08-24 00:25:00</td>\n",
       "      <td>889.241118</td>\n",
       "      <td>414.881412</td>\n",
       "      <td>1346.968333</td>\n",
       "    </tr>\n",
       "    <tr>\n",
       "      <th>8358</th>\n",
       "      <td>2023-08-24 00:30:00</td>\n",
       "      <td>884.378561</td>\n",
       "      <td>436.914179</td>\n",
       "      <td>1355.272058</td>\n",
       "    </tr>\n",
       "    <tr>\n",
       "      <th>8359</th>\n",
       "      <td>2023-08-24 00:35:00</td>\n",
       "      <td>879.484933</td>\n",
       "      <td>423.406949</td>\n",
       "      <td>1352.702960</td>\n",
       "    </tr>\n",
       "    <tr>\n",
       "      <th>8360</th>\n",
       "      <td>2023-08-24 00:40:00</td>\n",
       "      <td>874.548399</td>\n",
       "      <td>401.789965</td>\n",
       "      <td>1274.678966</td>\n",
       "    </tr>\n",
       "    <tr>\n",
       "      <th>8361</th>\n",
       "      <td>2023-08-24 00:45:00</td>\n",
       "      <td>869.557892</td>\n",
       "      <td>404.801267</td>\n",
       "      <td>1320.117581</td>\n",
       "    </tr>\n",
       "    <tr>\n",
       "      <th>8362</th>\n",
       "      <td>2023-08-24 00:50:00</td>\n",
       "      <td>864.503218</td>\n",
       "      <td>421.882457</td>\n",
       "      <td>1307.309191</td>\n",
       "    </tr>\n",
       "    <tr>\n",
       "      <th>8363</th>\n",
       "      <td>2023-08-24 00:55:00</td>\n",
       "      <td>859.375130</td>\n",
       "      <td>428.608412</td>\n",
       "      <td>1327.659960</td>\n",
       "    </tr>\n",
       "  </tbody>\n",
       "</table>\n",
       "</div>"
      ],
      "text/plain": [
       "                      ds        yhat  yhat_lower   yhat_upper\n",
       "8352 2023-08-24 00:00:00  913.542132  447.327430  1349.194831\n",
       "8353 2023-08-24 00:05:00  908.638166  467.459962  1366.098624\n",
       "8354 2023-08-24 00:10:00  903.769975  451.778222  1391.526383\n",
       "8355 2023-08-24 00:15:00  898.923555  463.679074  1352.953212\n",
       "8356 2023-08-24 00:20:00  894.085095  433.843112  1348.496227\n",
       "8357 2023-08-24 00:25:00  889.241118  414.881412  1346.968333\n",
       "8358 2023-08-24 00:30:00  884.378561  436.914179  1355.272058\n",
       "8359 2023-08-24 00:35:00  879.484933  423.406949  1352.702960\n",
       "8360 2023-08-24 00:40:00  874.548399  401.789965  1274.678966\n",
       "8361 2023-08-24 00:45:00  869.557892  404.801267  1320.117581\n",
       "8362 2023-08-24 00:50:00  864.503218  421.882457  1307.309191\n",
       "8363 2023-08-24 00:55:00  859.375130  428.608412  1327.659960"
      ]
     },
     "execution_count": 237,
     "metadata": {},
     "output_type": "execute_result"
    }
   ],
   "source": [
    "# Make predictions for the future dates\n",
    "#forecast_prophet = model_prophet.predict(future_prophet)\n",
    "forecast_prophet[['ds', 'yhat', 'yhat_lower', 'yhat_upper']].tail(12)"
   ]
  },
  {
   "cell_type": "code",
   "execution_count": 238,
   "id": "c7381108-90e9-48de-aa44-ce57b23d6676",
   "metadata": {},
   "outputs": [
    {
     "data": {
      "text/html": [
       "<div>\n",
       "<style scoped>\n",
       "    .dataframe tbody tr th:only-of-type {\n",
       "        vertical-align: middle;\n",
       "    }\n",
       "\n",
       "    .dataframe tbody tr th {\n",
       "        vertical-align: top;\n",
       "    }\n",
       "\n",
       "    .dataframe thead th {\n",
       "        text-align: right;\n",
       "    }\n",
       "</style>\n",
       "<table border=\"1\" class=\"dataframe\">\n",
       "  <thead>\n",
       "    <tr style=\"text-align: right;\">\n",
       "      <th></th>\n",
       "      <th>ds</th>\n",
       "      <th>yhat</th>\n",
       "      <th>yhat_lower</th>\n",
       "      <th>yhat_upper</th>\n",
       "    </tr>\n",
       "  </thead>\n",
       "  <tbody>\n",
       "    <tr>\n",
       "      <th>8352</th>\n",
       "      <td>2023-08-24 00:00:00</td>\n",
       "      <td>470.170564</td>\n",
       "      <td>-34.618052</td>\n",
       "      <td>956.240038</td>\n",
       "    </tr>\n",
       "    <tr>\n",
       "      <th>8353</th>\n",
       "      <td>2023-08-24 00:05:00</td>\n",
       "      <td>462.619178</td>\n",
       "      <td>12.702564</td>\n",
       "      <td>948.428093</td>\n",
       "    </tr>\n",
       "    <tr>\n",
       "      <th>8354</th>\n",
       "      <td>2023-08-24 00:10:00</td>\n",
       "      <td>455.103723</td>\n",
       "      <td>-13.082557</td>\n",
       "      <td>957.517590</td>\n",
       "    </tr>\n",
       "    <tr>\n",
       "      <th>8355</th>\n",
       "      <td>2023-08-24 00:15:00</td>\n",
       "      <td>447.612111</td>\n",
       "      <td>-61.861095</td>\n",
       "      <td>919.883528</td>\n",
       "    </tr>\n",
       "    <tr>\n",
       "      <th>8356</th>\n",
       "      <td>2023-08-24 00:20:00</td>\n",
       "      <td>440.132438</td>\n",
       "      <td>-30.007018</td>\n",
       "      <td>937.798942</td>\n",
       "    </tr>\n",
       "    <tr>\n",
       "      <th>8357</th>\n",
       "      <td>2023-08-24 00:25:00</td>\n",
       "      <td>432.653089</td>\n",
       "      <td>-81.917146</td>\n",
       "      <td>912.300821</td>\n",
       "    </tr>\n",
       "    <tr>\n",
       "      <th>8358</th>\n",
       "      <td>2023-08-24 00:30:00</td>\n",
       "      <td>425.162852</td>\n",
       "      <td>-102.258958</td>\n",
       "      <td>873.240553</td>\n",
       "    </tr>\n",
       "    <tr>\n",
       "      <th>8359</th>\n",
       "      <td>2023-08-24 00:35:00</td>\n",
       "      <td>417.651020</td>\n",
       "      <td>-62.896863</td>\n",
       "      <td>890.622983</td>\n",
       "    </tr>\n",
       "    <tr>\n",
       "      <th>8360</th>\n",
       "      <td>2023-08-24 00:40:00</td>\n",
       "      <td>410.107493</td>\n",
       "      <td>-91.121170</td>\n",
       "      <td>912.958983</td>\n",
       "    </tr>\n",
       "    <tr>\n",
       "      <th>8361</th>\n",
       "      <td>2023-08-24 00:45:00</td>\n",
       "      <td>402.522875</td>\n",
       "      <td>-95.772687</td>\n",
       "      <td>876.373265</td>\n",
       "    </tr>\n",
       "    <tr>\n",
       "      <th>8362</th>\n",
       "      <td>2023-08-24 00:50:00</td>\n",
       "      <td>394.888562</td>\n",
       "      <td>-80.160369</td>\n",
       "      <td>827.316344</td>\n",
       "    </tr>\n",
       "    <tr>\n",
       "      <th>8363</th>\n",
       "      <td>2023-08-24 00:55:00</td>\n",
       "      <td>387.196831</td>\n",
       "      <td>-113.331799</td>\n",
       "      <td>883.951351</td>\n",
       "    </tr>\n",
       "  </tbody>\n",
       "</table>\n",
       "</div>"
      ],
      "text/plain": [
       "                      ds        yhat  yhat_lower  yhat_upper\n",
       "8352 2023-08-24 00:00:00  470.170564  -34.618052  956.240038\n",
       "8353 2023-08-24 00:05:00  462.619178   12.702564  948.428093\n",
       "8354 2023-08-24 00:10:00  455.103723  -13.082557  957.517590\n",
       "8355 2023-08-24 00:15:00  447.612111  -61.861095  919.883528\n",
       "8356 2023-08-24 00:20:00  440.132438  -30.007018  937.798942\n",
       "8357 2023-08-24 00:25:00  432.653089  -81.917146  912.300821\n",
       "8358 2023-08-24 00:30:00  425.162852 -102.258958  873.240553\n",
       "8359 2023-08-24 00:35:00  417.651020  -62.896863  890.622983\n",
       "8360 2023-08-24 00:40:00  410.107493  -91.121170  912.958983\n",
       "8361 2023-08-24 00:45:00  402.522875  -95.772687  876.373265\n",
       "8362 2023-08-24 00:50:00  394.888562  -80.160369  827.316344\n",
       "8363 2023-08-24 00:55:00  387.196831 -113.331799  883.951351"
      ]
     },
     "execution_count": 238,
     "metadata": {},
     "output_type": "execute_result"
    }
   ],
   "source": [
    "forecast[['ds', 'yhat', 'yhat_lower', 'yhat_upper']].tail(12)"
   ]
  },
  {
   "cell_type": "code",
   "execution_count": 239,
   "id": "abcff827-c590-4f3a-ab21-d5e6187c77bd",
   "metadata": {},
   "outputs": [
    {
     "data": {
      "text/html": [
       "<div>\n",
       "<style scoped>\n",
       "    .dataframe tbody tr th:only-of-type {\n",
       "        vertical-align: middle;\n",
       "    }\n",
       "\n",
       "    .dataframe tbody tr th {\n",
       "        vertical-align: top;\n",
       "    }\n",
       "\n",
       "    .dataframe thead th {\n",
       "        text-align: right;\n",
       "    }\n",
       "</style>\n",
       "<table border=\"1\" class=\"dataframe\">\n",
       "  <thead>\n",
       "    <tr style=\"text-align: right;\">\n",
       "      <th></th>\n",
       "      <th>success_transactions</th>\n",
       "    </tr>\n",
       "    <tr>\n",
       "      <th>cal_timestamp_time</th>\n",
       "      <th></th>\n",
       "    </tr>\n",
       "  </thead>\n",
       "  <tbody>\n",
       "    <tr>\n",
       "      <th>2023-08-24 00:00:00.000000 UTC</th>\n",
       "      <td>701</td>\n",
       "    </tr>\n",
       "    <tr>\n",
       "      <th>2023-08-24 00:05:00.000000 UTC</th>\n",
       "      <td>602</td>\n",
       "    </tr>\n",
       "    <tr>\n",
       "      <th>2023-08-24 00:10:00.000000 UTC</th>\n",
       "      <td>634</td>\n",
       "    </tr>\n",
       "    <tr>\n",
       "      <th>2023-08-24 00:15:00.000000 UTC</th>\n",
       "      <td>689</td>\n",
       "    </tr>\n",
       "    <tr>\n",
       "      <th>2023-08-24 00:20:00.000000 UTC</th>\n",
       "      <td>526</td>\n",
       "    </tr>\n",
       "    <tr>\n",
       "      <th>2023-08-24 00:25:00.000000 UTC</th>\n",
       "      <td>606</td>\n",
       "    </tr>\n",
       "    <tr>\n",
       "      <th>2023-08-24 00:30:00.000000 UTC</th>\n",
       "      <td>788</td>\n",
       "    </tr>\n",
       "    <tr>\n",
       "      <th>2023-08-24 00:35:00.000000 UTC</th>\n",
       "      <td>566</td>\n",
       "    </tr>\n",
       "    <tr>\n",
       "      <th>2023-08-24 00:40:00.000000 UTC</th>\n",
       "      <td>626</td>\n",
       "    </tr>\n",
       "    <tr>\n",
       "      <th>2023-08-24 00:45:00.000000 UTC</th>\n",
       "      <td>698</td>\n",
       "    </tr>\n",
       "    <tr>\n",
       "      <th>2023-08-24 00:50:00.000000 UTC</th>\n",
       "      <td>513</td>\n",
       "    </tr>\n",
       "    <tr>\n",
       "      <th>2023-08-24 00:55:00.000000 UTC</th>\n",
       "      <td>646</td>\n",
       "    </tr>\n",
       "  </tbody>\n",
       "</table>\n",
       "</div>"
      ],
      "text/plain": [
       "                                success_transactions\n",
       "cal_timestamp_time                                  \n",
       "2023-08-24 00:00:00.000000 UTC                   701\n",
       "2023-08-24 00:05:00.000000 UTC                   602\n",
       "2023-08-24 00:10:00.000000 UTC                   634\n",
       "2023-08-24 00:15:00.000000 UTC                   689\n",
       "2023-08-24 00:20:00.000000 UTC                   526\n",
       "2023-08-24 00:25:00.000000 UTC                   606\n",
       "2023-08-24 00:30:00.000000 UTC                   788\n",
       "2023-08-24 00:35:00.000000 UTC                   566\n",
       "2023-08-24 00:40:00.000000 UTC                   626\n",
       "2023-08-24 00:45:00.000000 UTC                   698\n",
       "2023-08-24 00:50:00.000000 UTC                   513\n",
       "2023-08-24 00:55:00.000000 UTC                   646"
      ]
     },
     "execution_count": 239,
     "metadata": {},
     "output_type": "execute_result"
    }
   ],
   "source": [
    "df_test_actual.head(12)"
   ]
  },
  {
   "cell_type": "code",
   "execution_count": 248,
   "id": "e045960b-18b7-44c1-96db-09538c72ff68",
   "metadata": {},
   "outputs": [],
   "source": [
    "y_forecast_val = forecast_prophet[['yhat']].tail(12)"
   ]
  },
  {
   "cell_type": "code",
   "execution_count": 249,
   "id": "8d940fe3-fbda-4c40-acf1-50eba920dc72",
   "metadata": {},
   "outputs": [
    {
     "data": {
      "text/html": [
       "<div>\n",
       "<style scoped>\n",
       "    .dataframe tbody tr th:only-of-type {\n",
       "        vertical-align: middle;\n",
       "    }\n",
       "\n",
       "    .dataframe tbody tr th {\n",
       "        vertical-align: top;\n",
       "    }\n",
       "\n",
       "    .dataframe thead th {\n",
       "        text-align: right;\n",
       "    }\n",
       "</style>\n",
       "<table border=\"1\" class=\"dataframe\">\n",
       "  <thead>\n",
       "    <tr style=\"text-align: right;\">\n",
       "      <th></th>\n",
       "      <th>yhat</th>\n",
       "    </tr>\n",
       "  </thead>\n",
       "  <tbody>\n",
       "    <tr>\n",
       "      <th>8352</th>\n",
       "      <td>913.542132</td>\n",
       "    </tr>\n",
       "    <tr>\n",
       "      <th>8353</th>\n",
       "      <td>908.638166</td>\n",
       "    </tr>\n",
       "    <tr>\n",
       "      <th>8354</th>\n",
       "      <td>903.769975</td>\n",
       "    </tr>\n",
       "    <tr>\n",
       "      <th>8355</th>\n",
       "      <td>898.923555</td>\n",
       "    </tr>\n",
       "    <tr>\n",
       "      <th>8356</th>\n",
       "      <td>894.085095</td>\n",
       "    </tr>\n",
       "    <tr>\n",
       "      <th>8357</th>\n",
       "      <td>889.241118</td>\n",
       "    </tr>\n",
       "    <tr>\n",
       "      <th>8358</th>\n",
       "      <td>884.378561</td>\n",
       "    </tr>\n",
       "    <tr>\n",
       "      <th>8359</th>\n",
       "      <td>879.484933</td>\n",
       "    </tr>\n",
       "    <tr>\n",
       "      <th>8360</th>\n",
       "      <td>874.548399</td>\n",
       "    </tr>\n",
       "    <tr>\n",
       "      <th>8361</th>\n",
       "      <td>869.557892</td>\n",
       "    </tr>\n",
       "    <tr>\n",
       "      <th>8362</th>\n",
       "      <td>864.503218</td>\n",
       "    </tr>\n",
       "    <tr>\n",
       "      <th>8363</th>\n",
       "      <td>859.375130</td>\n",
       "    </tr>\n",
       "  </tbody>\n",
       "</table>\n",
       "</div>"
      ],
      "text/plain": [
       "            yhat\n",
       "8352  913.542132\n",
       "8353  908.638166\n",
       "8354  903.769975\n",
       "8355  898.923555\n",
       "8356  894.085095\n",
       "8357  889.241118\n",
       "8358  884.378561\n",
       "8359  879.484933\n",
       "8360  874.548399\n",
       "8361  869.557892\n",
       "8362  864.503218\n",
       "8363  859.375130"
      ]
     },
     "execution_count": 249,
     "metadata": {},
     "output_type": "execute_result"
    }
   ],
   "source": [
    "y_forecast_val"
   ]
  },
  {
   "cell_type": "code",
   "execution_count": 250,
   "id": "e5c0ec04-d6e7-4633-855c-a5927cb068e3",
   "metadata": {},
   "outputs": [
    {
     "data": {
      "text/plain": [
       "42.095396548024794"
      ]
     },
     "execution_count": 250,
     "metadata": {},
     "output_type": "execute_result"
    }
   ],
   "source": [
    "mape_result(y_actual, y_forecast_val)"
   ]
  },
  {
   "cell_type": "code",
   "execution_count": 251,
   "id": "99467f0a-45ae-4729-95d6-ee024cfaeabb",
   "metadata": {},
   "outputs": [],
   "source": [
    "model_prophet_seasonality_288 = Prophet(growth='linear', changepoint_prior_scale=30, \n",
    "                        seasonality_prior_scale=288).add_seasonality(name='custom_daily',\n",
    "                                                                                                                                                  period=288,\n",
    "                                                                                                                                                  fourier_order=40)"
   ]
  },
  {
   "cell_type": "code",
   "execution_count": 252,
   "id": "7b477cd4-0cc2-4cd9-a225-c4f15bc2d2d8",
   "metadata": {},
   "outputs": [
    {
     "name": "stderr",
     "output_type": "stream",
     "text": [
      "14:06:51 - cmdstanpy - INFO - Chain [1] start processing\n",
      "14:07:01 - cmdstanpy - INFO - Chain [1] done processing\n"
     ]
    },
    {
     "data": {
      "text/plain": [
       "<prophet.forecaster.Prophet at 0x7f6c858cca60>"
      ]
     },
     "execution_count": 252,
     "metadata": {},
     "output_type": "execute_result"
    }
   ],
   "source": [
    "# # # Python\n",
    "# from prophet.diagnostics import cross_validation\n",
    "# df_cv = cross_validation(model_prophet, initial='2016 days', period='276 days', horizon = '12 days')\n",
    "\n",
    "model_prophet_seasonality_288.fit(df)"
   ]
  },
  {
   "cell_type": "code",
   "execution_count": 253,
   "id": "e895ec72-1485-4e68-a12f-3a501b173f36",
   "metadata": {},
   "outputs": [],
   "source": [
    "forecast_288_seasonality = model_prophet_seasonality_288.make_future_dataframe(periods=12, freq='5min')"
   ]
  },
  {
   "cell_type": "code",
   "execution_count": 254,
   "id": "61b5c0ce-eb96-48f5-9d44-5f6d46c513c5",
   "metadata": {},
   "outputs": [
    {
     "data": {
      "text/html": [
       "<div>\n",
       "<style scoped>\n",
       "    .dataframe tbody tr th:only-of-type {\n",
       "        vertical-align: middle;\n",
       "    }\n",
       "\n",
       "    .dataframe tbody tr th {\n",
       "        vertical-align: top;\n",
       "    }\n",
       "\n",
       "    .dataframe thead th {\n",
       "        text-align: right;\n",
       "    }\n",
       "</style>\n",
       "<table border=\"1\" class=\"dataframe\">\n",
       "  <thead>\n",
       "    <tr style=\"text-align: right;\">\n",
       "      <th></th>\n",
       "      <th>ds</th>\n",
       "    </tr>\n",
       "  </thead>\n",
       "  <tbody>\n",
       "    <tr>\n",
       "      <th>8359</th>\n",
       "      <td>2023-08-24 00:35:00</td>\n",
       "    </tr>\n",
       "    <tr>\n",
       "      <th>8360</th>\n",
       "      <td>2023-08-24 00:40:00</td>\n",
       "    </tr>\n",
       "    <tr>\n",
       "      <th>8361</th>\n",
       "      <td>2023-08-24 00:45:00</td>\n",
       "    </tr>\n",
       "    <tr>\n",
       "      <th>8362</th>\n",
       "      <td>2023-08-24 00:50:00</td>\n",
       "    </tr>\n",
       "    <tr>\n",
       "      <th>8363</th>\n",
       "      <td>2023-08-24 00:55:00</td>\n",
       "    </tr>\n",
       "  </tbody>\n",
       "</table>\n",
       "</div>"
      ],
      "text/plain": [
       "                      ds\n",
       "8359 2023-08-24 00:35:00\n",
       "8360 2023-08-24 00:40:00\n",
       "8361 2023-08-24 00:45:00\n",
       "8362 2023-08-24 00:50:00\n",
       "8363 2023-08-24 00:55:00"
      ]
     },
     "execution_count": 254,
     "metadata": {},
     "output_type": "execute_result"
    }
   ],
   "source": [
    "forecast_288_seasonality.tail()"
   ]
  },
  {
   "cell_type": "code",
   "execution_count": 255,
   "id": "dc3986c8-d09e-4408-9f95-a84a079e5670",
   "metadata": {},
   "outputs": [],
   "source": [
    "forecast_288_seasonality_prophet = model_prophet_seasonality_288.predict(forecast_288_seasonality)"
   ]
  },
  {
   "cell_type": "code",
   "execution_count": 257,
   "id": "03c78170-94c3-4eb6-b6b0-78caf30ee9ce",
   "metadata": {},
   "outputs": [
    {
     "data": {
      "text/html": [
       "<div>\n",
       "<style scoped>\n",
       "    .dataframe tbody tr th:only-of-type {\n",
       "        vertical-align: middle;\n",
       "    }\n",
       "\n",
       "    .dataframe tbody tr th {\n",
       "        vertical-align: top;\n",
       "    }\n",
       "\n",
       "    .dataframe thead th {\n",
       "        text-align: right;\n",
       "    }\n",
       "</style>\n",
       "<table border=\"1\" class=\"dataframe\">\n",
       "  <thead>\n",
       "    <tr style=\"text-align: right;\">\n",
       "      <th></th>\n",
       "      <th>ds</th>\n",
       "      <th>yhat</th>\n",
       "      <th>yhat_lower</th>\n",
       "      <th>yhat_upper</th>\n",
       "    </tr>\n",
       "  </thead>\n",
       "  <tbody>\n",
       "    <tr>\n",
       "      <th>8359</th>\n",
       "      <td>2023-08-24 00:35:00</td>\n",
       "      <td>1507.550310</td>\n",
       "      <td>1060.079846</td>\n",
       "      <td>1980.986885</td>\n",
       "    </tr>\n",
       "    <tr>\n",
       "      <th>8360</th>\n",
       "      <td>2023-08-24 00:40:00</td>\n",
       "      <td>1512.447822</td>\n",
       "      <td>1046.966142</td>\n",
       "      <td>1942.485356</td>\n",
       "    </tr>\n",
       "    <tr>\n",
       "      <th>8361</th>\n",
       "      <td>2023-08-24 00:45:00</td>\n",
       "      <td>1517.348273</td>\n",
       "      <td>1083.335186</td>\n",
       "      <td>1985.379309</td>\n",
       "    </tr>\n",
       "    <tr>\n",
       "      <th>8362</th>\n",
       "      <td>2023-08-24 00:50:00</td>\n",
       "      <td>1522.239941</td>\n",
       "      <td>1086.093076</td>\n",
       "      <td>1966.446577</td>\n",
       "    </tr>\n",
       "    <tr>\n",
       "      <th>8363</th>\n",
       "      <td>2023-08-24 00:55:00</td>\n",
       "      <td>1527.112151</td>\n",
       "      <td>1092.504498</td>\n",
       "      <td>1969.444241</td>\n",
       "    </tr>\n",
       "  </tbody>\n",
       "</table>\n",
       "</div>"
      ],
      "text/plain": [
       "                      ds         yhat   yhat_lower   yhat_upper\n",
       "8359 2023-08-24 00:35:00  1507.550310  1060.079846  1980.986885\n",
       "8360 2023-08-24 00:40:00  1512.447822  1046.966142  1942.485356\n",
       "8361 2023-08-24 00:45:00  1517.348273  1083.335186  1985.379309\n",
       "8362 2023-08-24 00:50:00  1522.239941  1086.093076  1966.446577\n",
       "8363 2023-08-24 00:55:00  1527.112151  1092.504498  1969.444241"
      ]
     },
     "execution_count": 257,
     "metadata": {},
     "output_type": "execute_result"
    }
   ],
   "source": [
    "forecast_288_seasonality_prophet[['ds', 'yhat', 'yhat_lower', 'yhat_upper']].tail()"
   ]
  },
  {
   "cell_type": "code",
   "execution_count": 258,
   "id": "503c32b4-1422-43a7-86b9-3f6bde9a3de4",
   "metadata": {},
   "outputs": [],
   "source": [
    "model_prophet_seasonality_flat = Prophet(growth='flat', changepoint_prior_scale=30, \n",
    "                        seasonality_prior_scale=288).add_seasonality(name='custom_daily', period=1/288, fourier_order=40)"
   ]
  },
  {
   "cell_type": "code",
   "execution_count": 259,
   "id": "ac41aa98-94a7-4a00-a7b3-278df4b4241f",
   "metadata": {},
   "outputs": [
    {
     "name": "stderr",
     "output_type": "stream",
     "text": [
      "14:13:29 - cmdstanpy - INFO - Chain [1] start processing\n",
      "14:13:30 - cmdstanpy - INFO - Chain [1] done processing\n"
     ]
    },
    {
     "data": {
      "text/plain": [
       "<prophet.forecaster.Prophet at 0x7f6c860a1c30>"
      ]
     },
     "execution_count": 259,
     "metadata": {},
     "output_type": "execute_result"
    }
   ],
   "source": [
    "model_prophet_seasonality_flat.fit(df)"
   ]
  },
  {
   "cell_type": "code",
   "execution_count": 260,
   "id": "92fbfc21-3930-4394-9f4e-c2ad08ac5b24",
   "metadata": {},
   "outputs": [],
   "source": [
    "forecast_288_seasonality_flat = model_prophet_seasonality_flat.make_future_dataframe(periods=12, freq='5min')"
   ]
  },
  {
   "cell_type": "code",
   "execution_count": 261,
   "id": "a21de2d8-a068-447f-9adc-7f80f99ac693",
   "metadata": {},
   "outputs": [],
   "source": [
    "forecast_flat = model_prophet_seasonality_flat.predict(forecast_288_seasonality_flat)"
   ]
  },
  {
   "cell_type": "code",
   "execution_count": 263,
   "id": "1a4db1ff-401b-4fb4-872d-4fb36bc253eb",
   "metadata": {},
   "outputs": [
    {
     "data": {
      "text/html": [
       "<div>\n",
       "<style scoped>\n",
       "    .dataframe tbody tr th:only-of-type {\n",
       "        vertical-align: middle;\n",
       "    }\n",
       "\n",
       "    .dataframe tbody tr th {\n",
       "        vertical-align: top;\n",
       "    }\n",
       "\n",
       "    .dataframe thead th {\n",
       "        text-align: right;\n",
       "    }\n",
       "</style>\n",
       "<table border=\"1\" class=\"dataframe\">\n",
       "  <thead>\n",
       "    <tr style=\"text-align: right;\">\n",
       "      <th></th>\n",
       "      <th>ds</th>\n",
       "      <th>yhat</th>\n",
       "      <th>yhat_lower</th>\n",
       "      <th>yhat_upper</th>\n",
       "    </tr>\n",
       "  </thead>\n",
       "  <tbody>\n",
       "    <tr>\n",
       "      <th>8352</th>\n",
       "      <td>2023-08-24 00:00:00</td>\n",
       "      <td>779.880479</td>\n",
       "      <td>242.651731</td>\n",
       "      <td>1360.563525</td>\n",
       "    </tr>\n",
       "    <tr>\n",
       "      <th>8353</th>\n",
       "      <td>2023-08-24 00:05:00</td>\n",
       "      <td>772.895061</td>\n",
       "      <td>215.457939</td>\n",
       "      <td>1339.156219</td>\n",
       "    </tr>\n",
       "    <tr>\n",
       "      <th>8354</th>\n",
       "      <td>2023-08-24 00:10:00</td>\n",
       "      <td>765.947281</td>\n",
       "      <td>252.110983</td>\n",
       "      <td>1301.865302</td>\n",
       "    </tr>\n",
       "    <tr>\n",
       "      <th>8355</th>\n",
       "      <td>2023-08-24 00:15:00</td>\n",
       "      <td>759.024312</td>\n",
       "      <td>245.203919</td>\n",
       "      <td>1323.191893</td>\n",
       "    </tr>\n",
       "    <tr>\n",
       "      <th>8356</th>\n",
       "      <td>2023-08-24 00:20:00</td>\n",
       "      <td>752.113514</td>\n",
       "      <td>183.893561</td>\n",
       "      <td>1308.920887</td>\n",
       "    </tr>\n",
       "    <tr>\n",
       "      <th>8357</th>\n",
       "      <td>2023-08-24 00:25:00</td>\n",
       "      <td>745.202546</td>\n",
       "      <td>169.657668</td>\n",
       "      <td>1297.555653</td>\n",
       "    </tr>\n",
       "    <tr>\n",
       "      <th>8358</th>\n",
       "      <td>2023-08-24 00:30:00</td>\n",
       "      <td>738.279479</td>\n",
       "      <td>186.279283</td>\n",
       "      <td>1330.866096</td>\n",
       "    </tr>\n",
       "    <tr>\n",
       "      <th>8359</th>\n",
       "      <td>2023-08-24 00:35:00</td>\n",
       "      <td>731.332906</td>\n",
       "      <td>206.258493</td>\n",
       "      <td>1316.832924</td>\n",
       "    </tr>\n",
       "    <tr>\n",
       "      <th>8360</th>\n",
       "      <td>2023-08-24 00:40:00</td>\n",
       "      <td>724.352049</td>\n",
       "      <td>150.411994</td>\n",
       "      <td>1292.288215</td>\n",
       "    </tr>\n",
       "    <tr>\n",
       "      <th>8361</th>\n",
       "      <td>2023-08-24 00:45:00</td>\n",
       "      <td>717.326853</td>\n",
       "      <td>140.279869</td>\n",
       "      <td>1261.506818</td>\n",
       "    </tr>\n",
       "    <tr>\n",
       "      <th>8362</th>\n",
       "      <td>2023-08-24 00:50:00</td>\n",
       "      <td>710.248086</td>\n",
       "      <td>169.008134</td>\n",
       "      <td>1226.258564</td>\n",
       "    </tr>\n",
       "    <tr>\n",
       "      <th>8363</th>\n",
       "      <td>2023-08-24 00:55:00</td>\n",
       "      <td>703.107424</td>\n",
       "      <td>133.879869</td>\n",
       "      <td>1261.933922</td>\n",
       "    </tr>\n",
       "  </tbody>\n",
       "</table>\n",
       "</div>"
      ],
      "text/plain": [
       "                      ds        yhat  yhat_lower   yhat_upper\n",
       "8352 2023-08-24 00:00:00  779.880479  242.651731  1360.563525\n",
       "8353 2023-08-24 00:05:00  772.895061  215.457939  1339.156219\n",
       "8354 2023-08-24 00:10:00  765.947281  252.110983  1301.865302\n",
       "8355 2023-08-24 00:15:00  759.024312  245.203919  1323.191893\n",
       "8356 2023-08-24 00:20:00  752.113514  183.893561  1308.920887\n",
       "8357 2023-08-24 00:25:00  745.202546  169.657668  1297.555653\n",
       "8358 2023-08-24 00:30:00  738.279479  186.279283  1330.866096\n",
       "8359 2023-08-24 00:35:00  731.332906  206.258493  1316.832924\n",
       "8360 2023-08-24 00:40:00  724.352049  150.411994  1292.288215\n",
       "8361 2023-08-24 00:45:00  717.326853  140.279869  1261.506818\n",
       "8362 2023-08-24 00:50:00  710.248086  169.008134  1226.258564\n",
       "8363 2023-08-24 00:55:00  703.107424  133.879869  1261.933922"
      ]
     },
     "execution_count": 263,
     "metadata": {},
     "output_type": "execute_result"
    }
   ],
   "source": [
    "forecast_flat[['ds', 'yhat', 'yhat_lower', 'yhat_upper']].tail(12)"
   ]
  },
  {
   "cell_type": "code",
   "execution_count": 264,
   "id": "7ca9fef1-059d-4432-8ae8-03707482d945",
   "metadata": {},
   "outputs": [],
   "source": [
    "y_forecast_flat = forecast_flat[['yhat']].tail(12)"
   ]
  },
  {
   "cell_type": "code",
   "execution_count": 265,
   "id": "86246b4f-edc6-4ead-b758-45c0d412593d",
   "metadata": {},
   "outputs": [
    {
     "data": {
      "text/plain": [
       "19.83406891575479"
      ]
     },
     "execution_count": 265,
     "metadata": {},
     "output_type": "execute_result"
    }
   ],
   "source": [
    "mape_result(y_actual, y_forecast_flat)"
   ]
  },
  {
   "cell_type": "code",
   "execution_count": 266,
   "id": "0708b319-57c0-4c17-8594-e5bfdbaaac2c",
   "metadata": {},
   "outputs": [
    {
     "data": {
      "image/png": "[encoded data removed]",
      "text/plain": [
       "<Figure size 1000x600 with 1 Axes>"
      ]
     },
     "metadata": {},
     "output_type": "display_data"
    }
   ],
   "source": [
    "# Visualize the predictions\n",
    "model_prophet_seasonality_flat.plot(forecast_flat)\n",
    "plt.xlabel('Date')\n",
    "plt.ylabel('Total Success Trans')\n",
    "plt.show()"
   ]
  },
  {
   "cell_type": "code",
   "execution_count": null,
   "id": "9c6a933c-ae3e-435e-9e80-dafbc6cef75a",
   "metadata": {},
   "outputs": [],
   "source": []
  },
  {
   "cell_type": "code",
   "execution_count": null,
   "id": "93d33a81-a13e-4c14-b0df-5e9a7163fe05",
   "metadata": {},
   "outputs": [],
   "source": []
  },
  {
   "cell_type": "code",
   "execution_count": null,
   "id": "110b2b2c-3f57-4393-af2f-45a8b73d6d7a",
   "metadata": {},
   "outputs": [],
   "source": []
  },
  {
   "cell_type": "code",
   "execution_count": null,
   "id": "c12e68dd-6e29-4c34-9f53-2e5732b3e313",
   "metadata": {},
   "outputs": [],
   "source": []
  },
  {
   "cell_type": "code",
   "execution_count": null,
   "id": "3258e885-5a42-4288-8176-fe5c5a907b2c",
   "metadata": {},
   "outputs": [],
   "source": []
  },
  {
   "cell_type": "code",
   "execution_count": null,
   "id": "e04df058-2992-4362-96f5-29c31bca7c39",
   "metadata": {},
   "outputs": [],
   "source": []
  }
 ],
 "metadata": {
  "environment": {
   "kernel": "python3",
   "name": "common-cpu.m109",
   "type": "gcloud",
   "uri": "gcr.io/deeplearning-platform-release/base-cpu:m109"
  },
  "kernelspec": {
   "display_name": "Python 3",
   "language": "python",
   "name": "python3"
  },
  "language_info": {
   "codemirror_mode": {
    "name": "ipython",
    "version": 3
   },
   "file_extension": ".py",
   "mimetype": "text/x-python",
   "name": "python",
   "nbconvert_exporter": "python",
   "pygments_lexer": "ipython3",
   "version": "3.10.11"
  }
 },
 "nbformat": 4,
 "nbformat_minor": 5
}
