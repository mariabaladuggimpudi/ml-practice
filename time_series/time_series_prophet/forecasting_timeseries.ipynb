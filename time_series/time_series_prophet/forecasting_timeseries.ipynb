{
 "cells": [
  {
   "cell_type": "code",
   "execution_count": 11,
   "id": "5ec77f75-39b7-4a12-9e87-2f5ef70ba04a",
   "metadata": {},
   "outputs": [],
   "source": [
    "import pandas as pd\n",
    "import itertools\n",
    "from statsmodels.tsa.arima.model import ARIMA"
   ]
  },
  {
   "cell_type": "code",
   "execution_count": 2,
   "id": "918269bc-f92e-4c5f-b5c2-dc07454f8bc6",
   "metadata": {},
   "outputs": [],
   "source": [
    "df = pd.read_csv(\"preprocessed_success_trans0725_0824.csv\", parse_dates=['Datetime'])"
   ]
  },
  {
   "cell_type": "code",
   "execution_count": 3,
   "id": "17207b48-bf4a-4278-a33e-3674ef437b75",
   "metadata": {},
   "outputs": [
    {
     "data": {
      "text/html": [
       "<div>\n",
       "<style scoped>\n",
       "    .dataframe tbody tr th:only-of-type {\n",
       "        vertical-align: middle;\n",
       "    }\n",
       "\n",
       "    .dataframe tbody tr th {\n",
       "        vertical-align: top;\n",
       "    }\n",
       "\n",
       "    .dataframe thead th {\n",
       "        text-align: right;\n",
       "    }\n",
       "</style>\n",
       "<table border=\"1\" class=\"dataframe\">\n",
       "  <thead>\n",
       "    <tr style=\"text-align: right;\">\n",
       "      <th></th>\n",
       "      <th>Datetime</th>\n",
       "      <th>success_transactions</th>\n",
       "    </tr>\n",
       "  </thead>\n",
       "  <tbody>\n",
       "    <tr>\n",
       "      <th>0</th>\n",
       "      <td>2023-07-26 00:00:00+00:00</td>\n",
       "      <td>528.0</td>\n",
       "    </tr>\n",
       "    <tr>\n",
       "      <th>1</th>\n",
       "      <td>2023-07-26 00:05:00+00:00</td>\n",
       "      <td>672.0</td>\n",
       "    </tr>\n",
       "    <tr>\n",
       "      <th>2</th>\n",
       "      <td>2023-07-26 00:10:00+00:00</td>\n",
       "      <td>770.0</td>\n",
       "    </tr>\n",
       "    <tr>\n",
       "      <th>3</th>\n",
       "      <td>2023-07-26 00:15:00+00:00</td>\n",
       "      <td>668.0</td>\n",
       "    </tr>\n",
       "    <tr>\n",
       "      <th>4</th>\n",
       "      <td>2023-07-26 00:20:00+00:00</td>\n",
       "      <td>816.0</td>\n",
       "    </tr>\n",
       "  </tbody>\n",
       "</table>\n",
       "</div>"
      ],
      "text/plain": [
       "                   Datetime  success_transactions\n",
       "0 2023-07-26 00:00:00+00:00                 528.0\n",
       "1 2023-07-26 00:05:00+00:00                 672.0\n",
       "2 2023-07-26 00:10:00+00:00                 770.0\n",
       "3 2023-07-26 00:15:00+00:00                 668.0\n",
       "4 2023-07-26 00:20:00+00:00                 816.0"
      ]
     },
     "execution_count": 3,
     "metadata": {},
     "output_type": "execute_result"
    }
   ],
   "source": [
    "df.head()"
   ]
  },
  {
   "cell_type": "code",
   "execution_count": 4,
   "id": "1287fd0f-068b-430b-9137-135476a2f07d",
   "metadata": {},
   "outputs": [
    {
     "data": {
      "text/html": [
       "<div>\n",
       "<style scoped>\n",
       "    .dataframe tbody tr th:only-of-type {\n",
       "        vertical-align: middle;\n",
       "    }\n",
       "\n",
       "    .dataframe tbody tr th {\n",
       "        vertical-align: top;\n",
       "    }\n",
       "\n",
       "    .dataframe thead th {\n",
       "        text-align: right;\n",
       "    }\n",
       "</style>\n",
       "<table border=\"1\" class=\"dataframe\">\n",
       "  <thead>\n",
       "    <tr style=\"text-align: right;\">\n",
       "      <th></th>\n",
       "      <th>Datetime</th>\n",
       "      <th>success_transactions</th>\n",
       "    </tr>\n",
       "  </thead>\n",
       "  <tbody>\n",
       "    <tr>\n",
       "      <th>8347</th>\n",
       "      <td>2023-08-23 23:35:00+00:00</td>\n",
       "      <td>757.0</td>\n",
       "    </tr>\n",
       "    <tr>\n",
       "      <th>8348</th>\n",
       "      <td>2023-08-23 23:40:00+00:00</td>\n",
       "      <td>827.0</td>\n",
       "    </tr>\n",
       "    <tr>\n",
       "      <th>8349</th>\n",
       "      <td>2023-08-23 23:45:00+00:00</td>\n",
       "      <td>913.0</td>\n",
       "    </tr>\n",
       "    <tr>\n",
       "      <th>8350</th>\n",
       "      <td>2023-08-23 23:50:00+00:00</td>\n",
       "      <td>757.0</td>\n",
       "    </tr>\n",
       "    <tr>\n",
       "      <th>8351</th>\n",
       "      <td>2023-08-23 23:55:00+00:00</td>\n",
       "      <td>726.0</td>\n",
       "    </tr>\n",
       "  </tbody>\n",
       "</table>\n",
       "</div>"
      ],
      "text/plain": [
       "                      Datetime  success_transactions\n",
       "8347 2023-08-23 23:35:00+00:00                 757.0\n",
       "8348 2023-08-23 23:40:00+00:00                 827.0\n",
       "8349 2023-08-23 23:45:00+00:00                 913.0\n",
       "8350 2023-08-23 23:50:00+00:00                 757.0\n",
       "8351 2023-08-23 23:55:00+00:00                 726.0"
      ]
     },
     "execution_count": 4,
     "metadata": {},
     "output_type": "execute_result"
    }
   ],
   "source": [
    "df.tail()"
   ]
  },
  {
   "cell_type": "code",
   "execution_count": 5,
   "id": "f1d8f4d1-8e3f-4567-a230-2331da5a4b01",
   "metadata": {},
   "outputs": [
    {
     "data": {
      "text/plain": [
       "(8352, 2)"
      ]
     },
     "execution_count": 5,
     "metadata": {},
     "output_type": "execute_result"
    }
   ],
   "source": [
    "df.shape"
   ]
  },
  {
   "cell_type": "code",
   "execution_count": 6,
   "id": "72223f12-7366-47d6-a53a-025d15437ab4",
   "metadata": {},
   "outputs": [],
   "source": [
    "df.set_index('Datetime', inplace=True)"
   ]
  },
  {
   "cell_type": "code",
   "execution_count": 7,
   "id": "f149a6e4-b586-42a6-9b67-59e44e8d39c3",
   "metadata": {},
   "outputs": [
    {
     "data": {
      "text/html": [
       "<div>\n",
       "<style scoped>\n",
       "    .dataframe tbody tr th:only-of-type {\n",
       "        vertical-align: middle;\n",
       "    }\n",
       "\n",
       "    .dataframe tbody tr th {\n",
       "        vertical-align: top;\n",
       "    }\n",
       "\n",
       "    .dataframe thead th {\n",
       "        text-align: right;\n",
       "    }\n",
       "</style>\n",
       "<table border=\"1\" class=\"dataframe\">\n",
       "  <thead>\n",
       "    <tr style=\"text-align: right;\">\n",
       "      <th></th>\n",
       "      <th>success_transactions</th>\n",
       "    </tr>\n",
       "    <tr>\n",
       "      <th>Datetime</th>\n",
       "      <th></th>\n",
       "    </tr>\n",
       "  </thead>\n",
       "  <tbody>\n",
       "    <tr>\n",
       "      <th>2023-07-26 00:00:00+00:00</th>\n",
       "      <td>528.0</td>\n",
       "    </tr>\n",
       "    <tr>\n",
       "      <th>2023-07-26 00:05:00+00:00</th>\n",
       "      <td>672.0</td>\n",
       "    </tr>\n",
       "    <tr>\n",
       "      <th>2023-07-26 00:10:00+00:00</th>\n",
       "      <td>770.0</td>\n",
       "    </tr>\n",
       "    <tr>\n",
       "      <th>2023-07-26 00:15:00+00:00</th>\n",
       "      <td>668.0</td>\n",
       "    </tr>\n",
       "    <tr>\n",
       "      <th>2023-07-26 00:20:00+00:00</th>\n",
       "      <td>816.0</td>\n",
       "    </tr>\n",
       "  </tbody>\n",
       "</table>\n",
       "</div>"
      ],
      "text/plain": [
       "                           success_transactions\n",
       "Datetime                                       \n",
       "2023-07-26 00:00:00+00:00                 528.0\n",
       "2023-07-26 00:05:00+00:00                 672.0\n",
       "2023-07-26 00:10:00+00:00                 770.0\n",
       "2023-07-26 00:15:00+00:00                 668.0\n",
       "2023-07-26 00:20:00+00:00                 816.0"
      ]
     },
     "execution_count": 7,
     "metadata": {},
     "output_type": "execute_result"
    }
   ],
   "source": [
    "df.head()"
   ]
  },
  {
   "cell_type": "code",
   "execution_count": 8,
   "id": "abd33206-886d-4640-8fca-dbf13841ea18",
   "metadata": {},
   "outputs": [],
   "source": [
    "p, d, q = [6, 12], [0], [0, 6, 12]\n",
    "p_seasonal, d_seasonal, q_seasonal = [0], [0, 1, 2], [0, 6, 12]"
   ]
  },
  {
   "cell_type": "code",
   "execution_count": null,
   "id": "c4383f51-b216-4c30-95f1-456278b97b14",
   "metadata": {},
   "outputs": [
    {
     "name": "stdout",
     "output_type": "stream",
     "text": [
      "(6, 0, 0, 0, 0, 0)\n",
      "(6, 0, 0, 0, 0, 6)\n"
     ]
    },
    {
     "name": "stderr",
     "output_type": "stream",
     "text": [
      "IOStream.flush timed out\n"
     ]
    }
   ],
   "source": [
    "%%time\n",
    "\n",
    "#count = 0\n",
    "y_preds= []\n",
    "#count = 0\n",
    "for hyperparam in list(itertools.product(p, d, q, p_seasonal, d_seasonal, q_seasonal)):\n",
    "    print(hyperparam)\n",
    "    model = ARIMA(df.asfreq('5min'),\n",
    "                  order = (hyperparam[0], hyperparam[1], hyperparam[2]),\n",
    "                  seasonal_order = (hyperparam[3], hyperparam[4], hyperparam[5], 288))\n",
    "    model = model.fit()\n",
    "    y_pred = model.forecast(24)[0:24]\n",
    "    y_preds.extend([y_pred])\n",
    "    \n",
    "    # if count == 0:\n",
    "    #     break"
   ]
  },
  {
   "cell_type": "code",
   "execution_count": 13,
   "id": "5b9674c8-6112-478e-a3af-9f19348bb86f",
   "metadata": {},
   "outputs": [
    {
     "data": {
      "text/plain": [
       "2023-08-24 00:00:00+00:00    776.396215\n",
       "2023-08-24 00:05:00+00:00    741.220390\n",
       "2023-08-24 00:10:00+00:00    742.578645\n",
       "2023-08-24 00:15:00+00:00    773.442454\n",
       "2023-08-24 00:20:00+00:00    759.476502\n",
       "2023-08-24 00:25:00+00:00    753.148092\n",
       "2023-08-24 00:30:00+00:00    762.883098\n",
       "2023-08-24 00:35:00+00:00    756.268690\n",
       "2023-08-24 00:40:00+00:00    752.293727\n",
       "2023-08-24 00:45:00+00:00    756.719742\n",
       "2023-08-24 00:50:00+00:00    754.620698\n",
       "2023-08-24 00:55:00+00:00    752.450991\n",
       "2023-08-24 01:00:00+00:00    753.948100\n",
       "2023-08-24 01:05:00+00:00    752.857810\n",
       "2023-08-24 01:10:00+00:00    751.368075\n",
       "2023-08-24 01:15:00+00:00    751.584001\n",
       "2023-08-24 01:20:00+00:00    750.888334\n",
       "2023-08-24 01:25:00+00:00    749.888678\n",
       "2023-08-24 01:30:00+00:00    749.640674\n",
       "2023-08-24 01:35:00+00:00    749.073577\n",
       "2023-08-24 01:40:00+00:00    748.312869\n",
       "2023-08-24 01:45:00+00:00    747.873653\n",
       "2023-08-24 01:50:00+00:00    747.335614\n",
       "2023-08-24 01:55:00+00:00    746.695820\n",
       "Freq: 5T, Name: predicted_mean, dtype: float64"
      ]
     },
     "execution_count": 13,
     "metadata": {},
     "output_type": "execute_result"
    }
   ],
   "source": [
    "y_preds[0]"
   ]
  },
  {
   "cell_type": "code",
   "execution_count": null,
   "id": "fc71b1c4-39d4-4d34-8c51-86988575e1ab",
   "metadata": {},
   "outputs": [],
   "source": []
  }
 ],
 "metadata": {
  "environment": {
   "kernel": "python3",
   "name": "common-cpu.m110",
   "type": "gcloud",
   "uri": "gcr.io/deeplearning-platform-release/base-cpu:m110"
  },
  "kernelspec": {
   "display_name": "Python 3",
   "language": "python",
   "name": "python3"
  },
  "language_info": {
   "codemirror_mode": {
    "name": "ipython",
    "version": 3
   },
   "file_extension": ".py",
   "mimetype": "text/x-python",
   "name": "python",
   "nbconvert_exporter": "python",
   "pygments_lexer": "ipython3",
   "version": "3.10.12"
  }
 },
 "nbformat": 4,
 "nbformat_minor": 5
}
