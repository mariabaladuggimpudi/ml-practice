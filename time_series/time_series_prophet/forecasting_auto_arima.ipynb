{
 "cells": [
  {
   "cell_type": "code",
   "execution_count": 1,
   "id": "c87a58dd-efc4-4b85-b5f6-05ab8f0e83c1",
   "metadata": {},
   "outputs": [],
   "source": [
    "#!pip install pmdarima --proxy http://fastweb.gcp.int.bell.ca:80 --no-cache-dir"
   ]
  },
  {
   "cell_type": "code",
   "execution_count": 2,
   "id": "756eee5b-8ee7-4ac4-9908-0a9a98e0cf48",
   "metadata": {},
   "outputs": [],
   "source": [
    "import pmdarima as pm\n",
    "import pandas as pd"
   ]
  },
  {
   "cell_type": "code",
   "execution_count": 3,
   "id": "66455e7a-97e8-4e66-a545-5f6298f7ad9e",
   "metadata": {},
   "outputs": [],
   "source": [
    "df = pd.read_csv(\"preprocessed_success_trans0725_0824.csv\", parse_dates=['Datetime'])"
   ]
  },
  {
   "cell_type": "code",
   "execution_count": 4,
   "id": "37499912-4eb6-4cdf-9feb-3d78b56e7640",
   "metadata": {},
   "outputs": [],
   "source": [
    "df.set_index('Datetime', inplace=True)"
   ]
  },
  {
   "cell_type": "code",
   "execution_count": 5,
   "id": "0f741644-8965-465e-93b9-a14011fb4d86",
   "metadata": {},
   "outputs": [
    {
     "data": {
      "text/html": [
       "<div>\n",
       "<style scoped>\n",
       "    .dataframe tbody tr th:only-of-type {\n",
       "        vertical-align: middle;\n",
       "    }\n",
       "\n",
       "    .dataframe tbody tr th {\n",
       "        vertical-align: top;\n",
       "    }\n",
       "\n",
       "    .dataframe thead th {\n",
       "        text-align: right;\n",
       "    }\n",
       "</style>\n",
       "<table border=\"1\" class=\"dataframe\">\n",
       "  <thead>\n",
       "    <tr style=\"text-align: right;\">\n",
       "      <th></th>\n",
       "      <th>success_transactions</th>\n",
       "    </tr>\n",
       "    <tr>\n",
       "      <th>Datetime</th>\n",
       "      <th></th>\n",
       "    </tr>\n",
       "  </thead>\n",
       "  <tbody>\n",
       "    <tr>\n",
       "      <th>2023-07-26 00:00:00+00:00</th>\n",
       "      <td>528.0</td>\n",
       "    </tr>\n",
       "    <tr>\n",
       "      <th>2023-07-26 00:05:00+00:00</th>\n",
       "      <td>672.0</td>\n",
       "    </tr>\n",
       "    <tr>\n",
       "      <th>2023-07-26 00:10:00+00:00</th>\n",
       "      <td>770.0</td>\n",
       "    </tr>\n",
       "    <tr>\n",
       "      <th>2023-07-26 00:15:00+00:00</th>\n",
       "      <td>668.0</td>\n",
       "    </tr>\n",
       "    <tr>\n",
       "      <th>2023-07-26 00:20:00+00:00</th>\n",
       "      <td>816.0</td>\n",
       "    </tr>\n",
       "  </tbody>\n",
       "</table>\n",
       "</div>"
      ],
      "text/plain": [
       "                           success_transactions\n",
       "Datetime                                       \n",
       "2023-07-26 00:00:00+00:00                 528.0\n",
       "2023-07-26 00:05:00+00:00                 672.0\n",
       "2023-07-26 00:10:00+00:00                 770.0\n",
       "2023-07-26 00:15:00+00:00                 668.0\n",
       "2023-07-26 00:20:00+00:00                 816.0"
      ]
     },
     "execution_count": 5,
     "metadata": {},
     "output_type": "execute_result"
    }
   ],
   "source": [
    "df.head()"
   ]
  },
  {
   "cell_type": "code",
   "execution_count": 6,
   "id": "c87082f1-ed72-4cf6-9770-2ace760b1be0",
   "metadata": {},
   "outputs": [],
   "source": [
    "# %%time\n",
    "\n",
    "# model=pm.auto_arima(df,start_p=0,d=1,start_q=0,\n",
    "#           max_p=3,max_d=3,max_q=3, start_P=0,\n",
    "#           D=1, start_Q=0, max_P=3,max_D=3,\n",
    "#           max_Q=3, m=12, seasonal=True,\n",
    "#           error_action='warn',trace=True,\n",
    "#           supress_warnings=True,stepwise=True,\n",
    "#           random_state=20,n_fits=50)"
   ]
  },
  {
   "cell_type": "code",
   "execution_count": null,
   "id": "d3814468-ed99-4083-a1e6-f013f4b03b76",
   "metadata": {},
   "outputs": [
    {
     "name": "stdout",
     "output_type": "stream",
     "text": [
      "Performing stepwise search to minimize aic\n"
     ]
    }
   ],
   "source": [
    "%%time\n",
    "\n",
    "model=pm.auto_arima(df,start_p=6,d=0,start_q=0,\n",
    "          max_p=12,max_d=0,max_q=12, start_P=0,\n",
    "          D=1, start_Q=0, max_P=0,max_D=3,\n",
    "          max_Q=0, m=288, seasonal=True,\n",
    "          error_action='warn',trace=True,\n",
    "          supress_warnings=True,stepwise=True,\n",
    "          random_state=20,n_fits=20)"
   ]
  },
  {
   "cell_type": "code",
   "execution_count": null,
   "id": "a0e97b31-c7e9-47f0-b3fc-357de7456589",
   "metadata": {},
   "outputs": [],
   "source": []
  }
 ],
 "metadata": {
  "environment": {
   "kernel": "python3",
   "name": "common-cpu.m110",
   "type": "gcloud",
   "uri": "gcr.io/deeplearning-platform-release/base-cpu:m110"
  },
  "kernelspec": {
   "display_name": "Python 3",
   "language": "python",
   "name": "python3"
  },
  "language_info": {
   "codemirror_mode": {
    "name": "ipython",
    "version": 3
   },
   "file_extension": ".py",
   "mimetype": "text/x-python",
   "name": "python",
   "nbconvert_exporter": "python",
   "pygments_lexer": "ipython3",
   "version": "3.10.12"
  }
 },
 "nbformat": 4,
 "nbformat_minor": 5
}
