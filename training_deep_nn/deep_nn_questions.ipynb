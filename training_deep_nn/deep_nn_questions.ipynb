{
 "cells": [
  {
   "cell_type": "markdown",
   "id": "b734bed1",
   "metadata": {},
   "source": [
    "Exercise: Build a DNN with 20 hidden layers of 100 neurons each (that's too many, but it's the point of this exercise). Use He initialization and the ELU activation function."
   ]
  },
  {
   "cell_type": "code",
   "execution_count": 1,
   "id": "0abcca68",
   "metadata": {},
   "outputs": [],
   "source": [
    "import sklearn\n",
    "assert sklearn.__version__ >= \"0.20\"\n",
    "\n",
    "try:\n",
    "    # %tensorflow_version only exists in Colab.\n",
    "    %tensorflow_version 2.x\n",
    "except Exception:\n",
    "    pass\n",
    "\n",
    "# TensorFlow ≥2.0 is required\n",
    "import tensorflow as tf\n",
    "from tensorflow import keras\n",
    "assert tf.__version__ >= \"2.0\"\n",
    "\n",
    "%load_ext tensorboard\n",
    "\n",
    "# Common imports\n",
    "import numpy as np\n",
    "import os\n",
    "\n",
    "# to make this notebook's output stable across runs\n",
    "np.random.seed(42)\n",
    "\n",
    "# To plot pretty figures\n",
    "%matplotlib inline\n",
    "import matplotlib as mpl\n",
    "import matplotlib.pyplot as plt"
   ]
  },
  {
   "cell_type": "code",
   "execution_count": 2,
   "id": "5984ef8d",
   "metadata": {},
   "outputs": [],
   "source": [
    "keras.backend.clear_session()\n",
    "tf.random.set_seed(42)\n",
    "np.random.seed(42)\n",
    "\n",
    "model = keras.models.Sequential()\n",
    "model.add(keras.layers.Flatten(input_shape=[32, 32, 3]))\n",
    "for _ in range(20):\n",
    "    model.add(keras.layers.Dense(100,\n",
    "                                 activation=\"elu\",\n",
    "                                 kernel_initializer=\"he_normal\"))"
   ]
  },
  {
   "cell_type": "markdown",
   "id": "5554e188",
   "metadata": {},
   "source": [
    "Exercise: Using Nadam optimization and early stopping, train the network on the CIFAR10 dataset. You can load it with keras.datasets.cifar10.load_data(). The dataset is composed of 60,000 32 × 32–pixel color images (50,000 for training, 10,000 for testing) with 10 classes, so you'll need a softmax output layer with 10 neurons. Remember to search for the right learning rate each time you change the model's architecture or hyperparameters."
   ]
  },
  {
   "cell_type": "code",
   "execution_count": 3,
   "id": "d7b86271",
   "metadata": {},
   "outputs": [],
   "source": [
    "model.add(keras.layers.Dense(10, activation=\"softmax\"))"
   ]
  },
  {
   "cell_type": "code",
   "execution_count": 4,
   "id": "0add5174",
   "metadata": {},
   "outputs": [],
   "source": [
    "optimizer = keras.optimizers.Nadam(learning_rate=5e-5)\n",
    "model.compile(loss=\"sparse_categorical_crossentropy\",\n",
    "              optimizer=optimizer,\n",
    "              metrics=[\"accuracy\"])"
   ]
  },
  {
   "cell_type": "code",
   "execution_count": 5,
   "id": "2f87b8e0",
   "metadata": {},
   "outputs": [],
   "source": [
    "(X_train_full, y_train_full), (X_test, y_test) = keras.datasets.cifar10.load_data()\n",
    "\n",
    "X_train = X_train_full[5000:]\n",
    "y_train = y_train_full[5000:]\n",
    "X_valid = X_train_full[:5000]\n",
    "y_valid = y_train_full[:5000]"
   ]
  },
  {
   "cell_type": "code",
   "execution_count": 6,
   "id": "a6328ae7",
   "metadata": {},
   "outputs": [],
   "source": [
    "early_stopping_cb = keras.callbacks.EarlyStopping(patience=20)\n",
    "model_checkpoint_cb = keras.callbacks.ModelCheckpoint(\"my_cifar10_model.h5\", save_best_only=True)\n",
    "run_index = 1 # increment every time you train the model\n",
    "run_logdir = os.path.join(os.curdir, \"my_cifar10_logs\", \"run_{:03d}\".format(run_index))\n",
    "tensorboard_cb = keras.callbacks.TensorBoard(run_logdir)\n",
    "callbacks = [early_stopping_cb, model_checkpoint_cb, tensorboard_cb]"
   ]
  },
  {
   "cell_type": "code",
   "execution_count": 7,
   "id": "1d10f2bf",
   "metadata": {},
   "outputs": [],
   "source": [
    "#!pip install tensorboard"
   ]
  },
  {
   "cell_type": "code",
   "execution_count": 8,
   "id": "2297267b",
   "metadata": {},
   "outputs": [],
   "source": [
    "#!pip3 show tensorboard"
   ]
  },
  {
   "cell_type": "code",
   "execution_count": 9,
   "id": "535219dd",
   "metadata": {},
   "outputs": [
    {
     "name": "stdout",
     "output_type": "stream",
     "text": [
      "The tensorboard extension is already loaded. To reload it, use:\n",
      "  %reload_ext tensorboard\n"
     ]
    }
   ],
   "source": [
    "%load_ext tensorboard"
   ]
  },
  {
   "cell_type": "code",
   "execution_count": 10,
   "id": "4266c3a6",
   "metadata": {},
   "outputs": [
    {
     "name": "stderr",
     "output_type": "stream",
     "text": [
      "kill: 6372: No such process\n"
     ]
    }
   ],
   "source": [
    "!kill 6372"
   ]
  },
  {
   "cell_type": "code",
   "execution_count": 13,
   "id": "c1a32710",
   "metadata": {
    "scrolled": true
   },
   "outputs": [
    {
     "data": {
      "text/html": [
       "\n",
       "      <iframe id=\"tensorboard-frame-71529476dd23a592\" width=\"100%\" height=\"800\" frameborder=\"0\">\n",
       "      </iframe>\n",
       "      <script>\n",
       "        (function() {\n",
       "          const frame = document.getElementById(\"tensorboard-frame-71529476dd23a592\");\n",
       "          const url = new URL(\"/\", window.location);\n",
       "          const port = 6006;\n",
       "          if (port) {\n",
       "            url.port = port;\n",
       "          }\n",
       "          frame.src = url;\n",
       "        })();\n",
       "      </script>\n",
       "    "
      ],
      "text/plain": [
       "<IPython.core.display.HTML object>"
      ]
     },
     "metadata": {},
     "output_type": "display_data"
    }
   ],
   "source": [
    "%tensorboard --logdir=c:\\\\users\\\\ma6114132\\\\PycharmProjects\\\\ml_practice\\\\training_deep_nn\\\\my_cifar10_logs --port=6006"
   ]
  },
  {
   "cell_type": "code",
   "execution_count": 12,
   "id": "389b0158",
   "metadata": {},
   "outputs": [
    {
     "name": "stdout",
     "output_type": "stream",
     "text": [
      "Epoch 1/20\n",
      "1407/1407 [==============================] - 12s 6ms/step - loss: 3.6437 - accuracy: 0.1721 - val_loss: 2.0976 - val_accuracy: 0.2402\n",
      "Epoch 2/20\n",
      "  19/1407 [..............................] - ETA: 8s - loss: 2.1282 - accuracy: 0.2188"
     ]
    },
    {
     "name": "stderr",
     "output_type": "stream",
     "text": [
      "C:\\Users\\ma6114132\\AppData\\Roaming\\Python\\Python39\\site-packages\\keras\\src\\engine\\training.py:3000: UserWarning: You are saving your model as an HDF5 file via `model.save()`. This file format is considered legacy. We recommend using instead the native Keras format, e.g. `model.save('my_model.keras')`.\n",
      "  saving_api.save_model(\n"
     ]
    },
    {
     "name": "stdout",
     "output_type": "stream",
     "text": [
      "1407/1407 [==============================] - 9s 6ms/step - loss: 2.0211 - accuracy: 0.2607 - val_loss: 1.9620 - val_accuracy: 0.2758\n",
      "Epoch 3/20\n",
      "1407/1407 [==============================] - 8s 6ms/step - loss: 1.9123 - accuracy: 0.3005 - val_loss: 1.8811 - val_accuracy: 0.2994\n",
      "Epoch 4/20\n",
      "1407/1407 [==============================] - 9s 6ms/step - loss: 1.8477 - accuracy: 0.3278 - val_loss: 1.8770 - val_accuracy: 0.3248\n",
      "Epoch 5/20\n",
      "1407/1407 [==============================] - 8s 6ms/step - loss: 1.7863 - accuracy: 0.3501 - val_loss: 1.7672 - val_accuracy: 0.3536\n",
      "Epoch 6/20\n",
      "1407/1407 [==============================] - 9s 6ms/step - loss: 1.7383 - accuracy: 0.3699 - val_loss: 1.7321 - val_accuracy: 0.3602\n",
      "Epoch 7/20\n",
      "1407/1407 [==============================] - 8s 6ms/step - loss: 1.6912 - accuracy: 0.3832 - val_loss: 1.7107 - val_accuracy: 0.3786\n",
      "Epoch 8/20\n",
      "1407/1407 [==============================] - 8s 6ms/step - loss: 1.6547 - accuracy: 0.4043 - val_loss: 1.6362 - val_accuracy: 0.4020\n",
      "Epoch 9/20\n",
      "1407/1407 [==============================] - 8s 6ms/step - loss: 1.6226 - accuracy: 0.4134 - val_loss: 1.6374 - val_accuracy: 0.4116\n",
      "Epoch 10/20\n",
      "1407/1407 [==============================] - 9s 6ms/step - loss: 1.5992 - accuracy: 0.4271 - val_loss: 1.6560 - val_accuracy: 0.3938\n",
      "Epoch 11/20\n",
      "1407/1407 [==============================] - 8s 6ms/step - loss: 1.5740 - accuracy: 0.4336 - val_loss: 1.6086 - val_accuracy: 0.4242\n",
      "Epoch 12/20\n",
      "1407/1407 [==============================] - 9s 6ms/step - loss: 1.5517 - accuracy: 0.4410 - val_loss: 1.6661 - val_accuracy: 0.4042\n",
      "Epoch 13/20\n",
      "1407/1407 [==============================] - 9s 6ms/step - loss: 1.5336 - accuracy: 0.4460 - val_loss: 1.6028 - val_accuracy: 0.4272\n",
      "Epoch 14/20\n",
      "1407/1407 [==============================] - 8s 6ms/step - loss: 1.5186 - accuracy: 0.4546 - val_loss: 1.6039 - val_accuracy: 0.4174\n",
      "Epoch 15/20\n",
      "1407/1407 [==============================] - 9s 6ms/step - loss: 1.4993 - accuracy: 0.4610 - val_loss: 1.5880 - val_accuracy: 0.4346\n",
      "Epoch 16/20\n",
      "1407/1407 [==============================] - 9s 6ms/step - loss: 1.4811 - accuracy: 0.4675 - val_loss: 1.5561 - val_accuracy: 0.4402\n",
      "Epoch 17/20\n",
      "1407/1407 [==============================] - 9s 6ms/step - loss: 1.4654 - accuracy: 0.4716 - val_loss: 1.5592 - val_accuracy: 0.4362\n",
      "Epoch 18/20\n",
      "1407/1407 [==============================] - 8s 6ms/step - loss: 1.4494 - accuracy: 0.4799 - val_loss: 1.5506 - val_accuracy: 0.4454\n",
      "Epoch 19/20\n",
      "1407/1407 [==============================] - 9s 6ms/step - loss: 1.4392 - accuracy: 0.4840 - val_loss: 1.5296 - val_accuracy: 0.4524\n",
      "Epoch 20/20\n",
      "1407/1407 [==============================] - 9s 6ms/step - loss: 1.4275 - accuracy: 0.4848 - val_loss: 1.5616 - val_accuracy: 0.4462\n"
     ]
    },
    {
     "data": {
      "text/plain": [
       "<keras.src.callbacks.History at 0x27271281460>"
      ]
     },
     "execution_count": 12,
     "metadata": {},
     "output_type": "execute_result"
    }
   ],
   "source": [
    "model.fit(X_train, y_train, epochs=20,\n",
    "          validation_data=(X_valid, y_valid),\n",
    "          callbacks=callbacks)\n"
   ]
  },
  {
   "cell_type": "markdown",
   "id": "5bd26283",
   "metadata": {},
   "source": [
    "Exercise: Now try adding Batch Normalization and compare the learning curves: Is it converging faster than before? Does it produce a better model? How does it affect training speed?\n",
    "\n",
    "The code below is very similar to the code above, with a few changes:\n",
    "\n",
    "I added a BN layer after every Dense layer (before the activation function), except for the output layer. I also added a BN layer before the first hidden layer.\n",
    "I changed the learning rate to 5e-4. I experimented with 1e-5, 3e-5, 5e-5, 1e-4, 3e-4, 5e-4, 1e-3 and 3e-3, and I chose the one with the best validation performance after 20 epochs.\n",
    "I renamed the run directories to run_bn_* and the model file name to my_cifar10_bn_model.h5"
   ]
  },
  {
   "cell_type": "code",
   "execution_count": 14,
   "id": "35e6233d",
   "metadata": {},
   "outputs": [
    {
     "name": "stdout",
     "output_type": "stream",
     "text": [
      "Epoch 1/20\n",
      "1407/1407 [==============================] - 24s 10ms/step - loss: 1.8465 - accuracy: 0.3376 - val_loss: 1.6529 - val_accuracy: 0.4118\n",
      "Epoch 2/20\n",
      "1407/1407 [==============================] - 14s 10ms/step - loss: 1.6714 - accuracy: 0.4047 - val_loss: 1.5763 - val_accuracy: 0.4436\n",
      "Epoch 3/20\n",
      "1407/1407 [==============================] - 14s 10ms/step - loss: 1.6008 - accuracy: 0.4306 - val_loss: 1.5369 - val_accuracy: 0.4496\n",
      "Epoch 4/20\n",
      "1407/1407 [==============================] - 14s 10ms/step - loss: 1.5487 - accuracy: 0.4512 - val_loss: 1.4913 - val_accuracy: 0.4658\n",
      "Epoch 5/20\n",
      "1407/1407 [==============================] - 14s 10ms/step - loss: 1.5080 - accuracy: 0.4640 - val_loss: 1.4239 - val_accuracy: 0.4916\n",
      "Epoch 6/20\n",
      "1407/1407 [==============================] - 14s 10ms/step - loss: 1.4709 - accuracy: 0.4782 - val_loss: 1.4493 - val_accuracy: 0.4830\n",
      "Epoch 7/20\n",
      "1407/1407 [==============================] - 15s 10ms/step - loss: 1.4345 - accuracy: 0.4875 - val_loss: 1.4138 - val_accuracy: 0.4918\n",
      "Epoch 8/20\n",
      "1407/1407 [==============================] - 15s 10ms/step - loss: 1.4095 - accuracy: 0.5001 - val_loss: 1.3894 - val_accuracy: 0.5046\n",
      "Epoch 9/20\n",
      "1407/1407 [==============================] - 15s 11ms/step - loss: 1.3848 - accuracy: 0.5094 - val_loss: 1.3861 - val_accuracy: 0.5046\n",
      "Epoch 10/20\n",
      "1407/1407 [==============================] - 15s 11ms/step - loss: 1.3615 - accuracy: 0.5172 - val_loss: 1.3671 - val_accuracy: 0.5146\n",
      "Epoch 11/20\n",
      "1407/1407 [==============================] - 16s 11ms/step - loss: 1.3408 - accuracy: 0.5259 - val_loss: 1.3662 - val_accuracy: 0.5174\n",
      "Epoch 12/20\n",
      "1407/1407 [==============================] - 15s 11ms/step - loss: 1.3198 - accuracy: 0.5334 - val_loss: 1.3773 - val_accuracy: 0.5076\n",
      "Epoch 13/20\n",
      "1407/1407 [==============================] - 15s 11ms/step - loss: 1.3009 - accuracy: 0.5370 - val_loss: 1.3713 - val_accuracy: 0.5132\n",
      "Epoch 14/20\n",
      "1407/1407 [==============================] - 15s 11ms/step - loss: 1.2809 - accuracy: 0.5463 - val_loss: 1.3586 - val_accuracy: 0.5222\n",
      "Epoch 15/20\n",
      "1407/1407 [==============================] - 16s 12ms/step - loss: 1.2635 - accuracy: 0.5540 - val_loss: 1.3561 - val_accuracy: 0.5290\n",
      "Epoch 16/20\n",
      "1407/1407 [==============================] - 17s 12ms/step - loss: 1.2538 - accuracy: 0.5572 - val_loss: 1.3633 - val_accuracy: 0.5200\n",
      "Epoch 17/20\n",
      "1407/1407 [==============================] - 16s 11ms/step - loss: 1.2328 - accuracy: 0.5670 - val_loss: 1.3397 - val_accuracy: 0.5256\n",
      "Epoch 18/20\n",
      "1407/1407 [==============================] - 15s 10ms/step - loss: 1.2154 - accuracy: 0.5700 - val_loss: 1.3569 - val_accuracy: 0.5348\n",
      "Epoch 19/20\n",
      "1407/1407 [==============================] - 15s 11ms/step - loss: 1.2018 - accuracy: 0.5744 - val_loss: 1.3378 - val_accuracy: 0.5298\n",
      "Epoch 20/20\n",
      "1407/1407 [==============================] - 15s 11ms/step - loss: 1.1896 - accuracy: 0.5805 - val_loss: 1.3710 - val_accuracy: 0.5208\n",
      "157/157 [==============================] - 1s 2ms/step - loss: 1.3378 - accuracy: 0.5298\n"
     ]
    },
    {
     "data": {
      "text/plain": [
       "[1.3377814292907715, 0.5297999978065491]"
      ]
     },
     "execution_count": 14,
     "metadata": {},
     "output_type": "execute_result"
    }
   ],
   "source": [
    "keras.backend.clear_session()\n",
    "tf.random.set_seed(42)\n",
    "np.random.seed(42)\n",
    "\n",
    "model = keras.models.Sequential()\n",
    "model.add(keras.layers.Flatten(input_shape=[32, 32, 3]))\n",
    "model.add(keras.layers.BatchNormalization())\n",
    "for _ in range(20):\n",
    "    model.add(keras.layers.Dense(100, kernel_initializer=\"he_normal\"))\n",
    "    model.add(keras.layers.BatchNormalization())\n",
    "    model.add(keras.layers.Activation(\"elu\"))\n",
    "model.add(keras.layers.Dense(10, activation=\"softmax\"))\n",
    "\n",
    "optimizer = keras.optimizers.Nadam(learning_rate=5e-4)\n",
    "model.compile(loss=\"sparse_categorical_crossentropy\",\n",
    "              optimizer=optimizer,\n",
    "              metrics=[\"accuracy\"])\n",
    "\n",
    "early_stopping_cb = keras.callbacks.EarlyStopping(patience=20)\n",
    "model_checkpoint_cb = keras.callbacks.ModelCheckpoint(\"my_cifar10_bn_model.h5\", save_best_only=True)\n",
    "run_index = 1 # increment every time you train the model\n",
    "run_logdir = os.path.join(os.curdir, \"my_cifar10_logs\", \"run_bn_{:03d}\".format(run_index))\n",
    "tensorboard_cb = keras.callbacks.TensorBoard(run_logdir)\n",
    "callbacks = [early_stopping_cb, model_checkpoint_cb, tensorboard_cb]\n",
    "\n",
    "model.fit(X_train, y_train, epochs=20,\n",
    "          validation_data=(X_valid, y_valid),\n",
    "          callbacks=callbacks)\n",
    "\n",
    "model = keras.models.load_model(\"my_cifar10_bn_model.h5\")\n",
    "model.evaluate(X_valid, y_valid)"
   ]
  },
  {
   "cell_type": "markdown",
   "id": "7f4818b0",
   "metadata": {},
   "source": [
    "Exercise: Try replacing Batch Normalization with SELU, and make the necessary adjustements to ensure the network self-normalizes (i.e., standardize the input features, use LeCun normal initialization, make sure the DNN contains only a sequence of dense layers, etc.)."
   ]
  },
  {
   "cell_type": "code",
   "execution_count": 16,
   "id": "fd38af84",
   "metadata": {},
   "outputs": [
    {
     "name": "stdout",
     "output_type": "stream",
     "text": [
      "Epoch 1/10\n",
      "1407/1407 [==============================] - 14s 7ms/step - loss: 1.9271 - accuracy: 0.3069 - val_loss: 1.8017 - val_accuracy: 0.3742\n",
      "Epoch 2/10\n",
      "1407/1407 [==============================] - 9s 7ms/step - loss: 1.7126 - accuracy: 0.3953 - val_loss: 1.6735 - val_accuracy: 0.4052\n",
      "Epoch 3/10\n",
      "1407/1407 [==============================] - 9s 7ms/step - loss: 1.6181 - accuracy: 0.4308 - val_loss: 1.6342 - val_accuracy: 0.4318\n",
      "Epoch 4/10\n",
      "1407/1407 [==============================] - 9s 7ms/step - loss: 1.5524 - accuracy: 0.4524 - val_loss: 1.6040 - val_accuracy: 0.4534\n",
      "Epoch 5/10\n",
      "1407/1407 [==============================] - 9s 6ms/step - loss: 1.4951 - accuracy: 0.4735 - val_loss: 1.5597 - val_accuracy: 0.4630\n",
      "Epoch 6/10\n",
      "1407/1407 [==============================] - 9s 7ms/step - loss: 1.4521 - accuracy: 0.4918 - val_loss: 1.5167 - val_accuracy: 0.4654\n",
      "Epoch 7/10\n",
      "1407/1407 [==============================] - 9s 7ms/step - loss: 1.4099 - accuracy: 0.5077 - val_loss: 1.5013 - val_accuracy: 0.4716\n",
      "Epoch 8/10\n",
      "1407/1407 [==============================] - 10s 7ms/step - loss: 1.3672 - accuracy: 0.5226 - val_loss: 1.4751 - val_accuracy: 0.4932\n",
      "Epoch 9/10\n",
      "1407/1407 [==============================] - 10s 7ms/step - loss: 1.3373 - accuracy: 0.5358 - val_loss: 1.4919 - val_accuracy: 0.4768\n",
      "Epoch 10/10\n",
      "1407/1407 [==============================] - 9s 7ms/step - loss: 1.3078 - accuracy: 0.5460 - val_loss: 1.4983 - val_accuracy: 0.4968\n",
      "157/157 [==============================] - 0s 2ms/step - loss: 1.4751 - accuracy: 0.4932\n"
     ]
    },
    {
     "data": {
      "text/plain": [
       "[1.4750993251800537, 0.49320000410079956]"
      ]
     },
     "execution_count": 16,
     "metadata": {},
     "output_type": "execute_result"
    }
   ],
   "source": [
    "keras.backend.clear_session()\n",
    "tf.random.set_seed(42)\n",
    "np.random.seed(42)\n",
    "\n",
    "model = keras.models.Sequential()\n",
    "model.add(keras.layers.Flatten(input_shape=[32, 32, 3]))\n",
    "for _ in range(20):\n",
    "    model.add(keras.layers.Dense(100,\n",
    "                                 kernel_initializer=\"lecun_normal\",\n",
    "                                 activation=\"selu\"))\n",
    "model.add(keras.layers.Dense(10, activation=\"softmax\"))\n",
    "\n",
    "optimizer = keras.optimizers.Nadam(learning_rate=7e-4)\n",
    "model.compile(loss=\"sparse_categorical_crossentropy\",\n",
    "              optimizer=optimizer,\n",
    "              metrics=[\"accuracy\"])\n",
    "\n",
    "early_stopping_cb = keras.callbacks.EarlyStopping(patience=20)\n",
    "model_checkpoint_cb = keras.callbacks.ModelCheckpoint(\"my_cifar10_selu_model.h5\", save_best_only=True)\n",
    "run_index = 1 # increment every time you train the model\n",
    "run_logdir = os.path.join(os.curdir, \"my_cifar10_logs\", \"run_selu_{:03d}\".format(run_index))\n",
    "tensorboard_cb = keras.callbacks.TensorBoard(run_logdir)\n",
    "callbacks = [early_stopping_cb, model_checkpoint_cb, tensorboard_cb]\n",
    "\n",
    "X_means = X_train.mean(axis=0)\n",
    "X_stds = X_train.std(axis=0)\n",
    "X_train_scaled = (X_train - X_means) / X_stds\n",
    "X_valid_scaled = (X_valid - X_means) / X_stds\n",
    "X_test_scaled = (X_test - X_means) / X_stds\n",
    "\n",
    "model.fit(X_train_scaled, y_train, epochs=10,\n",
    "          validation_data=(X_valid_scaled, y_valid),\n",
    "          callbacks=callbacks)\n",
    "\n",
    "model = keras.models.load_model(\"my_cifar10_selu_model.h5\")\n",
    "model.evaluate(X_valid_scaled, y_valid)"
   ]
  },
  {
   "cell_type": "markdown",
   "id": "6cec6654",
   "metadata": {},
   "source": [
    "Exercise: Try regularizing the model with alpha dropout. Then, without retraining your model, see if you can achieve better accuracy using MC Dropout."
   ]
  },
  {
   "cell_type": "code",
   "execution_count": 17,
   "id": "2d913782",
   "metadata": {},
   "outputs": [
    {
     "name": "stdout",
     "output_type": "stream",
     "text": [
      "Epoch 1/20\n",
      "1407/1407 [==============================] - 14s 7ms/step - loss: 1.8958 - accuracy: 0.3271 - val_loss: 1.7390 - val_accuracy: 0.3960\n",
      "Epoch 2/20\n",
      "1407/1407 [==============================] - 10s 7ms/step - loss: 1.6760 - accuracy: 0.4119 - val_loss: 1.6544 - val_accuracy: 0.4194\n",
      "Epoch 3/20\n",
      "1407/1407 [==============================] - 9s 7ms/step - loss: 1.5826 - accuracy: 0.4460 - val_loss: 1.6480 - val_accuracy: 0.4298\n",
      "Epoch 4/20\n",
      "1407/1407 [==============================] - 11s 8ms/step - loss: 1.5221 - accuracy: 0.4645 - val_loss: 1.6066 - val_accuracy: 0.4488\n",
      "Epoch 5/20\n",
      "1407/1407 [==============================] - 11s 8ms/step - loss: 1.4622 - accuracy: 0.4901 - val_loss: 1.5864 - val_accuracy: 0.4686\n",
      "Epoch 6/20\n",
      "1407/1407 [==============================] - 9s 7ms/step - loss: 1.4171 - accuracy: 0.5061 - val_loss: 1.5427 - val_accuracy: 0.4700\n",
      "Epoch 7/20\n",
      "1407/1407 [==============================] - 10s 7ms/step - loss: 1.3689 - accuracy: 0.5230 - val_loss: 1.5171 - val_accuracy: 0.4756\n",
      "Epoch 8/20\n",
      "1407/1407 [==============================] - 10s 7ms/step - loss: 1.3267 - accuracy: 0.5368 - val_loss: 1.4660 - val_accuracy: 0.4920\n",
      "Epoch 9/20\n",
      "1407/1407 [==============================] - 10s 7ms/step - loss: 1.2895 - accuracy: 0.5508 - val_loss: 1.5481 - val_accuracy: 0.4766\n",
      "Epoch 10/20\n",
      "1407/1407 [==============================] - 10s 7ms/step - loss: 1.2561 - accuracy: 0.5640 - val_loss: 1.5879 - val_accuracy: 0.4816\n",
      "Epoch 11/20\n",
      "1407/1407 [==============================] - 9s 7ms/step - loss: 1.2254 - accuracy: 0.5742 - val_loss: 1.5524 - val_accuracy: 0.4996\n",
      "Epoch 12/20\n",
      "1407/1407 [==============================] - 10s 7ms/step - loss: 1.1940 - accuracy: 0.5875 - val_loss: 1.5274 - val_accuracy: 0.4934\n",
      "Epoch 13/20\n",
      "1407/1407 [==============================] - 10s 7ms/step - loss: 1.1632 - accuracy: 0.5983 - val_loss: 1.6175 - val_accuracy: 0.4942\n",
      "Epoch 14/20\n",
      "1407/1407 [==============================] - 10s 7ms/step - loss: 1.1478 - accuracy: 0.6022 - val_loss: 1.5504 - val_accuracy: 0.5056\n",
      "Epoch 15/20\n",
      "1407/1407 [==============================] - 9s 7ms/step - loss: 1.1130 - accuracy: 0.6166 - val_loss: 1.6174 - val_accuracy: 0.4958\n",
      "Epoch 16/20\n",
      "1407/1407 [==============================] - 9s 6ms/step - loss: 1.0867 - accuracy: 0.6254 - val_loss: 1.7165 - val_accuracy: 0.4960\n",
      "Epoch 17/20\n",
      "1407/1407 [==============================] - 9s 7ms/step - loss: 1.0698 - accuracy: 0.6329 - val_loss: 1.6328 - val_accuracy: 0.4946\n",
      "Epoch 18/20\n",
      "1407/1407 [==============================] - 9s 7ms/step - loss: 1.0514 - accuracy: 0.6379 - val_loss: 1.6884 - val_accuracy: 0.4956\n",
      "Epoch 19/20\n",
      "1407/1407 [==============================] - 9s 7ms/step - loss: 1.0212 - accuracy: 0.6488 - val_loss: 1.7743 - val_accuracy: 0.4996\n",
      "Epoch 20/20\n",
      "1407/1407 [==============================] - 10s 7ms/step - loss: 1.0034 - accuracy: 0.6541 - val_loss: 1.6721 - val_accuracy: 0.4994\n",
      "157/157 [==============================] - 0s 1ms/step - loss: 1.4660 - accuracy: 0.4920\n"
     ]
    },
    {
     "data": {
      "text/plain": [
       "[1.4660210609436035, 0.492000013589859]"
      ]
     },
     "execution_count": 17,
     "metadata": {},
     "output_type": "execute_result"
    }
   ],
   "source": [
    "keras.backend.clear_session()\n",
    "tf.random.set_seed(42)\n",
    "np.random.seed(42)\n",
    "\n",
    "model = keras.models.Sequential()\n",
    "model.add(keras.layers.Flatten(input_shape=[32, 32, 3]))\n",
    "for _ in range(20):\n",
    "    model.add(keras.layers.Dense(100,\n",
    "                                 kernel_initializer=\"lecun_normal\",\n",
    "                                 activation=\"selu\"))\n",
    "\n",
    "model.add(keras.layers.AlphaDropout(rate=0.1))\n",
    "model.add(keras.layers.Dense(10, activation=\"softmax\"))\n",
    "\n",
    "optimizer = keras.optimizers.Nadam(learning_rate=5e-4)\n",
    "model.compile(loss=\"sparse_categorical_crossentropy\",\n",
    "              optimizer=optimizer,\n",
    "              metrics=[\"accuracy\"])\n",
    "\n",
    "early_stopping_cb = keras.callbacks.EarlyStopping(patience=20)\n",
    "model_checkpoint_cb = keras.callbacks.ModelCheckpoint(\"my_cifar10_alpha_dropout_model.h5\", save_best_only=True)\n",
    "run_index = 1 # increment every time you train the model\n",
    "run_logdir = os.path.join(os.curdir, \"my_cifar10_logs\", \"run_alpha_dropout_{:03d}\".format(run_index))\n",
    "tensorboard_cb = keras.callbacks.TensorBoard(run_logdir)\n",
    "callbacks = [early_stopping_cb, model_checkpoint_cb, tensorboard_cb]\n",
    "\n",
    "X_means = X_train.mean(axis=0)\n",
    "X_stds = X_train.std(axis=0)\n",
    "X_train_scaled = (X_train - X_means) / X_stds\n",
    "X_valid_scaled = (X_valid - X_means) / X_stds\n",
    "X_test_scaled = (X_test - X_means) / X_stds\n",
    "\n",
    "model.fit(X_train_scaled, y_train, epochs=20,\n",
    "          validation_data=(X_valid_scaled, y_valid),\n",
    "          callbacks=callbacks)\n",
    "\n",
    "model = keras.models.load_model(\"my_cifar10_alpha_dropout_model.h5\")\n",
    "model.evaluate(X_valid_scaled, y_valid)"
   ]
  },
  {
   "cell_type": "markdown",
   "id": "aeeebe45",
   "metadata": {},
   "source": [
    "Exercise: Retrain your model using 1cycle scheduling and see if it improves training speed and model accuracy."
   ]
  },
  {
   "cell_type": "code",
   "execution_count": 18,
   "id": "8d05a834",
   "metadata": {},
   "outputs": [],
   "source": [
    "keras.backend.clear_session()\n",
    "tf.random.set_seed(42)\n",
    "np.random.seed(42)\n",
    "\n",
    "model = keras.models.Sequential()\n",
    "model.add(keras.layers.Flatten(input_shape=[32, 32, 3]))\n",
    "for _ in range(20):\n",
    "    model.add(keras.layers.Dense(100,\n",
    "                                 kernel_initializer=\"lecun_normal\",\n",
    "                                 activation=\"selu\"))\n",
    "\n",
    "model.add(keras.layers.AlphaDropout(rate=0.1))\n",
    "model.add(keras.layers.Dense(10, activation=\"softmax\"))\n",
    "\n",
    "optimizer = keras.optimizers.SGD(learning_rate=1e-3)\n",
    "model.compile(loss=\"sparse_categorical_crossentropy\",\n",
    "              optimizer=optimizer,\n",
    "              metrics=[\"accuracy\"])"
   ]
  },
  {
   "cell_type": "code",
   "execution_count": 20,
   "id": "60a261aa",
   "metadata": {},
   "outputs": [],
   "source": [
    "K = keras.backend\n",
    "\n",
    "class ExponentialLearningRate(keras.callbacks.Callback):\n",
    "    def __init__(self, factor):\n",
    "        self.factor = factor\n",
    "        self.rates = []\n",
    "        self.losses = []\n",
    "    def on_batch_end(self, batch, logs):\n",
    "        self.rates.append(K.get_value(self.model.optimizer.learning_rate))\n",
    "        self.losses.append(logs[\"loss\"])\n",
    "        K.set_value(self.model.optimizer.learning_rate, self.model.optimizer.learning_rate * self.factor)\n",
    "\n",
    "def find_learning_rate(model, X, y, epochs=1, batch_size=32, min_rate=10**-5, max_rate=10):\n",
    "    init_weights = model.get_weights()\n",
    "    iterations = math.ceil(len(X) / batch_size) * epochs\n",
    "    factor = np.exp(np.log(max_rate / min_rate) / iterations)\n",
    "    init_lr = K.get_value(model.optimizer.learning_rate)\n",
    "    K.set_value(model.optimizer.learning_rate, min_rate)\n",
    "    exp_lr = ExponentialLearningRate(factor)\n",
    "    history = model.fit(X, y, epochs=epochs, batch_size=batch_size,\n",
    "                        callbacks=[exp_lr])\n",
    "    K.set_value(model.optimizer.learning_rate, init_lr)\n",
    "    model.set_weights(init_weights)\n",
    "    return exp_lr.rates, exp_lr.losses\n",
    "\n",
    "def plot_lr_vs_loss(rates, losses):\n",
    "    plt.plot(rates, losses)\n",
    "    plt.gca().set_xscale('log')\n",
    "    plt.hlines(min(losses), min(rates), max(rates))\n",
    "    plt.axis([min(rates), max(rates), min(losses), (losses[0] + min(losses)) / 2])\n",
    "    plt.xlabel(\"Learning rate\")\n",
    "    plt.ylabel(\"Loss\")"
   ]
  },
  {
   "cell_type": "code",
   "execution_count": 22,
   "id": "835bf470",
   "metadata": {},
   "outputs": [
    {
     "name": "stdout",
     "output_type": "stream",
     "text": [
      "352/352 [==============================] - 4s 9ms/step - loss: nan - accuracy: 0.1371\n"
     ]
    },
    {
     "data": {
      "text/plain": [
       "(9.999999747378752e-06,\n",
       " 9.615227699279785,\n",
       " 2.6770286560058594,\n",
       " 4.157665457044329)"
      ]
     },
     "execution_count": 22,
     "metadata": {},
     "output_type": "execute_result"
    },
    {
     "data": {
      "image/png": "[encoded data removed]",
      "text/plain": [
       "<Figure size 640x480 with 1 Axes>"
      ]
     },
     "metadata": {},
     "output_type": "display_data"
    }
   ],
   "source": [
    "import math\n",
    "batch_size = 128\n",
    "rates, losses = find_learning_rate(model, X_train_scaled, y_train, epochs=1, batch_size=batch_size)\n",
    "plot_lr_vs_loss(rates, losses)\n",
    "plt.axis([min(rates), max(rates), min(losses), (losses[0] + min(losses)) / 1.4])"
   ]
  },
  {
   "cell_type": "code",
   "execution_count": 23,
   "id": "985d5068",
   "metadata": {},
   "outputs": [],
   "source": [
    "keras.backend.clear_session()\n",
    "tf.random.set_seed(42)\n",
    "np.random.seed(42)\n",
    "\n",
    "model = keras.models.Sequential()\n",
    "model.add(keras.layers.Flatten(input_shape=[32, 32, 3]))\n",
    "for _ in range(20):\n",
    "    model.add(keras.layers.Dense(100,\n",
    "                                 kernel_initializer=\"lecun_normal\",\n",
    "                                 activation=\"selu\"))\n",
    "\n",
    "model.add(keras.layers.AlphaDropout(rate=0.1))\n",
    "model.add(keras.layers.Dense(10, activation=\"softmax\"))\n",
    "\n",
    "optimizer = keras.optimizers.SGD(learning_rate=1e-2)\n",
    "model.compile(loss=\"sparse_categorical_crossentropy\",\n",
    "              optimizer=optimizer,\n",
    "              metrics=[\"accuracy\"])"
   ]
  },
  {
   "cell_type": "code",
   "execution_count": 25,
   "id": "0d7e13f4",
   "metadata": {},
   "outputs": [],
   "source": [
    "class OneCycleScheduler(keras.callbacks.Callback):\n",
    "    def __init__(self, iterations, max_rate, start_rate=None,\n",
    "                 last_iterations=None, last_rate=None):\n",
    "        self.iterations = iterations\n",
    "        self.max_rate = max_rate\n",
    "        self.start_rate = start_rate or max_rate / 10\n",
    "        self.last_iterations = last_iterations or iterations // 10 + 1\n",
    "        self.half_iteration = (iterations - self.last_iterations) // 2\n",
    "        self.last_rate = last_rate or self.start_rate / 1000\n",
    "        self.iteration = 0\n",
    "    def _interpolate(self, iter1, iter2, rate1, rate2):\n",
    "        return ((rate2 - rate1) * (self.iteration - iter1)\n",
    "                / (iter2 - iter1) + rate1)\n",
    "    def on_batch_begin(self, batch, logs):\n",
    "        if self.iteration < self.half_iteration:\n",
    "            rate = self._interpolate(0, self.half_iteration, self.start_rate, self.max_rate)\n",
    "        elif self.iteration < 2 * self.half_iteration:\n",
    "            rate = self._interpolate(self.half_iteration, 2 * self.half_iteration,\n",
    "                                     self.max_rate, self.start_rate)\n",
    "        else:\n",
    "            rate = self._interpolate(2 * self.half_iteration, self.iterations,\n",
    "                                     self.start_rate, self.last_rate)\n",
    "        self.iteration += 1\n",
    "        K.set_value(self.model.optimizer.learning_rate, rate)"
   ]
  },
  {
   "cell_type": "code",
   "execution_count": 26,
   "id": "cae2a32d",
   "metadata": {},
   "outputs": [
    {
     "name": "stdout",
     "output_type": "stream",
     "text": [
      "Epoch 1/15\n",
      "352/352 [==============================] - 4s 8ms/step - loss: 2.0702 - accuracy: 0.2755 - val_loss: 1.7708 - val_accuracy: 0.3596\n",
      "Epoch 2/15\n",
      "352/352 [==============================] - 3s 7ms/step - loss: 1.7748 - accuracy: 0.3705 - val_loss: 1.6709 - val_accuracy: 0.4064\n",
      "Epoch 3/15\n",
      "352/352 [==============================] - 3s 8ms/step - loss: 1.6346 - accuracy: 0.4191 - val_loss: 1.6324 - val_accuracy: 0.4228\n",
      "Epoch 4/15\n",
      "352/352 [==============================] - 3s 7ms/step - loss: 1.5480 - accuracy: 0.4519 - val_loss: 1.6184 - val_accuracy: 0.4260\n",
      "Epoch 5/15\n",
      "352/352 [==============================] - 3s 7ms/step - loss: 1.4943 - accuracy: 0.4695 - val_loss: 1.6650 - val_accuracy: 0.4358\n",
      "Epoch 6/15\n",
      "352/352 [==============================] - 3s 7ms/step - loss: 1.4550 - accuracy: 0.4820 - val_loss: 1.5920 - val_accuracy: 0.4498\n",
      "Epoch 7/15\n",
      "352/352 [==============================] - 3s 7ms/step - loss: 1.4124 - accuracy: 0.4983 - val_loss: 1.6103 - val_accuracy: 0.4542\n",
      "Epoch 8/15\n",
      "352/352 [==============================] - 3s 8ms/step - loss: 1.3466 - accuracy: 0.5221 - val_loss: 1.4885 - val_accuracy: 0.4906\n",
      "Epoch 9/15\n",
      "352/352 [==============================] - 3s 8ms/step - loss: 1.2711 - accuracy: 0.5468 - val_loss: 1.5547 - val_accuracy: 0.4752\n",
      "Epoch 10/15\n",
      "352/352 [==============================] - 3s 7ms/step - loss: 1.1992 - accuracy: 0.5710 - val_loss: 1.4789 - val_accuracy: 0.5094\n",
      "Epoch 11/15\n",
      "352/352 [==============================] - 3s 7ms/step - loss: 1.1308 - accuracy: 0.5987 - val_loss: 1.5010 - val_accuracy: 0.5026\n",
      "Epoch 12/15\n",
      "352/352 [==============================] - 3s 7ms/step - loss: 1.0618 - accuracy: 0.6231 - val_loss: 1.5154 - val_accuracy: 0.5114\n",
      "Epoch 13/15\n",
      "352/352 [==============================] - 3s 8ms/step - loss: 0.9928 - accuracy: 0.6456 - val_loss: 1.5237 - val_accuracy: 0.5240\n",
      "Epoch 14/15\n",
      "352/352 [==============================] - 3s 8ms/step - loss: 0.9274 - accuracy: 0.6706 - val_loss: 1.5456 - val_accuracy: 0.5310\n",
      "Epoch 15/15\n",
      "352/352 [==============================] - 3s 8ms/step - loss: 0.8859 - accuracy: 0.6851 - val_loss: 1.5742 - val_accuracy: 0.5250\n"
     ]
    }
   ],
   "source": [
    "n_epochs = 15\n",
    "onecycle = OneCycleScheduler(math.ceil(len(X_train_scaled) / batch_size) * n_epochs, max_rate=0.05)\n",
    "history = model.fit(X_train_scaled, y_train, epochs=n_epochs, batch_size=batch_size,\n",
    "                    validation_data=(X_valid_scaled, y_valid),\n",
    "                    callbacks=[onecycle])"
   ]
  },
  {
   "cell_type": "code",
   "execution_count": null,
   "id": "146db8ec",
   "metadata": {},
   "outputs": [],
   "source": []
  }
 ],
 "metadata": {
  "kernelspec": {
   "display_name": "Python 3 (ipykernel)",
   "language": "python",
   "name": "python3"
  },
  "language_info": {
   "codemirror_mode": {
    "name": "ipython",
    "version": 3
   },
   "file_extension": ".py",
   "mimetype": "text/x-python",
   "name": "python",
   "nbconvert_exporter": "python",
   "pygments_lexer": "ipython3",
   "version": "3.9.13"
  }
 },
 "nbformat": 4,
 "nbformat_minor": 5
}
