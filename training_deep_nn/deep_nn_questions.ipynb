{
 "cells": [
  {
   "cell_type": "markdown",
   "id": "81f824dd",
   "metadata": {},
   "source": [
    "Exercise: Build a DNN with 20 hidden layers of 100 neurons each (that's too many, but it's the point of this exercise). Use He initialization and the ELU activation function."
   ]
  },
  {
   "cell_type": "code",
   "execution_count": 1,
   "id": "82172d09",
   "metadata": {},
   "outputs": [],
   "source": [
    "import sklearn\n",
    "assert sklearn.__version__ >= \"0.20\"\n",
    "\n",
    "try:\n",
    "    # %tensorflow_version only exists in Colab.\n",
    "    %tensorflow_version 2.x\n",
    "except Exception:\n",
    "    pass\n",
    "\n",
    "# TensorFlow ≥2.0 is required\n",
    "import tensorflow as tf\n",
    "from tensorflow import keras\n",
    "assert tf.__version__ >= \"2.0\"\n",
    "\n",
    "%load_ext tensorboard\n",
    "\n",
    "# Common imports\n",
    "import numpy as np\n",
    "import os\n",
    "\n",
    "# to make this notebook's output stable across runs\n",
    "np.random.seed(42)\n",
    "\n",
    "# To plot pretty figures\n",
    "%matplotlib inline\n",
    "import matplotlib as mpl\n",
    "import matplotlib.pyplot as plt"
   ]
  },
  {
   "cell_type": "code",
   "execution_count": 2,
   "id": "7c193f8e",
   "metadata": {},
   "outputs": [],
   "source": [
    "keras.backend.clear_session()\n",
    "tf.random.set_seed(42)\n",
    "np.random.seed(42)\n",
    "\n",
    "model = keras.models.Sequential()\n",
    "model.add(keras.layers.Flatten(input_shape=[32, 32, 3]))\n",
    "for _ in range(20):\n",
    "    model.add(keras.layers.Dense(100,\n",
    "                                 activation=\"elu\",\n",
    "                                 kernel_initializer=\"he_normal\"))"
   ]
  },
  {
   "cell_type": "markdown",
   "id": "2d7cdfce",
   "metadata": {},
   "source": [
    "Exercise: Using Nadam optimization and early stopping, train the network on the CIFAR10 dataset. You can load it with keras.datasets.cifar10.load_data(). The dataset is composed of 60,000 32 × 32–pixel color images (50,000 for training, 10,000 for testing) with 10 classes, so you'll need a softmax output layer with 10 neurons. Remember to search for the right learning rate each time you change the model's architecture or hyperparameters."
   ]
  },
  {
   "cell_type": "code",
   "execution_count": 3,
   "id": "aeaf4965",
   "metadata": {},
   "outputs": [],
   "source": [
    "model.add(keras.layers.Dense(10, activation=\"softmax\"))"
   ]
  },
  {
   "cell_type": "code",
   "execution_count": 4,
   "id": "dc76f82f",
   "metadata": {},
   "outputs": [],
   "source": [
    "optimizer = keras.optimizers.Nadam(learning_rate=5e-5)\n",
    "model.compile(loss=\"sparse_categorical_crossentropy\",\n",
    "              optimizer=optimizer,\n",
    "              metrics=[\"accuracy\"])"
   ]
  },
  {
   "cell_type": "code",
   "execution_count": 5,
   "id": "d03cb1b6",
   "metadata": {},
   "outputs": [],
   "source": [
    "(X_train_full, y_train_full), (X_test, y_test) = keras.datasets.cifar10.load_data()\n",
    "\n",
    "X_train = X_train_full[5000:]\n",
    "y_train = y_train_full[5000:]\n",
    "X_valid = X_train_full[:5000]\n",
    "y_valid = y_train_full[:5000]"
   ]
  },
  {
   "cell_type": "code",
   "execution_count": 6,
   "id": "828fd12e",
   "metadata": {},
   "outputs": [],
   "source": [
    "early_stopping_cb = keras.callbacks.EarlyStopping(patience=20)\n",
    "model_checkpoint_cb = keras.callbacks.ModelCheckpoint(\"my_cifar10_model.h5\", save_best_only=True)\n",
    "run_index = 1 # increment every time you train the model\n",
    "run_logdir = os.path.join(os.curdir, \"my_cifar10_logs\", \"run_{:03d}\".format(run_index))\n",
    "tensorboard_cb = keras.callbacks.TensorBoard(run_logdir)\n",
    "callbacks = [early_stopping_cb, model_checkpoint_cb, tensorboard_cb]"
   ]
  },
  {
   "cell_type": "code",
   "execution_count": 7,
   "id": "9edef4b6",
   "metadata": {},
   "outputs": [],
   "source": [
    "#!pip install tensorboard"
   ]
  },
  {
   "cell_type": "code",
   "execution_count": 8,
   "id": "7ec23260",
   "metadata": {},
   "outputs": [],
   "source": [
    "#!pip3 show tensorboard"
   ]
  },
  {
   "cell_type": "code",
   "execution_count": 9,
   "id": "78e34b11",
   "metadata": {},
   "outputs": [
    {
     "name": "stdout",
     "output_type": "stream",
     "text": [
      "The tensorboard extension is already loaded. To reload it, use:\n",
      "  %reload_ext tensorboard\n"
     ]
    }
   ],
   "source": [
    "%load_ext tensorboard"
   ]
  },
  {
   "cell_type": "code",
   "execution_count": 10,
   "id": "faf2b577",
   "metadata": {},
   "outputs": [],
   "source": []
  },
  {
   "cell_type": "code",
   "execution_count": 19,
   "id": "31cfc83b",
   "metadata": {},
   "outputs": [
    {
     "data": {
      "text/html": [
       "\n",
       "      <iframe id=\"tensorboard-frame-327149932fbe7e36\" width=\"100%\" height=\"800\" frameborder=\"0\">\n",
       "      </iframe>\n",
       "      <script>\n",
       "        (function() {\n",
       "          const frame = document.getElementById(\"tensorboard-frame-327149932fbe7e36\");\n",
       "          const url = new URL(\"/\", window.location);\n",
       "          const port = 6003;\n",
       "          if (port) {\n",
       "            url.port = port;\n",
       "          }\n",
       "          frame.src = url;\n",
       "        })();\n",
       "      </script>\n",
       "    "
      ],
      "text/plain": [
       "<IPython.core.display.HTML object>"
      ]
     },
     "metadata": {},
     "output_type": "display_data"
    }
   ],
   "source": [
    "%tensorboard --logdir=c:\\\\users\\\\ma6114132\\\\PycharmProjects\\\\ml_practice\\\\training_deep_nn\\\\my_cifar10_logs --port=6003"
   ]
  },
  {
   "cell_type": "code",
   "execution_count": 12,
   "id": "39c2556b",
   "metadata": {},
   "outputs": [
    {
     "name": "stdout",
     "output_type": "stream",
     "text": [
      "Epoch 1/100\n",
      "1407/1407 [==============================] - 13s 6ms/step - loss: 6.9431 - accuracy: 0.1715 - val_loss: 2.1839 - val_accuracy: 0.2338\n",
      "Epoch 2/100\n",
      "  18/1407 [..............................] - ETA: 8s - loss: 2.2029 - accuracy: 0.2118"
     ]
    },
    {
     "name": "stderr",
     "output_type": "stream",
     "text": [
      "C:\\Users\\ma6114132\\AppData\\Roaming\\Python\\Python39\\site-packages\\keras\\src\\engine\\training.py:3000: UserWarning: You are saving your model as an HDF5 file via `model.save()`. This file format is considered legacy. We recommend using instead the native Keras format, e.g. `model.save('my_model.keras')`.\n",
      "  saving_api.save_model(\n"
     ]
    },
    {
     "name": "stdout",
     "output_type": "stream",
     "text": [
      "1407/1407 [==============================] - 9s 6ms/step - loss: 2.1122 - accuracy: 0.2323 - val_loss: 2.1016 - val_accuracy: 0.2304\n",
      "Epoch 3/100\n",
      "1407/1407 [==============================] - 9s 6ms/step - loss: 1.9872 - accuracy: 0.2734 - val_loss: 1.9494 - val_accuracy: 0.2730\n",
      "Epoch 4/100\n",
      "1407/1407 [==============================] - 9s 6ms/step - loss: 1.9056 - accuracy: 0.2994 - val_loss: 1.9386 - val_accuracy: 0.3022\n",
      "Epoch 5/100\n",
      "1407/1407 [==============================] - 9s 6ms/step - loss: 1.8435 - accuracy: 0.3248 - val_loss: 1.8674 - val_accuracy: 0.3106\n",
      "Epoch 6/100\n",
      "1407/1407 [==============================] - 9s 6ms/step - loss: 1.7912 - accuracy: 0.3472 - val_loss: 1.7869 - val_accuracy: 0.3482\n",
      "Epoch 7/100\n",
      "1407/1407 [==============================] - 9s 6ms/step - loss: 1.7330 - accuracy: 0.3673 - val_loss: 1.7614 - val_accuracy: 0.3502\n",
      "Epoch 8/100\n",
      "1407/1407 [==============================] - 8s 6ms/step - loss: 1.6951 - accuracy: 0.3840 - val_loss: 1.7225 - val_accuracy: 0.3710\n",
      "Epoch 9/100\n",
      "1407/1407 [==============================] - 9s 6ms/step - loss: 1.6630 - accuracy: 0.3938 - val_loss: 1.6878 - val_accuracy: 0.3850\n",
      "Epoch 10/100\n",
      "1407/1407 [==============================] - 9s 6ms/step - loss: 1.6292 - accuracy: 0.4076 - val_loss: 1.7170 - val_accuracy: 0.3730\n",
      "Epoch 11/100\n",
      "1407/1407 [==============================] - 9s 6ms/step - loss: 1.6070 - accuracy: 0.4152 - val_loss: 1.7268 - val_accuracy: 0.3764\n",
      "Epoch 12/100\n",
      "1407/1407 [==============================] - 8s 6ms/step - loss: 1.5825 - accuracy: 0.4286 - val_loss: 1.6365 - val_accuracy: 0.4090\n",
      "Epoch 13/100\n",
      "1407/1407 [==============================] - 9s 6ms/step - loss: 1.5596 - accuracy: 0.4357 - val_loss: 1.6367 - val_accuracy: 0.4180\n",
      "Epoch 14/100\n",
      "1407/1407 [==============================] - 9s 6ms/step - loss: 1.5437 - accuracy: 0.4409 - val_loss: 1.6208 - val_accuracy: 0.4116\n",
      "Epoch 15/100\n",
      "1407/1407 [==============================] - 9s 6ms/step - loss: 1.5285 - accuracy: 0.4489 - val_loss: 1.5881 - val_accuracy: 0.4264\n",
      "Epoch 16/100\n",
      "1407/1407 [==============================] - 9s 6ms/step - loss: 1.5112 - accuracy: 0.4550 - val_loss: 1.5729 - val_accuracy: 0.4382\n",
      "Epoch 17/100\n",
      "1407/1407 [==============================] - 9s 6ms/step - loss: 1.4946 - accuracy: 0.4586 - val_loss: 1.5877 - val_accuracy: 0.4312\n",
      "Epoch 18/100\n",
      "1407/1407 [==============================] - 9s 6ms/step - loss: 1.4823 - accuracy: 0.4669 - val_loss: 1.5771 - val_accuracy: 0.4412\n",
      "Epoch 19/100\n",
      "1407/1407 [==============================] - 9s 6ms/step - loss: 1.4666 - accuracy: 0.4698 - val_loss: 1.5772 - val_accuracy: 0.4344\n",
      "Epoch 20/100\n",
      "1407/1407 [==============================] - 9s 6ms/step - loss: 1.4559 - accuracy: 0.4735 - val_loss: 1.6407 - val_accuracy: 0.4278\n",
      "Epoch 21/100\n",
      "1407/1407 [==============================] - 9s 6ms/step - loss: 1.4445 - accuracy: 0.4782 - val_loss: 1.5673 - val_accuracy: 0.4452\n",
      "Epoch 22/100\n",
      "1407/1407 [==============================] - 9s 6ms/step - loss: 1.4328 - accuracy: 0.4827 - val_loss: 1.5504 - val_accuracy: 0.4430\n",
      "Epoch 23/100\n",
      "1407/1407 [==============================] - 8s 6ms/step - loss: 1.4201 - accuracy: 0.4905 - val_loss: 1.5555 - val_accuracy: 0.4438\n",
      "Epoch 24/100\n",
      "1407/1407 [==============================] - 9s 6ms/step - loss: 1.4105 - accuracy: 0.4917 - val_loss: 1.5694 - val_accuracy: 0.4392\n",
      "Epoch 25/100\n",
      "1407/1407 [==============================] - 9s 6ms/step - loss: 1.3989 - accuracy: 0.4987 - val_loss: 1.5451 - val_accuracy: 0.4578\n",
      "Epoch 26/100\n",
      "1407/1407 [==============================] - 8s 6ms/step - loss: 1.3888 - accuracy: 0.5018 - val_loss: 1.5505 - val_accuracy: 0.4510\n",
      "Epoch 27/100\n",
      "1407/1407 [==============================] - 9s 6ms/step - loss: 1.3764 - accuracy: 0.5054 - val_loss: 1.5619 - val_accuracy: 0.4422\n",
      "Epoch 28/100\n",
      "1407/1407 [==============================] - 9s 6ms/step - loss: 1.3720 - accuracy: 0.5076 - val_loss: 1.5734 - val_accuracy: 0.4448\n",
      "Epoch 29/100\n",
      "1407/1407 [==============================] - 9s 6ms/step - loss: 1.3639 - accuracy: 0.5102 - val_loss: 1.5251 - val_accuracy: 0.4638\n",
      "Epoch 30/100\n",
      "1407/1407 [==============================] - 8s 6ms/step - loss: 1.3527 - accuracy: 0.5158 - val_loss: 1.5396 - val_accuracy: 0.4594\n",
      "Epoch 31/100\n",
      "1407/1407 [==============================] - 9s 6ms/step - loss: 1.3433 - accuracy: 0.5177 - val_loss: 1.5488 - val_accuracy: 0.4660\n",
      "Epoch 32/100\n",
      "1407/1407 [==============================] - 8s 6ms/step - loss: 1.3354 - accuracy: 0.5200 - val_loss: 1.5531 - val_accuracy: 0.4542\n",
      "Epoch 33/100\n",
      "1407/1407 [==============================] - 9s 6ms/step - loss: 1.3304 - accuracy: 0.5236 - val_loss: 1.5754 - val_accuracy: 0.4542\n",
      "Epoch 34/100\n",
      "1407/1407 [==============================] - 8s 6ms/step - loss: 1.3218 - accuracy: 0.5267 - val_loss: 1.5300 - val_accuracy: 0.4680\n",
      "Epoch 35/100\n",
      "1407/1407 [==============================] - 9s 6ms/step - loss: 1.3122 - accuracy: 0.5278 - val_loss: 1.5214 - val_accuracy: 0.4684\n",
      "Epoch 36/100\n",
      "1407/1407 [==============================] - 8s 6ms/step - loss: 1.3053 - accuracy: 0.5305 - val_loss: 1.5480 - val_accuracy: 0.4626\n",
      "Epoch 37/100\n",
      "1407/1407 [==============================] - 9s 6ms/step - loss: 1.2943 - accuracy: 0.5345 - val_loss: 1.5600 - val_accuracy: 0.4594\n",
      "Epoch 38/100\n",
      "1407/1407 [==============================] - 8s 6ms/step - loss: 1.2919 - accuracy: 0.5357 - val_loss: 1.5123 - val_accuracy: 0.4764\n",
      "Epoch 39/100\n",
      "1407/1407 [==============================] - 9s 6ms/step - loss: 1.2813 - accuracy: 0.5392 - val_loss: 1.5201 - val_accuracy: 0.4672\n",
      "Epoch 40/100\n",
      "1407/1407 [==============================] - 8s 6ms/step - loss: 1.2743 - accuracy: 0.5406 - val_loss: 1.5388 - val_accuracy: 0.4696\n",
      "Epoch 41/100\n",
      "1407/1407 [==============================] - 8s 6ms/step - loss: 1.2680 - accuracy: 0.5438 - val_loss: 1.5449 - val_accuracy: 0.4670\n",
      "Epoch 42/100\n",
      "1407/1407 [==============================] - 8s 6ms/step - loss: 1.2580 - accuracy: 0.5492 - val_loss: 1.5619 - val_accuracy: 0.4654\n",
      "Epoch 43/100\n",
      "1407/1407 [==============================] - 8s 6ms/step - loss: 1.2533 - accuracy: 0.5512 - val_loss: 1.5121 - val_accuracy: 0.4746\n",
      "Epoch 44/100\n",
      "1407/1407 [==============================] - 9s 6ms/step - loss: 1.2462 - accuracy: 0.5514 - val_loss: 1.5958 - val_accuracy: 0.4522\n",
      "Epoch 45/100\n",
      "1407/1407 [==============================] - 9s 6ms/step - loss: 1.2378 - accuracy: 0.5530 - val_loss: 1.5133 - val_accuracy: 0.4720\n",
      "Epoch 46/100\n",
      "1407/1407 [==============================] - 9s 6ms/step - loss: 1.2343 - accuracy: 0.5568 - val_loss: 1.5472 - val_accuracy: 0.4732\n",
      "Epoch 47/100\n",
      "1407/1407 [==============================] - 9s 6ms/step - loss: 1.2257 - accuracy: 0.5586 - val_loss: 1.5594 - val_accuracy: 0.4672\n",
      "Epoch 48/100\n",
      "1407/1407 [==============================] - 9s 6ms/step - loss: 1.2205 - accuracy: 0.5606 - val_loss: 1.5100 - val_accuracy: 0.4828\n",
      "Epoch 49/100\n",
      "1407/1407 [==============================] - 8s 6ms/step - loss: 1.2091 - accuracy: 0.5637 - val_loss: 1.5595 - val_accuracy: 0.4702\n",
      "Epoch 50/100\n",
      "1407/1407 [==============================] - 9s 6ms/step - loss: 1.2053 - accuracy: 0.5666 - val_loss: 1.5600 - val_accuracy: 0.4694\n",
      "Epoch 51/100\n",
      "1407/1407 [==============================] - 9s 6ms/step - loss: 1.1962 - accuracy: 0.5683 - val_loss: 1.5698 - val_accuracy: 0.4618\n",
      "Epoch 52/100\n",
      "1407/1407 [==============================] - 9s 6ms/step - loss: 1.1898 - accuracy: 0.5729 - val_loss: 1.5423 - val_accuracy: 0.4726\n",
      "Epoch 53/100\n",
      "1407/1407 [==============================] - 8s 6ms/step - loss: 1.1843 - accuracy: 0.5743 - val_loss: 1.5385 - val_accuracy: 0.4704\n",
      "Epoch 54/100\n",
      "1407/1407 [==============================] - 8s 6ms/step - loss: 1.1805 - accuracy: 0.5780 - val_loss: 1.5592 - val_accuracy: 0.4704\n",
      "Epoch 55/100\n",
      "1407/1407 [==============================] - 9s 6ms/step - loss: 1.1741 - accuracy: 0.5788 - val_loss: 1.5605 - val_accuracy: 0.4782\n",
      "Epoch 56/100\n",
      "1407/1407 [==============================] - 9s 6ms/step - loss: 1.1654 - accuracy: 0.5811 - val_loss: 1.5611 - val_accuracy: 0.4632\n",
      "Epoch 57/100\n",
      "1407/1407 [==============================] - 9s 6ms/step - loss: 1.1619 - accuracy: 0.5828 - val_loss: 1.5712 - val_accuracy: 0.4722\n",
      "Epoch 58/100\n"
     ]
    },
    {
     "name": "stdout",
     "output_type": "stream",
     "text": [
      "1407/1407 [==============================] - 8s 6ms/step - loss: 1.1536 - accuracy: 0.5868 - val_loss: 1.5640 - val_accuracy: 0.4752\n",
      "Epoch 59/100\n",
      "1407/1407 [==============================] - 9s 7ms/step - loss: 1.1472 - accuracy: 0.5878 - val_loss: 1.5639 - val_accuracy: 0.4854\n",
      "Epoch 60/100\n",
      "1407/1407 [==============================] - 9s 6ms/step - loss: 1.1430 - accuracy: 0.5908 - val_loss: 1.5545 - val_accuracy: 0.4756\n",
      "Epoch 61/100\n",
      "1407/1407 [==============================] - 9s 6ms/step - loss: 1.1340 - accuracy: 0.5906 - val_loss: 1.5943 - val_accuracy: 0.4696\n",
      "Epoch 62/100\n",
      "1407/1407 [==============================] - 8s 6ms/step - loss: 1.1300 - accuracy: 0.5957 - val_loss: 1.5556 - val_accuracy: 0.4776\n",
      "Epoch 63/100\n",
      "1407/1407 [==============================] - 9s 6ms/step - loss: 1.1220 - accuracy: 0.5966 - val_loss: 1.5913 - val_accuracy: 0.4752\n",
      "Epoch 64/100\n",
      "1407/1407 [==============================] - 9s 6ms/step - loss: 1.1155 - accuracy: 0.6005 - val_loss: 1.5977 - val_accuracy: 0.4672\n",
      "Epoch 65/100\n",
      "1407/1407 [==============================] - 9s 6ms/step - loss: 1.1121 - accuracy: 0.6012 - val_loss: 1.6185 - val_accuracy: 0.4712\n",
      "Epoch 66/100\n",
      "1407/1407 [==============================] - 9s 6ms/step - loss: 1.1040 - accuracy: 0.6033 - val_loss: 1.6086 - val_accuracy: 0.4724\n",
      "Epoch 67/100\n",
      "1407/1407 [==============================] - 9s 6ms/step - loss: 1.0994 - accuracy: 0.6036 - val_loss: 1.6213 - val_accuracy: 0.4764\n",
      "Epoch 68/100\n",
      "1407/1407 [==============================] - 10s 7ms/step - loss: 1.0958 - accuracy: 0.6058 - val_loss: 1.6197 - val_accuracy: 0.4682\n"
     ]
    },
    {
     "data": {
      "text/plain": [
       "<keras.src.callbacks.History at 0x1ba6833dee0>"
      ]
     },
     "execution_count": 12,
     "metadata": {},
     "output_type": "execute_result"
    }
   ],
   "source": [
    "model.fit(X_train, y_train, epochs=100,\n",
    "          validation_data=(X_valid, y_valid),\n",
    "          callbacks=callbacks)\n"
   ]
  },
  {
   "cell_type": "code",
   "execution_count": null,
   "id": "eb95146d",
   "metadata": {},
   "outputs": [],
   "source": []
  }
 ],
 "metadata": {
  "kernelspec": {
   "display_name": "Python 3 (ipykernel)",
   "language": "python",
   "name": "python3"
  },
  "language_info": {
   "codemirror_mode": {
    "name": "ipython",
    "version": 3
   },
   "file_extension": ".py",
   "mimetype": "text/x-python",
   "name": "python",
   "nbconvert_exporter": "python",
   "pygments_lexer": "ipython3",
   "version": "3.9.13"
  }
 },
 "nbformat": 4,
 "nbformat_minor": 5
}
