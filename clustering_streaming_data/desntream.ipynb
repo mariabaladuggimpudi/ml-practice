{
 "cells": [
  {
   "cell_type": "code",
   "execution_count": 2,
   "id": "08cccd78",
   "metadata": {},
   "outputs": [],
   "source": [
    "from river import cluster\n",
    "from river import stream"
   ]
  },
  {
   "cell_type": "code",
   "execution_count": null,
   "id": "964a07bd",
   "metadata": {},
   "outputs": [],
   "source": [
    "#!pip install river --user"
   ]
  },
  {
   "cell_type": "code",
   "execution_count": null,
   "id": "af9e5274",
   "metadata": {},
   "outputs": [],
   "source": []
  }
 ],
 "metadata": {
  "kernelspec": {
   "display_name": "Python 3 (ipykernel)",
   "language": "python",
   "name": "python3"
  },
  "language_info": {
   "codemirror_mode": {
    "name": "ipython",
    "version": 3
   },
   "file_extension": ".py",
   "mimetype": "text/x-python",
   "name": "python",
   "nbconvert_exporter": "python",
   "pygments_lexer": "ipython3",
   "version": "3.9.13"
  }
 },
 "nbformat": 4,
 "nbformat_minor": 5
}
